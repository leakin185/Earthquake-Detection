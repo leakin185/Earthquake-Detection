{
 "cells": [
  {
   "cell_type": "markdown",
   "metadata": {},
   "source": [
    "# Data Science and Artificial Intelligence Mini Project\n",
    "## Part 3: Model Optimization\n",
    "### Team members: Jamie Sze, Tan Jie Hui, Wang Yi"
   ]
  },
  {
   "cell_type": "markdown",
   "metadata": {},
   "source": [
    "In this section, we aim to evaluate different model optimization methods and their accuracy in this particular use case of classifying earthquake damage. To do so, we will explore the 5 methods and its effect on the accuracy of the Random Forest model. Afterwhich, we will use the most effective methods to build an optimized model to classify earthquake damage."
   ]
  },
  {
   "cell_type": "markdown",
   "metadata": {},
   "source": [
    "Overview of Implementation\n",
    "1. <a href=\"#section1\">Import Dataset</a>\n",
    "2. <a href=\"#section2\">Cleaning the Data for Model Training</a>\n",
    "3. <a href=\"#section3\">Random Tree Classifier</a>\n",
    "4. <a href=\"#section4\">Method 1: Feature Importance</a>\n",
    "5. <a href=\"#section5\">Method 2: Hyperparameter Tuning</a>\n",
    "6. <a href=\"#section6\">Method 3: Feature Engineering</a>\n",
    "7. <a href=\"#section7\">Method 4: Adaptive Boost</a>\n",
    "8. <a href=\"#section8\">Method 5: SMOTE</a>\n",
    "9. <a href=\"#section9\">Results</a>"
   ]
  },
  {
   "cell_type": "markdown",
   "metadata": {},
   "source": [
    "## <a id='section1'>Import Dataset</a>"
   ]
  },
  {
   "cell_type": "code",
   "execution_count": 1,
   "metadata": {},
   "outputs": [],
   "source": [
    "# Basic Libraries\n",
    "import numpy as np\n",
    "import pandas as pd\n",
    "import seaborn as sb\n",
    "import matplotlib.pyplot as plt # we only need pyplot\n",
    "sb.set() # set the default Seaborn style for graphics\n",
    "from scipy import stats\n",
    "import sklearn.metrics\n",
    "from sklearn import preprocessing\n",
    "from sklearn.preprocessing import OneHotEncoder\n",
    "from sklearn.model_selection import train_test_split\n",
    "from sklearn.metrics import roc_auc_score\n",
    "from sklearn.ensemble import RandomForestClassifier\n",
    "from sklearn.metrics import fbeta_score\n",
    "from sklearn.metrics import classification_report,accuracy_score"
   ]
  },
  {
   "cell_type": "code",
   "execution_count": 2,
   "metadata": {},
   "outputs": [
    {
     "data": {
      "text/html": [
       "<div>\n",
       "<style scoped>\n",
       "    .dataframe tbody tr th:only-of-type {\n",
       "        vertical-align: middle;\n",
       "    }\n",
       "\n",
       "    .dataframe tbody tr th {\n",
       "        vertical-align: top;\n",
       "    }\n",
       "\n",
       "    .dataframe thead th {\n",
       "        text-align: right;\n",
       "    }\n",
       "</style>\n",
       "<table border=\"1\" class=\"dataframe\">\n",
       "  <thead>\n",
       "    <tr style=\"text-align: right;\">\n",
       "      <th></th>\n",
       "      <th>building_id</th>\n",
       "      <th>geo_level_1_id</th>\n",
       "      <th>geo_level_2_id</th>\n",
       "      <th>geo_level_3_id</th>\n",
       "      <th>count_floors_pre_eq</th>\n",
       "      <th>age</th>\n",
       "      <th>area_percentage</th>\n",
       "      <th>height_percentage</th>\n",
       "      <th>land_surface_condition</th>\n",
       "      <th>foundation_type</th>\n",
       "      <th>...</th>\n",
       "      <th>has_secondary_use_agriculture</th>\n",
       "      <th>has_secondary_use_hotel</th>\n",
       "      <th>has_secondary_use_rental</th>\n",
       "      <th>has_secondary_use_institution</th>\n",
       "      <th>has_secondary_use_school</th>\n",
       "      <th>has_secondary_use_industry</th>\n",
       "      <th>has_secondary_use_health_post</th>\n",
       "      <th>has_secondary_use_gov_office</th>\n",
       "      <th>has_secondary_use_use_police</th>\n",
       "      <th>has_secondary_use_other</th>\n",
       "    </tr>\n",
       "  </thead>\n",
       "  <tbody>\n",
       "    <tr>\n",
       "      <th>0</th>\n",
       "      <td>802906</td>\n",
       "      <td>6</td>\n",
       "      <td>487</td>\n",
       "      <td>12198</td>\n",
       "      <td>2</td>\n",
       "      <td>30</td>\n",
       "      <td>6</td>\n",
       "      <td>5</td>\n",
       "      <td>t</td>\n",
       "      <td>r</td>\n",
       "      <td>...</td>\n",
       "      <td>0</td>\n",
       "      <td>0</td>\n",
       "      <td>0</td>\n",
       "      <td>0</td>\n",
       "      <td>0</td>\n",
       "      <td>0</td>\n",
       "      <td>0</td>\n",
       "      <td>0</td>\n",
       "      <td>0</td>\n",
       "      <td>0</td>\n",
       "    </tr>\n",
       "    <tr>\n",
       "      <th>1</th>\n",
       "      <td>28830</td>\n",
       "      <td>8</td>\n",
       "      <td>900</td>\n",
       "      <td>2812</td>\n",
       "      <td>2</td>\n",
       "      <td>10</td>\n",
       "      <td>8</td>\n",
       "      <td>7</td>\n",
       "      <td>o</td>\n",
       "      <td>r</td>\n",
       "      <td>...</td>\n",
       "      <td>0</td>\n",
       "      <td>0</td>\n",
       "      <td>0</td>\n",
       "      <td>0</td>\n",
       "      <td>0</td>\n",
       "      <td>0</td>\n",
       "      <td>0</td>\n",
       "      <td>0</td>\n",
       "      <td>0</td>\n",
       "      <td>0</td>\n",
       "    </tr>\n",
       "    <tr>\n",
       "      <th>2</th>\n",
       "      <td>94947</td>\n",
       "      <td>21</td>\n",
       "      <td>363</td>\n",
       "      <td>8973</td>\n",
       "      <td>2</td>\n",
       "      <td>10</td>\n",
       "      <td>5</td>\n",
       "      <td>5</td>\n",
       "      <td>t</td>\n",
       "      <td>r</td>\n",
       "      <td>...</td>\n",
       "      <td>0</td>\n",
       "      <td>0</td>\n",
       "      <td>0</td>\n",
       "      <td>0</td>\n",
       "      <td>0</td>\n",
       "      <td>0</td>\n",
       "      <td>0</td>\n",
       "      <td>0</td>\n",
       "      <td>0</td>\n",
       "      <td>0</td>\n",
       "    </tr>\n",
       "    <tr>\n",
       "      <th>3</th>\n",
       "      <td>590882</td>\n",
       "      <td>22</td>\n",
       "      <td>418</td>\n",
       "      <td>10694</td>\n",
       "      <td>2</td>\n",
       "      <td>10</td>\n",
       "      <td>6</td>\n",
       "      <td>5</td>\n",
       "      <td>t</td>\n",
       "      <td>r</td>\n",
       "      <td>...</td>\n",
       "      <td>0</td>\n",
       "      <td>0</td>\n",
       "      <td>0</td>\n",
       "      <td>0</td>\n",
       "      <td>0</td>\n",
       "      <td>0</td>\n",
       "      <td>0</td>\n",
       "      <td>0</td>\n",
       "      <td>0</td>\n",
       "      <td>0</td>\n",
       "    </tr>\n",
       "    <tr>\n",
       "      <th>4</th>\n",
       "      <td>201944</td>\n",
       "      <td>11</td>\n",
       "      <td>131</td>\n",
       "      <td>1488</td>\n",
       "      <td>3</td>\n",
       "      <td>30</td>\n",
       "      <td>8</td>\n",
       "      <td>9</td>\n",
       "      <td>t</td>\n",
       "      <td>r</td>\n",
       "      <td>...</td>\n",
       "      <td>0</td>\n",
       "      <td>0</td>\n",
       "      <td>0</td>\n",
       "      <td>0</td>\n",
       "      <td>0</td>\n",
       "      <td>0</td>\n",
       "      <td>0</td>\n",
       "      <td>0</td>\n",
       "      <td>0</td>\n",
       "      <td>0</td>\n",
       "    </tr>\n",
       "  </tbody>\n",
       "</table>\n",
       "<p>5 rows × 39 columns</p>\n",
       "</div>"
      ],
      "text/plain": [
       "   building_id  geo_level_1_id  geo_level_2_id  geo_level_3_id  \\\n",
       "0       802906               6             487           12198   \n",
       "1        28830               8             900            2812   \n",
       "2        94947              21             363            8973   \n",
       "3       590882              22             418           10694   \n",
       "4       201944              11             131            1488   \n",
       "\n",
       "   count_floors_pre_eq  age  area_percentage  height_percentage  \\\n",
       "0                    2   30                6                  5   \n",
       "1                    2   10                8                  7   \n",
       "2                    2   10                5                  5   \n",
       "3                    2   10                6                  5   \n",
       "4                    3   30                8                  9   \n",
       "\n",
       "  land_surface_condition foundation_type  ... has_secondary_use_agriculture  \\\n",
       "0                      t               r  ...                             0   \n",
       "1                      o               r  ...                             0   \n",
       "2                      t               r  ...                             0   \n",
       "3                      t               r  ...                             0   \n",
       "4                      t               r  ...                             0   \n",
       "\n",
       "  has_secondary_use_hotel has_secondary_use_rental  \\\n",
       "0                       0                        0   \n",
       "1                       0                        0   \n",
       "2                       0                        0   \n",
       "3                       0                        0   \n",
       "4                       0                        0   \n",
       "\n",
       "  has_secondary_use_institution has_secondary_use_school  \\\n",
       "0                             0                        0   \n",
       "1                             0                        0   \n",
       "2                             0                        0   \n",
       "3                             0                        0   \n",
       "4                             0                        0   \n",
       "\n",
       "   has_secondary_use_industry  has_secondary_use_health_post  \\\n",
       "0                           0                              0   \n",
       "1                           0                              0   \n",
       "2                           0                              0   \n",
       "3                           0                              0   \n",
       "4                           0                              0   \n",
       "\n",
       "   has_secondary_use_gov_office  has_secondary_use_use_police  \\\n",
       "0                             0                             0   \n",
       "1                             0                             0   \n",
       "2                             0                             0   \n",
       "3                             0                             0   \n",
       "4                             0                             0   \n",
       "\n",
       "   has_secondary_use_other  \n",
       "0                        0  \n",
       "1                        0  \n",
       "2                        0  \n",
       "3                        0  \n",
       "4                        0  \n",
       "\n",
       "[5 rows x 39 columns]"
      ]
     },
     "execution_count": 2,
     "metadata": {},
     "output_type": "execute_result"
    }
   ],
   "source": [
    "eqData_train1 = pd.read_csv('train_values.csv')\n",
    "eqData_train1.head()"
   ]
  },
  {
   "cell_type": "code",
   "execution_count": 3,
   "metadata": {
    "scrolled": true
   },
   "outputs": [
    {
     "data": {
      "text/html": [
       "<div>\n",
       "<style scoped>\n",
       "    .dataframe tbody tr th:only-of-type {\n",
       "        vertical-align: middle;\n",
       "    }\n",
       "\n",
       "    .dataframe tbody tr th {\n",
       "        vertical-align: top;\n",
       "    }\n",
       "\n",
       "    .dataframe thead th {\n",
       "        text-align: right;\n",
       "    }\n",
       "</style>\n",
       "<table border=\"1\" class=\"dataframe\">\n",
       "  <thead>\n",
       "    <tr style=\"text-align: right;\">\n",
       "      <th></th>\n",
       "      <th>building_id</th>\n",
       "      <th>damage_grade</th>\n",
       "    </tr>\n",
       "  </thead>\n",
       "  <tbody>\n",
       "    <tr>\n",
       "      <th>0</th>\n",
       "      <td>802906</td>\n",
       "      <td>3</td>\n",
       "    </tr>\n",
       "    <tr>\n",
       "      <th>1</th>\n",
       "      <td>28830</td>\n",
       "      <td>2</td>\n",
       "    </tr>\n",
       "    <tr>\n",
       "      <th>2</th>\n",
       "      <td>94947</td>\n",
       "      <td>3</td>\n",
       "    </tr>\n",
       "    <tr>\n",
       "      <th>3</th>\n",
       "      <td>590882</td>\n",
       "      <td>2</td>\n",
       "    </tr>\n",
       "    <tr>\n",
       "      <th>4</th>\n",
       "      <td>201944</td>\n",
       "      <td>3</td>\n",
       "    </tr>\n",
       "  </tbody>\n",
       "</table>\n",
       "</div>"
      ],
      "text/plain": [
       "   building_id  damage_grade\n",
       "0       802906             3\n",
       "1        28830             2\n",
       "2        94947             3\n",
       "3       590882             2\n",
       "4       201944             3"
      ]
     },
     "execution_count": 3,
     "metadata": {},
     "output_type": "execute_result"
    }
   ],
   "source": [
    "eqData_train2 = pd.read_csv('train_labels.csv')\n",
    "eqData_train2.head()"
   ]
  },
  {
   "cell_type": "markdown",
   "metadata": {},
   "source": [
    "Concatenate both train files into a single train dataset"
   ]
  },
  {
   "cell_type": "code",
   "execution_count": 4,
   "metadata": {},
   "outputs": [
    {
     "data": {
      "text/html": [
       "<div>\n",
       "<style scoped>\n",
       "    .dataframe tbody tr th:only-of-type {\n",
       "        vertical-align: middle;\n",
       "    }\n",
       "\n",
       "    .dataframe tbody tr th {\n",
       "        vertical-align: top;\n",
       "    }\n",
       "\n",
       "    .dataframe thead th {\n",
       "        text-align: right;\n",
       "    }\n",
       "</style>\n",
       "<table border=\"1\" class=\"dataframe\">\n",
       "  <thead>\n",
       "    <tr style=\"text-align: right;\">\n",
       "      <th></th>\n",
       "      <th>building_id</th>\n",
       "      <th>damage_grade</th>\n",
       "      <th>geo_level_1_id</th>\n",
       "      <th>geo_level_2_id</th>\n",
       "      <th>geo_level_3_id</th>\n",
       "      <th>count_floors_pre_eq</th>\n",
       "      <th>age</th>\n",
       "      <th>area_percentage</th>\n",
       "      <th>height_percentage</th>\n",
       "      <th>land_surface_condition</th>\n",
       "      <th>...</th>\n",
       "      <th>has_secondary_use_agriculture</th>\n",
       "      <th>has_secondary_use_hotel</th>\n",
       "      <th>has_secondary_use_rental</th>\n",
       "      <th>has_secondary_use_institution</th>\n",
       "      <th>has_secondary_use_school</th>\n",
       "      <th>has_secondary_use_industry</th>\n",
       "      <th>has_secondary_use_health_post</th>\n",
       "      <th>has_secondary_use_gov_office</th>\n",
       "      <th>has_secondary_use_use_police</th>\n",
       "      <th>has_secondary_use_other</th>\n",
       "    </tr>\n",
       "  </thead>\n",
       "  <tbody>\n",
       "    <tr>\n",
       "      <th>0</th>\n",
       "      <td>802906</td>\n",
       "      <td>3</td>\n",
       "      <td>6</td>\n",
       "      <td>487</td>\n",
       "      <td>12198</td>\n",
       "      <td>2</td>\n",
       "      <td>30</td>\n",
       "      <td>6</td>\n",
       "      <td>5</td>\n",
       "      <td>t</td>\n",
       "      <td>...</td>\n",
       "      <td>0</td>\n",
       "      <td>0</td>\n",
       "      <td>0</td>\n",
       "      <td>0</td>\n",
       "      <td>0</td>\n",
       "      <td>0</td>\n",
       "      <td>0</td>\n",
       "      <td>0</td>\n",
       "      <td>0</td>\n",
       "      <td>0</td>\n",
       "    </tr>\n",
       "    <tr>\n",
       "      <th>1</th>\n",
       "      <td>28830</td>\n",
       "      <td>2</td>\n",
       "      <td>8</td>\n",
       "      <td>900</td>\n",
       "      <td>2812</td>\n",
       "      <td>2</td>\n",
       "      <td>10</td>\n",
       "      <td>8</td>\n",
       "      <td>7</td>\n",
       "      <td>o</td>\n",
       "      <td>...</td>\n",
       "      <td>0</td>\n",
       "      <td>0</td>\n",
       "      <td>0</td>\n",
       "      <td>0</td>\n",
       "      <td>0</td>\n",
       "      <td>0</td>\n",
       "      <td>0</td>\n",
       "      <td>0</td>\n",
       "      <td>0</td>\n",
       "      <td>0</td>\n",
       "    </tr>\n",
       "    <tr>\n",
       "      <th>2</th>\n",
       "      <td>94947</td>\n",
       "      <td>3</td>\n",
       "      <td>21</td>\n",
       "      <td>363</td>\n",
       "      <td>8973</td>\n",
       "      <td>2</td>\n",
       "      <td>10</td>\n",
       "      <td>5</td>\n",
       "      <td>5</td>\n",
       "      <td>t</td>\n",
       "      <td>...</td>\n",
       "      <td>0</td>\n",
       "      <td>0</td>\n",
       "      <td>0</td>\n",
       "      <td>0</td>\n",
       "      <td>0</td>\n",
       "      <td>0</td>\n",
       "      <td>0</td>\n",
       "      <td>0</td>\n",
       "      <td>0</td>\n",
       "      <td>0</td>\n",
       "    </tr>\n",
       "    <tr>\n",
       "      <th>3</th>\n",
       "      <td>590882</td>\n",
       "      <td>2</td>\n",
       "      <td>22</td>\n",
       "      <td>418</td>\n",
       "      <td>10694</td>\n",
       "      <td>2</td>\n",
       "      <td>10</td>\n",
       "      <td>6</td>\n",
       "      <td>5</td>\n",
       "      <td>t</td>\n",
       "      <td>...</td>\n",
       "      <td>0</td>\n",
       "      <td>0</td>\n",
       "      <td>0</td>\n",
       "      <td>0</td>\n",
       "      <td>0</td>\n",
       "      <td>0</td>\n",
       "      <td>0</td>\n",
       "      <td>0</td>\n",
       "      <td>0</td>\n",
       "      <td>0</td>\n",
       "    </tr>\n",
       "    <tr>\n",
       "      <th>4</th>\n",
       "      <td>201944</td>\n",
       "      <td>3</td>\n",
       "      <td>11</td>\n",
       "      <td>131</td>\n",
       "      <td>1488</td>\n",
       "      <td>3</td>\n",
       "      <td>30</td>\n",
       "      <td>8</td>\n",
       "      <td>9</td>\n",
       "      <td>t</td>\n",
       "      <td>...</td>\n",
       "      <td>0</td>\n",
       "      <td>0</td>\n",
       "      <td>0</td>\n",
       "      <td>0</td>\n",
       "      <td>0</td>\n",
       "      <td>0</td>\n",
       "      <td>0</td>\n",
       "      <td>0</td>\n",
       "      <td>0</td>\n",
       "      <td>0</td>\n",
       "    </tr>\n",
       "  </tbody>\n",
       "</table>\n",
       "<p>5 rows × 40 columns</p>\n",
       "</div>"
      ],
      "text/plain": [
       "   building_id  damage_grade  geo_level_1_id  geo_level_2_id  geo_level_3_id  \\\n",
       "0       802906             3               6             487           12198   \n",
       "1        28830             2               8             900            2812   \n",
       "2        94947             3              21             363            8973   \n",
       "3       590882             2              22             418           10694   \n",
       "4       201944             3              11             131            1488   \n",
       "\n",
       "   count_floors_pre_eq  age  area_percentage  height_percentage  \\\n",
       "0                    2   30                6                  5   \n",
       "1                    2   10                8                  7   \n",
       "2                    2   10                5                  5   \n",
       "3                    2   10                6                  5   \n",
       "4                    3   30                8                  9   \n",
       "\n",
       "  land_surface_condition  ... has_secondary_use_agriculture  \\\n",
       "0                      t  ...                             0   \n",
       "1                      o  ...                             0   \n",
       "2                      t  ...                             0   \n",
       "3                      t  ...                             0   \n",
       "4                      t  ...                             0   \n",
       "\n",
       "  has_secondary_use_hotel has_secondary_use_rental  \\\n",
       "0                       0                        0   \n",
       "1                       0                        0   \n",
       "2                       0                        0   \n",
       "3                       0                        0   \n",
       "4                       0                        0   \n",
       "\n",
       "  has_secondary_use_institution has_secondary_use_school  \\\n",
       "0                             0                        0   \n",
       "1                             0                        0   \n",
       "2                             0                        0   \n",
       "3                             0                        0   \n",
       "4                             0                        0   \n",
       "\n",
       "  has_secondary_use_industry  has_secondary_use_health_post  \\\n",
       "0                          0                              0   \n",
       "1                          0                              0   \n",
       "2                          0                              0   \n",
       "3                          0                              0   \n",
       "4                          0                              0   \n",
       "\n",
       "   has_secondary_use_gov_office  has_secondary_use_use_police  \\\n",
       "0                             0                             0   \n",
       "1                             0                             0   \n",
       "2                             0                             0   \n",
       "3                             0                             0   \n",
       "4                             0                             0   \n",
       "\n",
       "   has_secondary_use_other  \n",
       "0                        0  \n",
       "1                        0  \n",
       "2                        0  \n",
       "3                        0  \n",
       "4                        0  \n",
       "\n",
       "[5 rows x 40 columns]"
      ]
     },
     "execution_count": 4,
     "metadata": {},
     "output_type": "execute_result"
    }
   ],
   "source": [
    "cols = list(pd.read_csv(\"train_values.csv\", nrows =1))\n",
    "temp = pd.read_csv('train_values.csv',usecols =[i for i in cols if i != 'building_id'])\n",
    "\n",
    "eqData_train = pd.concat([eqData_train2, temp], axis = 1)\n",
    "eqData_train.head()"
   ]
  },
  {
   "cell_type": "markdown",
   "metadata": {},
   "source": [
    "## <a id='section2'>Cleaning the Data for Model Training</a>\n",
    "Perform One Hot Encoding\n"
   ]
  },
  {
   "cell_type": "code",
   "execution_count": 5,
   "metadata": {
    "scrolled": true
   },
   "outputs": [
    {
     "name": "stdout",
     "output_type": "stream",
     "text": [
      "        building_id  damage_grade  geo_level_1_id  geo_level_2_id  \\\n",
      "0            802906             3               6             487   \n",
      "1             28830             2               8             900   \n",
      "2             94947             3              21             363   \n",
      "3            590882             2              22             418   \n",
      "4            201944             3              11             131   \n",
      "...             ...           ...             ...             ...   \n",
      "260596       688636             2              25            1335   \n",
      "260597       669485             3              17             715   \n",
      "260598       602512             3              17              51   \n",
      "260599       151409             2              26              39   \n",
      "260600       747594             3              21               9   \n",
      "\n",
      "        geo_level_3_id  count_floors_pre_eq  age  area_percentage  \\\n",
      "0                12198                    2   30                6   \n",
      "1                 2812                    2   10                8   \n",
      "2                 8973                    2   10                5   \n",
      "3                10694                    2   10                6   \n",
      "4                 1488                    3   30                8   \n",
      "...                ...                  ...  ...              ...   \n",
      "260596            1621                    1   55                6   \n",
      "260597            2060                    2    0                6   \n",
      "260598            8163                    3   55                6   \n",
      "260599            1851                    2   10               14   \n",
      "260600            9101                    3   10                7   \n",
      "\n",
      "        height_percentage  has_superstructure_adobe_mud  ...  \\\n",
      "0                       5                             1  ...   \n",
      "1                       7                             0  ...   \n",
      "2                       5                             0  ...   \n",
      "3                       5                             0  ...   \n",
      "4                       9                             1  ...   \n",
      "...                   ...                           ...  ...   \n",
      "260596                  3                             0  ...   \n",
      "260597                  5                             0  ...   \n",
      "260598                  7                             0  ...   \n",
      "260599                  6                             0  ...   \n",
      "260600                  6                             0  ...   \n",
      "\n",
      "        plan_configuration_m  plan_configuration_n  plan_configuration_o  \\\n",
      "0                          0                     0                     0   \n",
      "1                          0                     0                     0   \n",
      "2                          0                     0                     0   \n",
      "3                          0                     0                     0   \n",
      "4                          0                     0                     0   \n",
      "...                      ...                   ...                   ...   \n",
      "260596                     0                     0                     0   \n",
      "260597                     0                     0                     0   \n",
      "260598                     0                     0                     0   \n",
      "260599                     0                     0                     0   \n",
      "260600                     0                     0                     0   \n",
      "\n",
      "        plan_configuration_q  plan_configuration_s  plan_configuration_u  \\\n",
      "0                          0                     0                     0   \n",
      "1                          0                     0                     0   \n",
      "2                          0                     0                     0   \n",
      "3                          0                     0                     0   \n",
      "4                          0                     0                     0   \n",
      "...                      ...                   ...                   ...   \n",
      "260596                     1                     0                     0   \n",
      "260597                     0                     0                     0   \n",
      "260598                     0                     0                     0   \n",
      "260599                     0                     0                     0   \n",
      "260600                     0                     0                     0   \n",
      "\n",
      "        legal_ownership_status_a  legal_ownership_status_r  \\\n",
      "0                              0                         0   \n",
      "1                              0                         0   \n",
      "2                              0                         0   \n",
      "3                              0                         0   \n",
      "4                              0                         0   \n",
      "...                          ...                       ...   \n",
      "260596                         0                         0   \n",
      "260597                         0                         0   \n",
      "260598                         0                         0   \n",
      "260599                         0                         0   \n",
      "260600                         0                         0   \n",
      "\n",
      "        legal_ownership_status_v  legal_ownership_status_w  \n",
      "0                              1                         0  \n",
      "1                              1                         0  \n",
      "2                              1                         0  \n",
      "3                              1                         0  \n",
      "4                              1                         0  \n",
      "...                          ...                       ...  \n",
      "260596                         1                         0  \n",
      "260597                         1                         0  \n",
      "260598                         1                         0  \n",
      "260599                         1                         0  \n",
      "260600                         1                         0  \n",
      "\n",
      "[260601 rows x 70 columns]\n"
     ]
    }
   ],
   "source": [
    "categoricalcolumns = [\"land_surface_condition\", \"foundation_type\",\"roof_type\",\"ground_floor_type\",\"other_floor_type\",\"position\",\"plan_configuration\", \"legal_ownership_status\"]\n",
    "eqData_train = pd.get_dummies(eqData_train, columns= categoricalcolumns, prefix= categoricalcolumns)\n",
    "print(eqData_train)"
   ]
  },
  {
   "cell_type": "markdown",
   "metadata": {},
   "source": [
    "Drop 'building_id' from the dataset, and perform train_test_split."
   ]
  },
  {
   "cell_type": "code",
   "execution_count": 6,
   "metadata": {},
   "outputs": [],
   "source": [
    "TEST_SIZE = 0.2\n",
    "\n",
    "filteredData1 = eqData_train\n",
    "\n",
    "filteredData1 = eqData_train.drop(['building_id'], axis=1)\n",
    "train_df, test_df = train_test_split(filteredData1, stratify=filteredData1['damage_grade'], test_size=TEST_SIZE)\n",
    "\n",
    "train_X = train_df.drop(\"damage_grade\", axis=1)\n",
    "train_Y = train_df[\"damage_grade\"]\n",
    "test_X = test_df.drop(\"damage_grade\", axis=1)\n",
    "test_Y = test_df[\"damage_grade\"]"
   ]
  },
  {
   "cell_type": "markdown",
   "metadata": {},
   "source": [
    "## <a id='section3'>Random Tree Classifier</a>\n",
    "In our previous analysis, we have selected the model \"Random Forest Classifier\" as our classification model. \n",
    "Now let's try to optimize this model to give us a higher accuracy in classification."
   ]
  },
  {
   "cell_type": "code",
   "execution_count": 7,
   "metadata": {},
   "outputs": [
    {
     "name": "stdout",
     "output_type": "stream",
     "text": [
      "[2 2 2 ... 2 2 2]\n",
      "The standard accuracy score is:  0.7087930009017479\n",
      "The recall score is:  0.7087930009017479\n",
      "The matthew's correlation coefficient is:  0.4560403633812692\n"
     ]
    },
    {
     "data": {
      "image/png": "[encoded data removed]",
      "text/plain": [
       "<Figure size 720x504 with 2 Axes>"
      ]
     },
     "metadata": {},
     "output_type": "display_data"
    }
   ],
   "source": [
    "clf = RandomForestClassifier(n_jobs=4, \n",
    "                             random_state=0,\n",
    "                             criterion=\"gini\",\n",
    "                             n_estimators=50,\n",
    "                             verbose=False)\n",
    "\n",
    "clf.fit(train_X, train_Y.values)\n",
    "preds = clf.predict(test_X)\n",
    "print(preds)\n",
    "\n",
    "print(\"The standard accuracy score is: \", accuracy_score(test_Y.values, preds))\n",
    "print(\"The recall score is: \", sklearn.metrics.recall_score(test_Y.values, preds, average='micro'))\n",
    "print(\"The matthew's correlation coefficient is: \", sklearn.metrics.matthews_corrcoef(test_Y.values, preds))\n",
    "\n",
    "cm = pd.crosstab(test_Y.values, preds, rownames=['Actual'], colnames=['Predicted'])\n",
    "\n",
    "#heat map for confusion matrix\n",
    "fig, ax = plt.subplots(figsize=(10,7))\n",
    "sb.heatmap(cm, annot=True, fmt='d')\n",
    "plt.show()"
   ]
  },
  {
   "cell_type": "code",
   "execution_count": 8,
   "metadata": {},
   "outputs": [
    {
     "name": "stdout",
     "output_type": "stream",
     "text": [
      "----------F1 Score--------\n",
      "TRAIN: 0.986636607828089\n",
      "TEST : 0.7087930009017479\n"
     ]
    }
   ],
   "source": [
    "# PRINT F1 SCORE\n",
    "from sklearn.metrics import f1_score\n",
    "print(\"----------F1 Score--------\")\n",
    "train_predictions = clf.predict(train_X)\n",
    "print(\"TRAIN:\", f1_score(train_Y, train_predictions, average='micro'))\n",
    "test_predictions = clf.predict(test_X)\n",
    "print(\"TEST :\", f1_score(test_Y, test_predictions, average='micro'))"
   ]
  },
  {
   "cell_type": "markdown",
   "metadata": {},
   "source": [
    "## <a id='section4'>Method 1: Feature Importance</a>\n",
    "As there are many variables and not all of them are useful for building the model, we select the subset of the most important variables for model optimization"
   ]
  },
  {
   "cell_type": "code",
   "execution_count": 9,
   "metadata": {},
   "outputs": [
    {
     "data": {
      "image/png": "[encoded data removed]",
      "text/plain": [
       "<Figure size 1440x1440 with 1 Axes>"
      ]
     },
     "metadata": {},
     "output_type": "display_data"
    }
   ],
   "source": [
    "tmp = pd.DataFrame({'Feature': train_X.columns, 'Feature importance': clf.feature_importances_})\n",
    "tmp1 = tmp.sort_values(by='Feature importance',ascending=False)\n",
    "plt.figure(figsize = (20,20))\n",
    "plt.title('Features importance',fontsize=8)\n",
    "s = sb.barplot(x='Feature',y='Feature importance',data=tmp1)\n",
    "s.set_xticklabels(s.get_xticklabels(),rotation=90)\n",
    "plt.show()"
   ]
  },
  {
   "cell_type": "code",
   "execution_count": 18,
   "metadata": {},
   "outputs": [
    {
     "name": "stdout",
     "output_type": "stream",
     "text": [
      "    Feature importance\n",
      "2             0.153316\n",
      "1             0.135631\n",
      "0             0.134848\n",
      "4             0.121786\n",
      "5             0.110850\n",
      "..                 ...\n",
      "26            0.000054\n",
      "58            0.000037\n",
      "27            0.000037\n",
      "28            0.000030\n",
      "57            0.000017\n",
      "\n",
      "[68 rows x 1 columns]\n",
      "                          Feature\n",
      "2                  geo_level_3_id\n",
      "1                  geo_level_2_id\n",
      "0                  geo_level_1_id\n",
      "4                             age\n",
      "5                 area_percentage\n",
      "..                            ...\n",
      "26  has_secondary_use_health_post\n",
      "58           plan_configuration_m\n",
      "27   has_secondary_use_gov_office\n",
      "28   has_secondary_use_use_police\n",
      "57           plan_configuration_f\n",
      "\n",
      "[68 rows x 1 columns]\n"
     ]
    }
   ],
   "source": [
    "# List of features sorted from most to least important\n",
    "sorted_importances = pd.DataFrame(tmp1['Feature importance'])\n",
    "sorted_features = pd.DataFrame(tmp1['Feature'])\n",
    "print(sorted_importances)\n",
    "print(sorted_features)"
   ]
  },
  {
   "cell_type": "code",
   "execution_count": 19,
   "metadata": {},
   "outputs": [
    {
     "data": {
      "text/plain": [
       "<matplotlib.collections.LineCollection at 0x1a219f6290>"
      ]
     },
     "execution_count": 19,
     "metadata": {},
     "output_type": "execute_result"
    },
    {
     "data": {
      "image/png": "[encoded data removed]",
      "text/plain": [
       "<Figure size 2160x720 with 1 Axes>"
      ]
     },
     "metadata": {},
     "output_type": "display_data"
    }
   ],
   "source": [
    "importance = clf.feature_importances_\n",
    "\n",
    "featurelist = []\n",
    "for c in train_X.columns:\n",
    "    featurelist.append(c)\n",
    "\n",
    "indices = np.argsort(importance)\n",
    "cumulativeimpt= np.cumsum(importance)\n",
    "featurerank = [featurelist[i] for i in indices]\n",
    "\n",
    "\n",
    "plt.figure(figsize=(30,10))\n",
    "plt.plot(featurerank, cumulativeimpt, 'g-')\n",
    "plt.xticks(featurerank, rotation = 'vertical')\n",
    "plt.xlabel('Feature')\n",
    "plt.ylabel('Cumulative Importance')\n",
    "plt.title('Cumulative Importances')\n",
    "\n",
    "plt.hlines(y = 0.95, xmin=0, xmax=len(sorted_importances), color = 'r', linestyles = 'dashed')"
   ]
  },
  {
   "cell_type": "code",
   "execution_count": 20,
   "metadata": {},
   "outputs": [
    {
     "name": "stdout",
     "output_type": "stream",
     "text": [
      "Number of features for 95% importance: 21\n"
     ]
    }
   ],
   "source": [
    "countimpt = 0\n",
    "for i in cumulativeimpt:\n",
    "    if i >= 0.95:\n",
    "        countimpt += 1\n",
    "    \n",
    "print('Number of features for 95% importance:', countimpt)"
   ]
  },
  {
   "cell_type": "code",
   "execution_count": 21,
   "metadata": {},
   "outputs": [
    {
     "name": "stdout",
     "output_type": "stream",
     "text": [
      "[                                   Feature\n",
      "2                           geo_level_3_id\n",
      "1                           geo_level_2_id\n",
      "0                           geo_level_1_id\n",
      "4                                      age\n",
      "5                          area_percentage\n",
      "6                        height_percentage\n",
      "18                          count_families\n",
      "35                       foundation_type_r\n",
      "3                      count_floors_pre_eq\n",
      "43                     ground_floor_type_v\n",
      "8      has_superstructure_mud_mortar_stone\n",
      "13               has_superstructure_timber\n",
      "32                land_surface_condition_t\n",
      "12  has_superstructure_cement_mortar_brick\n",
      "30                land_surface_condition_n\n",
      "7             has_superstructure_adobe_mud\n",
      "52                              position_s\n",
      "41                     ground_floor_type_f\n",
      "19                       has_secondary_use\n",
      "38                             roof_type_n\n",
      "39                             roof_type_q]\n"
     ]
    }
   ],
   "source": [
    "# Extract the names of the most important features\n",
    "important_feature_names = [sorted_features[0:21]] \n",
    "print (important_feature_names)"
   ]
  },
  {
   "cell_type": "markdown",
   "metadata": {},
   "source": [
    "Train the model based on the these selected features"
   ]
  },
  {
   "cell_type": "code",
   "execution_count": 22,
   "metadata": {},
   "outputs": [],
   "source": [
    "train_X_new = train_X[['geo_level_3_id' , 'geo_level_2_id', 'geo_level_1_id' , 'age', 'area_percentage', 'height_percentage' , 'count_families', 'foundation_type_r','count_floors_pre_eq', 'has_superstructure_mud_mortar_stone', 'has_superstructure_timber','ground_floor_type_v','land_surface_condition_t','land_surface_condition_n','position_s','has_superstructure_adobe_mud','has_superstructure_cement_mortar_brick','ground_floor_type_f','has_secondary_use','roof_type_n','roof_type_q']]\n",
    "test_X_new = test_X[['geo_level_3_id' , 'geo_level_2_id', 'geo_level_1_id' , 'age', 'area_percentage', 'height_percentage' , 'count_families', 'foundation_type_r','count_floors_pre_eq', 'has_superstructure_mud_mortar_stone', 'has_superstructure_timber','ground_floor_type_v','land_surface_condition_t','land_surface_condition_n','position_s','has_superstructure_adobe_mud','has_superstructure_cement_mortar_brick','ground_floor_type_f','has_secondary_use','roof_type_n','roof_type_q']]"
   ]
  },
  {
   "cell_type": "code",
   "execution_count": 23,
   "metadata": {},
   "outputs": [
    {
     "name": "stdout",
     "output_type": "stream",
     "text": [
      "[2 2 2 ... 3 2 2]\n",
      "The standard accuracy score is:  0.7104238214922968\n",
      "The recall score is:  0.7104238214922968\n",
      "The matthew's correlation coefficient is:  0.4596135678471123\n"
     ]
    },
    {
     "data": {
      "image/png": "[encoded data removed]",
      "text/plain": [
       "<Figure size 720x504 with 2 Axes>"
      ]
     },
     "metadata": {},
     "output_type": "display_data"
    }
   ],
   "source": [
    "clf = RandomForestClassifier(n_jobs=4, \n",
    "                             random_state=0,\n",
    "                             criterion=\"gini\",\n",
    "                             n_estimators=50,\n",
    "                             verbose=False)\n",
    "\n",
    "clf.fit(train_X_new, train_Y.values)\n",
    "preds = clf.predict(test_X_new)\n",
    "print(preds)\n",
    "\n",
    "print(\"The standard accuracy score is: \", accuracy_score(test_Y.values, preds))\n",
    "print(\"The recall score is: \", sklearn.metrics.recall_score(test_Y.values, preds, average='micro'))\n",
    "print(\"The matthew's correlation coefficient is: \", sklearn.metrics.matthews_corrcoef(test_Y.values, preds))\n",
    "\n",
    "cm = pd.crosstab(test_Y.values, preds, rownames=['Actual'], colnames=['Predicted'])\n",
    "\n",
    "#heat map for confusion matrix\n",
    "fig, ax = plt.subplots(figsize=(10,7))\n",
    "sb.heatmap(cm, annot=True, fmt='d')\n",
    "plt.show()"
   ]
  },
  {
   "cell_type": "markdown",
   "metadata": {},
   "source": [
    "The accuracy of the model has improved with feature selection"
   ]
  },
  {
   "cell_type": "markdown",
   "metadata": {},
   "source": [
    "## <a id='section5'>Method 2: Hyperparameter Tuning</a>"
   ]
  },
  {
   "cell_type": "code",
   "execution_count": 24,
   "metadata": {},
   "outputs": [
    {
     "name": "stdout",
     "output_type": "stream",
     "text": [
      "Parameters currently in use:\n",
      "\n",
      "{'bootstrap': True,\n",
      " 'ccp_alpha': 0.0,\n",
      " 'class_weight': None,\n",
      " 'criterion': 'gini',\n",
      " 'max_depth': None,\n",
      " 'max_features': 'auto',\n",
      " 'max_leaf_nodes': None,\n",
      " 'max_samples': None,\n",
      " 'min_impurity_decrease': 0.0,\n",
      " 'min_impurity_split': None,\n",
      " 'min_samples_leaf': 1,\n",
      " 'min_samples_split': 2,\n",
      " 'min_weight_fraction_leaf': 0.0,\n",
      " 'n_estimators': 50,\n",
      " 'n_jobs': 4,\n",
      " 'oob_score': False,\n",
      " 'random_state': 0,\n",
      " 'verbose': False,\n",
      " 'warm_start': False}\n"
     ]
    }
   ],
   "source": [
    "from sklearn.ensemble import RandomForestRegressor\n",
    "from pprint import pprint\n",
    "# Look at parameters used by our current forest\n",
    "print('Parameters currently in use:\\n')\n",
    "pprint(clf.get_params())"
   ]
  },
  {
   "cell_type": "markdown",
   "metadata": {},
   "source": [
    "After exploration of the different hyperparameters, we have decided to focus on tuning the most important primary hyperparameters\n",
    "1. max_depth\n",
    "2. n_estimators\n",
    "3. min_samples_leaf\n",
    "4. min_samples_split\n",
    "5. max_features\n",
    "\n",
    "These are the hyperparameters in the model which we can adjust to build the optimum model for the dataset."
   ]
  },
  {
   "cell_type": "code",
   "execution_count": 2,
   "metadata": {},
   "outputs": [
    {
     "name": "stdout",
     "output_type": "stream",
     "text": [
      "RandomForestClassifier(bootstrap=True, ccp_alpha=0.0, class_weight=None,\n",
      "                       criterion='gini', max_depth=None, max_features='auto',\n",
      "                       max_leaf_nodes=None, max_samples=None,\n",
      "                       min_impurity_decrease=0.0, min_impurity_split=None,\n",
      "                       min_samples_leaf=1, min_samples_split=2,\n",
      "                       min_weight_fraction_leaf=0.0, n_estimators=100,\n",
      "                       n_jobs=None, oob_score=False, random_state=None,\n",
      "                       verbose=0, warm_start=False)\n",
      "RandomForestRegressor(bootstrap=True, ccp_alpha=0.0, criterion='mse',\n",
      "                      max_depth=None, max_features='auto', max_leaf_nodes=None,\n",
      "                      max_samples=None, min_impurity_decrease=0.0,\n",
      "                      min_impurity_split=None, min_samples_leaf=1,\n",
      "                      min_samples_split=2, min_weight_fraction_leaf=0.0,\n",
      "                      n_estimators=100, n_jobs=None, oob_score=False,\n",
      "                      random_state=None, verbose=0, warm_start=False)\n"
     ]
    }
   ],
   "source": [
    "from sklearn.ensemble import RandomForestClassifier,RandomForestRegressor\n",
    "print(RandomForestClassifier())\n",
    "print(RandomForestRegressor())"
   ]
  },
  {
   "cell_type": "code",
   "execution_count": 21,
   "metadata": {},
   "outputs": [],
   "source": [
    "rfc = RandomForestClassifier()\n",
    "parameters = {\n",
    "    \"n_estimators\":[5,10,50,100,250],\n",
    "    \"max_depth\":[2,4,8,16,32,None]\n",
    "}"
   ]
  },
  {
   "cell_type": "code",
   "execution_count": 29,
   "metadata": {},
   "outputs": [
    {
     "data": {
      "text/plain": [
       "GridSearchCV(cv=5, error_score=nan,\n",
       "             estimator=RandomForestClassifier(bootstrap=True, ccp_alpha=0.0,\n",
       "                                              class_weight=None,\n",
       "                                              criterion='gini', max_depth=None,\n",
       "                                              max_features='auto',\n",
       "                                              max_leaf_nodes=None,\n",
       "                                              max_samples=None,\n",
       "                                              min_impurity_decrease=0.0,\n",
       "                                              min_impurity_split=None,\n",
       "                                              min_samples_leaf=1,\n",
       "                                              min_samples_split=2,\n",
       "                                              min_weight_fraction_leaf=0.0,\n",
       "                                              n_estimators=100, n_jobs=None,\n",
       "                                              oob_score=False,\n",
       "                                              random_state=None, verbose=0,\n",
       "                                              warm_start=False),\n",
       "             iid='deprecated', n_jobs=4,\n",
       "             param_grid={'max_depth': [2, 4, 8, 16, 32, None],\n",
       "                         'n_estimators': [5, 10, 50, 100, 250]},\n",
       "             pre_dispatch='2*n_jobs', refit=True, return_train_score=False,\n",
       "             scoring=None, verbose=0)"
      ]
     },
     "execution_count": 29,
     "metadata": {},
     "output_type": "execute_result"
    }
   ],
   "source": [
    "from sklearn.model_selection import GridSearchCV\n",
    "cv = GridSearchCV(rfc,parameters,cv=5,n_jobs=4)\n",
    "cv.fit(train_X,train_Y.values.ravel())"
   ]
  },
  {
   "cell_type": "code",
   "execution_count": 30,
   "metadata": {},
   "outputs": [],
   "source": [
    "def display(results):\n",
    "    print(f'Best parameters are: {results.best_params_}')\n",
    "    print(\"\\n\")\n",
    "    mean_score = results.cv_results_['mean_test_score']\n",
    "    std_score = results.cv_results_['std_test_score']\n",
    "    params = results.cv_results_['params']\n",
    "    for mean,std,params in zip(mean_score,std_score,params):\n",
    "        print(f'{round(mean,3)} + or -{round(std,3)} for the {params}')"
   ]
  },
  {
   "cell_type": "code",
   "execution_count": 31,
   "metadata": {},
   "outputs": [
    {
     "name": "stdout",
     "output_type": "stream",
     "text": [
      "Best parameters are: {'max_depth': 32, 'n_estimators': 250}\n",
      "\n",
      "\n",
      "0.572 + or -0.002 for the {'max_depth': 2, 'n_estimators': 5}\n",
      "0.571 + or -0.002 for the {'max_depth': 2, 'n_estimators': 10}\n",
      "0.569 + or -0.0 for the {'max_depth': 2, 'n_estimators': 50}\n",
      "0.569 + or -0.0 for the {'max_depth': 2, 'n_estimators': 100}\n",
      "0.569 + or -0.0 for the {'max_depth': 2, 'n_estimators': 250}\n",
      "0.577 + or -0.001 for the {'max_depth': 4, 'n_estimators': 5}\n",
      "0.576 + or -0.001 for the {'max_depth': 4, 'n_estimators': 10}\n",
      "0.577 + or -0.0 for the {'max_depth': 4, 'n_estimators': 50}\n",
      "0.577 + or -0.0 for the {'max_depth': 4, 'n_estimators': 100}\n",
      "0.577 + or -0.001 for the {'max_depth': 4, 'n_estimators': 250}\n",
      "0.608 + or -0.004 for the {'max_depth': 8, 'n_estimators': 5}\n",
      "0.618 + or -0.011 for the {'max_depth': 8, 'n_estimators': 10}\n",
      "0.616 + or -0.002 for the {'max_depth': 8, 'n_estimators': 50}\n",
      "0.61 + or -0.006 for the {'max_depth': 8, 'n_estimators': 100}\n",
      "0.614 + or -0.001 for the {'max_depth': 8, 'n_estimators': 250}\n",
      "0.661 + or -0.006 for the {'max_depth': 16, 'n_estimators': 5}\n",
      "0.667 + or -0.003 for the {'max_depth': 16, 'n_estimators': 10}\n",
      "0.679 + or -0.002 for the {'max_depth': 16, 'n_estimators': 50}\n",
      "0.68 + or -0.002 for the {'max_depth': 16, 'n_estimators': 100}\n",
      "0.681 + or -0.002 for the {'max_depth': 16, 'n_estimators': 250}\n",
      "0.674 + or -0.003 for the {'max_depth': 32, 'n_estimators': 5}\n",
      "0.692 + or -0.002 for the {'max_depth': 32, 'n_estimators': 10}\n",
      "0.71 + or -0.001 for the {'max_depth': 32, 'n_estimators': 50}\n",
      "0.713 + or -0.001 for the {'max_depth': 32, 'n_estimators': 100}\n",
      "0.715 + or -0.002 for the {'max_depth': 32, 'n_estimators': 250}\n",
      "0.668 + or -0.001 for the {'max_depth': None, 'n_estimators': 5}\n",
      "0.688 + or -0.001 for the {'max_depth': None, 'n_estimators': 10}\n",
      "0.708 + or -0.001 for the {'max_depth': None, 'n_estimators': 50}\n",
      "0.711 + or -0.001 for the {'max_depth': None, 'n_estimators': 100}\n",
      "0.712 + or -0.002 for the {'max_depth': None, 'n_estimators': 250}\n"
     ]
    }
   ],
   "source": [
    "display(cv)"
   ]
  },
  {
   "cell_type": "markdown",
   "metadata": {},
   "source": [
    "We have decided to stop exploring for higher values of these two parameters as higher values will reduce the speed of running the model significantly, it may also lead to over-fitting."
   ]
  },
  {
   "cell_type": "code",
   "execution_count": 10,
   "metadata": {},
   "outputs": [],
   "source": [
    "rfc = RandomForestClassifier()\n",
    "parameters = {\n",
    "    'min_samples_leaf':[1,2,3,4,5],\n",
    "    'min_samples_split':[2,4,6,8,10],\n",
    "}"
   ]
  },
  {
   "cell_type": "code",
   "execution_count": 11,
   "metadata": {},
   "outputs": [
    {
     "data": {
      "text/plain": [
       "GridSearchCV(cv=5, error_score=nan,\n",
       "             estimator=RandomForestClassifier(bootstrap=True, ccp_alpha=0.0,\n",
       "                                              class_weight=None,\n",
       "                                              criterion='gini', max_depth=None,\n",
       "                                              max_features='auto',\n",
       "                                              max_leaf_nodes=None,\n",
       "                                              max_samples=None,\n",
       "                                              min_impurity_decrease=0.0,\n",
       "                                              min_impurity_split=None,\n",
       "                                              min_samples_leaf=1,\n",
       "                                              min_samples_split=2,\n",
       "                                              min_weight_fraction_leaf=0.0,\n",
       "                                              n_estimators=100, n_jobs=None,\n",
       "                                              oob_score=False,\n",
       "                                              random_state=None, verbose=0,\n",
       "                                              warm_start=False),\n",
       "             iid='deprecated', n_jobs=-1,\n",
       "             param_grid={'min_samples_leaf': [1, 2, 3, 4, 5],\n",
       "                         'min_samples_split': [2, 4, 6, 8, 10]},\n",
       "             pre_dispatch='2*n_jobs', refit=True, return_train_score=False,\n",
       "             scoring=None, verbose=0)"
      ]
     },
     "execution_count": 11,
     "metadata": {},
     "output_type": "execute_result"
    }
   ],
   "source": [
    "from sklearn.model_selection import GridSearchCV\n",
    "cv = GridSearchCV(rfc,parameters,cv=5,n_jobs=-1)\n",
    "cv.fit(train_X,train_Y.values.ravel())"
   ]
  },
  {
   "cell_type": "code",
   "execution_count": 12,
   "metadata": {},
   "outputs": [],
   "source": [
    "def display(results):\n",
    "    print(f'Best parameters are: {results.best_params_}')\n",
    "    print(\"\\n\")\n",
    "    mean_score = results.cv_results_['mean_test_score']\n",
    "    std_score = results.cv_results_['std_test_score']\n",
    "    params = results.cv_results_['params']\n",
    "    for mean,std,params in zip(mean_score,std_score,params):\n",
    "        print(f'{round(mean,3)} + or -{round(std,3)} for the {params}')"
   ]
  },
  {
   "cell_type": "code",
   "execution_count": 13,
   "metadata": {},
   "outputs": [
    {
     "name": "stdout",
     "output_type": "stream",
     "text": [
      "Best parameters are: {'min_samples_leaf': 1, 'min_samples_split': 10}\n",
      "\n",
      "\n",
      "0.711 + or -0.003 for the {'min_samples_leaf': 1, 'min_samples_split': 2}\n",
      "0.718 + or -0.002 for the {'min_samples_leaf': 1, 'min_samples_split': 4}\n",
      "0.72 + or -0.002 for the {'min_samples_leaf': 1, 'min_samples_split': 6}\n",
      "0.721 + or -0.002 for the {'min_samples_leaf': 1, 'min_samples_split': 8}\n",
      "0.721 + or -0.002 for the {'min_samples_leaf': 1, 'min_samples_split': 10}\n",
      "0.718 + or -0.002 for the {'min_samples_leaf': 2, 'min_samples_split': 2}\n",
      "0.717 + or -0.001 for the {'min_samples_leaf': 2, 'min_samples_split': 4}\n",
      "0.717 + or -0.001 for the {'min_samples_leaf': 2, 'min_samples_split': 6}\n",
      "0.716 + or -0.002 for the {'min_samples_leaf': 2, 'min_samples_split': 8}\n",
      "0.716 + or -0.002 for the {'min_samples_leaf': 2, 'min_samples_split': 10}\n",
      "0.712 + or -0.002 for the {'min_samples_leaf': 3, 'min_samples_split': 2}\n",
      "0.713 + or -0.002 for the {'min_samples_leaf': 3, 'min_samples_split': 4}\n",
      "0.713 + or -0.002 for the {'min_samples_leaf': 3, 'min_samples_split': 6}\n",
      "0.713 + or -0.002 for the {'min_samples_leaf': 3, 'min_samples_split': 8}\n",
      "0.712 + or -0.002 for the {'min_samples_leaf': 3, 'min_samples_split': 10}\n",
      "0.709 + or -0.001 for the {'min_samples_leaf': 4, 'min_samples_split': 2}\n",
      "0.709 + or -0.001 for the {'min_samples_leaf': 4, 'min_samples_split': 4}\n",
      "0.709 + or -0.002 for the {'min_samples_leaf': 4, 'min_samples_split': 6}\n",
      "0.709 + or -0.001 for the {'min_samples_leaf': 4, 'min_samples_split': 8}\n",
      "0.709 + or -0.002 for the {'min_samples_leaf': 4, 'min_samples_split': 10}\n",
      "0.706 + or -0.002 for the {'min_samples_leaf': 5, 'min_samples_split': 2}\n",
      "0.706 + or -0.002 for the {'min_samples_leaf': 5, 'min_samples_split': 4}\n",
      "0.706 + or -0.001 for the {'min_samples_leaf': 5, 'min_samples_split': 6}\n",
      "0.706 + or -0.002 for the {'min_samples_leaf': 5, 'min_samples_split': 8}\n",
      "0.706 + or -0.002 for the {'min_samples_leaf': 5, 'min_samples_split': 10}\n"
     ]
    }
   ],
   "source": [
    "display(cv)"
   ]
  },
  {
   "cell_type": "markdown",
   "metadata": {},
   "source": [
    "As the optimum is 10 for min_samples_split, we will try higher values than 10 to see if it improves the accuracy of the model"
   ]
  },
  {
   "cell_type": "code",
   "execution_count": 14,
   "metadata": {},
   "outputs": [],
   "source": [
    "rfc = RandomForestClassifier()\n",
    "parameters = {\n",
    "    'min_samples_split':[10,14,18,22,26],\n",
    "}"
   ]
  },
  {
   "cell_type": "code",
   "execution_count": 22,
   "metadata": {},
   "outputs": [
    {
     "data": {
      "text/plain": [
       "GridSearchCV(cv=5, error_score=nan,\n",
       "             estimator=RandomForestClassifier(bootstrap=True, ccp_alpha=0.0,\n",
       "                                              class_weight=None,\n",
       "                                              criterion='gini', max_depth=None,\n",
       "                                              max_features='auto',\n",
       "                                              max_leaf_nodes=None,\n",
       "                                              max_samples=None,\n",
       "                                              min_impurity_decrease=0.0,\n",
       "                                              min_impurity_split=None,\n",
       "                                              min_samples_leaf=1,\n",
       "                                              min_samples_split=2,\n",
       "                                              min_weight_fraction_leaf=0.0,\n",
       "                                              n_estimators=100, n_jobs=None,\n",
       "                                              oob_score=False,\n",
       "                                              random_state=None, verbose=0,\n",
       "                                              warm_start=False),\n",
       "             iid='deprecated', n_jobs=-1,\n",
       "             param_grid={'min_samples_split': [10, 14, 18, 22, 26]},\n",
       "             pre_dispatch='2*n_jobs', refit=True, return_train_score=False,\n",
       "             scoring=None, verbose=0)"
      ]
     },
     "execution_count": 22,
     "metadata": {},
     "output_type": "execute_result"
    }
   ],
   "source": [
    "from sklearn.model_selection import GridSearchCV\n",
    "cv = GridSearchCV(rfc,parameters,cv=5,n_jobs=-1)\n",
    "cv.fit(train_X,train_Y.values.ravel())"
   ]
  },
  {
   "cell_type": "code",
   "execution_count": 23,
   "metadata": {},
   "outputs": [],
   "source": [
    "def display(results):\n",
    "    print(f'Best parameters are: {results.best_params_}')\n",
    "    print(\"\\n\")\n",
    "    mean_score = results.cv_results_['mean_test_score']\n",
    "    std_score = results.cv_results_['std_test_score']\n",
    "    params = results.cv_results_['params']\n",
    "    for mean,std,params in zip(mean_score,std_score,params):\n",
    "        print(f'{round(mean,3)} + or -{round(std,3)} for the {params}')"
   ]
  },
  {
   "cell_type": "code",
   "execution_count": 24,
   "metadata": {},
   "outputs": [
    {
     "name": "stdout",
     "output_type": "stream",
     "text": [
      "Best parameters are: {'min_samples_split': 10}\n",
      "\n",
      "\n",
      "0.721 + or -0.002 for the {'min_samples_split': 10}\n",
      "0.72 + or -0.002 for the {'min_samples_split': 14}\n",
      "0.719 + or -0.002 for the {'min_samples_split': 18}\n",
      "0.718 + or -0.002 for the {'min_samples_split': 22}\n",
      "0.716 + or -0.002 for the {'min_samples_split': 26}\n"
     ]
    }
   ],
   "source": [
    "display(cv)"
   ]
  },
  {
   "cell_type": "code",
   "execution_count": 26,
   "metadata": {},
   "outputs": [],
   "source": [
    "rfc = RandomForestClassifier()\n",
    "parameters = {\n",
    "    'max_features':['auto','sqrt','log2'],\n",
    "}"
   ]
  },
  {
   "cell_type": "code",
   "execution_count": 27,
   "metadata": {},
   "outputs": [
    {
     "data": {
      "text/plain": [
       "GridSearchCV(cv=5, error_score=nan,\n",
       "             estimator=RandomForestClassifier(bootstrap=True, ccp_alpha=0.0,\n",
       "                                              class_weight=None,\n",
       "                                              criterion='gini', max_depth=None,\n",
       "                                              max_features='auto',\n",
       "                                              max_leaf_nodes=None,\n",
       "                                              max_samples=None,\n",
       "                                              min_impurity_decrease=0.0,\n",
       "                                              min_impurity_split=None,\n",
       "                                              min_samples_leaf=1,\n",
       "                                              min_samples_split=2,\n",
       "                                              min_weight_fraction_leaf=0.0,\n",
       "                                              n_estimators=100, n_jobs=None,\n",
       "                                              oob_score=False,\n",
       "                                              random_state=None, verbose=0,\n",
       "                                              warm_start=False),\n",
       "             iid='deprecated', n_jobs=-1,\n",
       "             param_grid={'max_features': ['auto', 'sqrt', 'log2']},\n",
       "             pre_dispatch='2*n_jobs', refit=True, return_train_score=False,\n",
       "             scoring=None, verbose=0)"
      ]
     },
     "execution_count": 27,
     "metadata": {},
     "output_type": "execute_result"
    }
   ],
   "source": [
    "from sklearn.model_selection import GridSearchCV\n",
    "cv = GridSearchCV(rfc,parameters,cv=5,n_jobs=-1)\n",
    "cv.fit(train_X,train_Y.values.ravel())"
   ]
  },
  {
   "cell_type": "code",
   "execution_count": 28,
   "metadata": {},
   "outputs": [],
   "source": [
    "def display(results):\n",
    "    print(f'Best parameters are: {results.best_params_}')\n",
    "    print(\"\\n\")\n",
    "    mean_score = results.cv_results_['mean_test_score']\n",
    "    std_score = results.cv_results_['std_test_score']\n",
    "    params = results.cv_results_['params']\n",
    "    for mean,std,params in zip(mean_score,std_score,params):\n",
    "        print(f'{round(mean,3)} + or -{round(std,3)} for the {params}')"
   ]
  },
  {
   "cell_type": "code",
   "execution_count": 29,
   "metadata": {
    "scrolled": true
   },
   "outputs": [
    {
     "name": "stdout",
     "output_type": "stream",
     "text": [
      "Best parameters are: {'max_features': 'auto'}\n",
      "\n",
      "\n",
      "0.712 + or -0.002 for the {'max_features': 'auto'}\n",
      "0.711 + or -0.002 for the {'max_features': 'sqrt'}\n",
      "0.707 + or -0.002 for the {'max_features': 'log2'}\n"
     ]
    }
   ],
   "source": [
    "display(cv)"
   ]
  },
  {
   "cell_type": "markdown",
   "metadata": {},
   "source": [
    "Performing trial and error, we have obtained the optimum common hyperparameters for this model\n",
    "1. 'min_samples_split': 10\n",
    "2. 'min_samples_leaf': 1\n",
    "3. 'max_depth': 32\n",
    "4. 'n_estimators': 250\n",
    "5. max_features': 'auto'"
   ]
  },
  {
   "cell_type": "code",
   "execution_count": 25,
   "metadata": {},
   "outputs": [
    {
     "name": "stdout",
     "output_type": "stream",
     "text": [
      "[2 2 2 ... 2 2 2]\n",
      "The standard accuracy score is:  0.7208610732718098\n",
      "The recall score is:  0.7208610732718098\n",
      "The matthew's correlation coefficient is:  0.47380737453148075\n"
     ]
    },
    {
     "data": {
      "image/png": "[encoded data removed]",
      "text/plain": [
       "<Figure size 720x504 with 2 Axes>"
      ]
     },
     "metadata": {},
     "output_type": "display_data"
    }
   ],
   "source": [
    "clf = RandomForestClassifier(n_jobs=4, \n",
    "                             random_state=0,\n",
    "                             min_samples_leaf = 1,\n",
    "                             min_samples_split =10,\n",
    "                             max_depth = 32,\n",
    "                             criterion=\"gini\",\n",
    "                             n_estimators=250,\n",
    "                             verbose=False)\n",
    "\n",
    "clf.fit(train_X, train_Y.values)\n",
    "preds = clf.predict(test_X)\n",
    "print(preds)\n",
    "\n",
    "print(\"The standard accuracy score is: \", accuracy_score(test_Y.values, preds))\n",
    "print(\"The recall score is: \", sklearn.metrics.recall_score(test_Y.values, preds, average='micro'))\n",
    "print(\"The matthew's correlation coefficient is: \", sklearn.metrics.matthews_corrcoef(test_Y.values, preds))\n",
    "\n",
    "cm = pd.crosstab(test_Y.values, preds, rownames=['Actual'], colnames=['Predicted'])\n",
    "\n",
    "#heat map for confusion matrix\n",
    "fig, ax = plt.subplots(figsize=(10,7))\n",
    "sb.heatmap(cm, annot=True, fmt='d')\n",
    "plt.show()"
   ]
  },
  {
   "cell_type": "markdown",
   "metadata": {},
   "source": [
    "Accuracy has improved with hyperparameter tuning.\n",
    "\n",
    "However, from our research, hyperparameter tuning is good to create a model for classification. Hence, it is not always the best to perform on Random Forest as it is already good in classification. Using exhaustive grid search to choose hyperparameter values can be very time-consuming as well.\n",
    "\n",
    "As such, it is only advantageous to tune the important hyperparameters for Random Forest classification model when there are only a few potential values for hyperparameters or when the initial classifcation model isn't very accurate.\n",
    "\n",
    "Hence, we have decided to only focus on tuning the most common hyperparameters instead of spending time to finetune all the parameters."
   ]
  },
  {
   "cell_type": "markdown",
   "metadata": {},
   "source": [
    "## <a id='section6'>Method 3: Feature Engineering</a>"
   ]
  },
  {
   "cell_type": "markdown",
   "metadata": {},
   "source": [
    "Feature Engineering is the process of using domain knowledge to extract features from raw data via data mining techniques. These features can be used to improve the performance of machine learning algorithms.\n",
    "Previously, we have carry out one-hot encoding as part of Feature Engineering, now we will explore more into it."
   ]
  },
  {
   "cell_type": "markdown",
   "metadata": {},
   "source": [
    "1. Testing for Missing data"
   ]
  },
  {
   "cell_type": "code",
   "execution_count": 26,
   "metadata": {},
   "outputs": [
    {
     "data": {
      "text/plain": [
       "legal_ownership_status_w         0\n",
       "has_secondary_use_school         0\n",
       "count_families                   0\n",
       "has_secondary_use                0\n",
       "has_secondary_use_agriculture    0\n",
       "                                ..\n",
       "roof_type_q                      0\n",
       "roof_type_n                      0\n",
       "foundation_type_w                0\n",
       "foundation_type_u                0\n",
       "geo_level_1_id                   0\n",
       "Length: 68, dtype: int64"
      ]
     },
     "execution_count": 26,
     "metadata": {},
     "output_type": "execute_result"
    }
   ],
   "source": [
    "train_X.isnull().sum().sort_values(ascending=False)"
   ]
  },
  {
   "cell_type": "code",
   "execution_count": 27,
   "metadata": {},
   "outputs": [
    {
     "data": {
      "text/plain": [
       "legal_ownership_status_w         0\n",
       "has_secondary_use_school         0\n",
       "count_families                   0\n",
       "has_secondary_use                0\n",
       "has_secondary_use_agriculture    0\n",
       "                                ..\n",
       "roof_type_q                      0\n",
       "roof_type_n                      0\n",
       "foundation_type_w                0\n",
       "foundation_type_u                0\n",
       "geo_level_1_id                   0\n",
       "Length: 68, dtype: int64"
      ]
     },
     "execution_count": 27,
     "metadata": {},
     "output_type": "execute_result"
    }
   ],
   "source": [
    "test_X.isnull().sum().sort_values(ascending=False)"
   ]
  },
  {
   "cell_type": "markdown",
   "metadata": {},
   "source": [
    "Hence, there are no missing values in the dataset; no need for Feature Engineering here"
   ]
  },
  {
   "cell_type": "markdown",
   "metadata": {},
   "source": [
    "2. Outlier Capping"
   ]
  },
  {
   "cell_type": "markdown",
   "metadata": {},
   "source": [
    "From our previous data exploration, the variables age, height_percentage and area_percentage are highly skewed with extreme outliers"
   ]
  },
  {
   "cell_type": "code",
   "execution_count": 40,
   "metadata": {},
   "outputs": [
    {
     "data": {
      "text/plain": [
       "{'age': 138.1612479005796,\n",
       " 'area_percentage': 14.639003265671535,\n",
       " 'height_percentage': 8.302023958569734}"
      ]
     },
     "execution_count": 40,
     "metadata": {},
     "output_type": "execute_result"
    }
   ],
   "source": [
    "from feature_engine import outlier_removers as outr\n",
    "\n",
    "# set up the capper\n",
    "capper = outr.Winsorizer(\n",
    "        distribution='gaussian', tail='both', fold=1.5, variables=['age', 'area_percentage','height_percentage'])\n",
    "\n",
    "# fit the capper\n",
    "capper.fit(train_X)\n",
    "\n",
    "# transform the data\n",
    "train_t= capper.transform(train_X)\n",
    "test_t= capper.transform(test_X)\n",
    "\n",
    "capper.right_tail_caps_"
   ]
  },
  {
   "cell_type": "markdown",
   "metadata": {},
   "source": [
    "We have finetuned the parameters used in this method by doing repeated trial and error, obtaining: \n",
    "1. fold = 1.5\n",
    "2. distribution = 'gaussian'\n",
    "3. tail = 'both'\n"
   ]
  },
  {
   "cell_type": "code",
   "execution_count": 41,
   "metadata": {
    "scrolled": true
   },
   "outputs": [
    {
     "name": "stdout",
     "output_type": "stream",
     "text": [
      "[2 2 3 ... 2 2 2]\n",
      "The standard accuracy score is:  0.7109610329809481\n",
      "The recall score is:  0.7109610329809481\n",
      "The matthew's correlation coefficient is:  0.4600192458505387\n"
     ]
    },
    {
     "data": {
      "image/png": "[encoded data removed]",
      "text/plain": [
       "<Figure size 720x504 with 2 Axes>"
      ]
     },
     "metadata": {},
     "output_type": "display_data"
    }
   ],
   "source": [
    "clf = RandomForestClassifier(n_jobs=4, \n",
    "                             random_state=0,\n",
    "                             criterion=\"gini\",\n",
    "                             n_estimators=50,\n",
    "                             verbose=False)\n",
    "\n",
    "clf.fit(train_t, train_Y.values)\n",
    "preds = clf.predict(test_t)\n",
    "print(preds)\n",
    "\n",
    "print(\"The standard accuracy score is: \", accuracy_score(test_Y.values, preds))\n",
    "print(\"The recall score is: \", sklearn.metrics.recall_score(test_Y.values, preds, average='micro'))\n",
    "print(\"The matthew's correlation coefficient is: \", sklearn.metrics.matthews_corrcoef(test_Y.values, preds))\n",
    "\n",
    "cm = pd.crosstab(test_Y.values, preds, rownames=['Actual'], colnames=['Predicted'])\n",
    "\n",
    "#heat map for confusion matrix\n",
    "fig, ax = plt.subplots(figsize=(10,7))\n",
    "sb.heatmap(cm, annot=True, fmt='d')\n",
    "plt.show()"
   ]
  },
  {
   "cell_type": "markdown",
   "metadata": {},
   "source": [
    "Accuracy improves with outlier capping"
   ]
  },
  {
   "cell_type": "markdown",
   "metadata": {},
   "source": [
    "3. Variable Discretisaion\n",
    "\n",
    "Test if the model improves if we convert continuous variables into discrete form.\n",
    "\n",
    "Select the most important continuous variables as described by Feature Importance and perform trial and error, the accuracy improves with geo_level_3_id at bins = 120 and geo_level_1_id at bins = 40."
   ]
  },
  {
   "cell_type": "code",
   "execution_count": 80,
   "metadata": {},
   "outputs": [
    {
     "data": {
      "text/plain": [
       "{'geo_level_3_id': [-inf,\n",
       "  104.725,\n",
       "  209.45,\n",
       "  314.17499999999995,\n",
       "  418.9,\n",
       "  523.625,\n",
       "  628.3499999999999,\n",
       "  733.0749999999999,\n",
       "  837.8,\n",
       "  942.525,\n",
       "  1047.25,\n",
       "  1151.975,\n",
       "  1256.6999999999998,\n",
       "  1361.425,\n",
       "  1466.1499999999999,\n",
       "  1570.875,\n",
       "  1675.6,\n",
       "  1780.3249999999998,\n",
       "  1885.05,\n",
       "  1989.7749999999999,\n",
       "  2094.5,\n",
       "  2199.225,\n",
       "  2303.95,\n",
       "  2408.6749999999997,\n",
       "  2513.3999999999996,\n",
       "  2618.125,\n",
       "  2722.85,\n",
       "  2827.575,\n",
       "  2932.2999999999997,\n",
       "  3037.0249999999996,\n",
       "  3141.75,\n",
       "  3246.475,\n",
       "  3351.2,\n",
       "  3455.9249999999997,\n",
       "  3560.6499999999996,\n",
       "  3665.375,\n",
       "  3770.1,\n",
       "  3874.825,\n",
       "  3979.5499999999997,\n",
       "  4084.2749999999996,\n",
       "  4189.0,\n",
       "  4293.724999999999,\n",
       "  4398.45,\n",
       "  4503.175,\n",
       "  4607.9,\n",
       "  4712.625,\n",
       "  4817.349999999999,\n",
       "  4922.075,\n",
       "  5026.799999999999,\n",
       "  5131.525,\n",
       "  5236.25,\n",
       "  5340.974999999999,\n",
       "  5445.7,\n",
       "  5550.424999999999,\n",
       "  5655.15,\n",
       "  5759.875,\n",
       "  5864.599999999999,\n",
       "  5969.325,\n",
       "  6074.049999999999,\n",
       "  6178.775,\n",
       "  6283.5,\n",
       "  6388.224999999999,\n",
       "  6492.95,\n",
       "  6597.674999999999,\n",
       "  6702.4,\n",
       "  6807.125,\n",
       "  6911.849999999999,\n",
       "  7016.575,\n",
       "  7121.299999999999,\n",
       "  7226.025,\n",
       "  7330.75,\n",
       "  7435.474999999999,\n",
       "  7540.2,\n",
       "  7644.924999999999,\n",
       "  7749.65,\n",
       "  7854.375,\n",
       "  7959.099999999999,\n",
       "  8063.825,\n",
       "  8168.549999999999,\n",
       "  8273.275,\n",
       "  8378.0,\n",
       "  8482.725,\n",
       "  8587.449999999999,\n",
       "  8692.175,\n",
       "  8796.9,\n",
       "  8901.625,\n",
       "  9006.35,\n",
       "  9111.074999999999,\n",
       "  9215.8,\n",
       "  9320.525,\n",
       "  9425.25,\n",
       "  9529.975,\n",
       "  9634.699999999999,\n",
       "  9739.425,\n",
       "  9844.15,\n",
       "  9948.875,\n",
       "  10053.599999999999,\n",
       "  10158.324999999999,\n",
       "  10263.05,\n",
       "  10367.775,\n",
       "  10472.5,\n",
       "  10577.224999999999,\n",
       "  10681.949999999999,\n",
       "  10786.675,\n",
       "  10891.4,\n",
       "  10996.125,\n",
       "  11100.849999999999,\n",
       "  11205.574999999999,\n",
       "  11310.3,\n",
       "  11415.025,\n",
       "  11519.75,\n",
       "  11624.474999999999,\n",
       "  11729.199999999999,\n",
       "  11833.925,\n",
       "  11938.65,\n",
       "  12043.375,\n",
       "  12148.099999999999,\n",
       "  12252.824999999999,\n",
       "  12357.55,\n",
       "  12462.275,\n",
       "  inf]}"
      ]
     },
     "execution_count": 80,
     "metadata": {},
     "output_type": "execute_result"
    }
   ],
   "source": [
    "from feature_engine import discretisers as dsc\n",
    "\n",
    "# set up the discretisation transformer\n",
    "disc = dsc.EqualWidthDiscretiser(bins=120, variables=['geo_level_3_id'])\n",
    "\n",
    "# fit the transformer\n",
    "disc.fit(train_X)\n",
    "\n",
    "# transform the data\n",
    "train_g= disc.transform(train_X)\n",
    "test_g= disc.transform(test_X)\n",
    "\n",
    "disc.binner_dict_"
   ]
  },
  {
   "cell_type": "code",
   "execution_count": 81,
   "metadata": {},
   "outputs": [
    {
     "data": {
      "text/plain": [
       "{'geo_level_1_id': [-inf,\n",
       "  0.75,\n",
       "  1.5,\n",
       "  2.25,\n",
       "  3.0,\n",
       "  3.75,\n",
       "  4.5,\n",
       "  5.25,\n",
       "  6.0,\n",
       "  6.75,\n",
       "  7.5,\n",
       "  8.25,\n",
       "  9.0,\n",
       "  9.75,\n",
       "  10.5,\n",
       "  11.25,\n",
       "  12.0,\n",
       "  12.75,\n",
       "  13.5,\n",
       "  14.25,\n",
       "  15.0,\n",
       "  15.75,\n",
       "  16.5,\n",
       "  17.25,\n",
       "  18.0,\n",
       "  18.75,\n",
       "  19.5,\n",
       "  20.25,\n",
       "  21.0,\n",
       "  21.75,\n",
       "  22.5,\n",
       "  23.25,\n",
       "  24.0,\n",
       "  24.75,\n",
       "  25.5,\n",
       "  26.25,\n",
       "  27.0,\n",
       "  27.75,\n",
       "  28.5,\n",
       "  29.25,\n",
       "  inf]}"
      ]
     },
     "execution_count": 81,
     "metadata": {},
     "output_type": "execute_result"
    }
   ],
   "source": [
    "from feature_engine import discretisers as dsc\n",
    "\n",
    "# set up the discretisation transformer\n",
    "disc = dsc.EqualWidthDiscretiser(bins=40, variables=['geo_level_1_id'])\n",
    "\n",
    "# fit the transformer\n",
    "disc.fit(train_g)\n",
    "\n",
    "# transform the data\n",
    "train_g1= disc.transform(train_g)\n",
    "test_g1= disc.transform(test_g)\n",
    "\n",
    "disc.binner_dict_"
   ]
  },
  {
   "cell_type": "code",
   "execution_count": 82,
   "metadata": {},
   "outputs": [
    {
     "name": "stdout",
     "output_type": "stream",
     "text": [
      "[2 2 2 ... 2 2 2]\n",
      "The standard accuracy score is:  0.7098290516298613\n",
      "The recall score is:  0.7098290516298613\n",
      "The matthew's correlation coefficient is:  0.45819141292994975\n"
     ]
    },
    {
     "data": {
      "image/png": "[encoded data removed]",
      "text/plain": [
       "<Figure size 720x504 with 2 Axes>"
      ]
     },
     "metadata": {},
     "output_type": "display_data"
    }
   ],
   "source": [
    "clf = RandomForestClassifier(n_jobs=4, \n",
    "                             random_state=0,\n",
    "                             criterion=\"gini\",\n",
    "                             n_estimators=50,\n",
    "                             verbose=False)\n",
    "\n",
    "clf.fit(train_g1, train_Y.values)\n",
    "preds = clf.predict(test_g1)\n",
    "print(preds)\n",
    "\n",
    "print(\"The standard accuracy score is: \", accuracy_score(test_Y.values, preds))\n",
    "print(\"The recall score is: \", sklearn.metrics.recall_score(test_Y.values, preds, average='micro'))\n",
    "print(\"The matthew's correlation coefficient is: \", sklearn.metrics.matthews_corrcoef(test_Y.values, preds))\n",
    "\n",
    "cm = pd.crosstab(test_Y.values, preds, rownames=['Actual'], colnames=['Predicted'])\n",
    "\n",
    "#heat map for confusion matrix\n",
    "fig, ax = plt.subplots(figsize=(10,7))\n",
    "sb.heatmap(cm, annot=True, fmt='d')\n",
    "plt.show()"
   ]
  },
  {
   "cell_type": "markdown",
   "metadata": {},
   "source": [
    "4. Data Scaling\n",
    "\n",
    "Feature Scaling is a method used to normalize the range of independent variables or features of data."
   ]
  },
  {
   "cell_type": "code",
   "execution_count": 83,
   "metadata": {},
   "outputs": [
    {
     "data": {
      "text/html": [
       "<div>\n",
       "<style scoped>\n",
       "    .dataframe tbody tr th:only-of-type {\n",
       "        vertical-align: middle;\n",
       "    }\n",
       "\n",
       "    .dataframe tbody tr th {\n",
       "        vertical-align: top;\n",
       "    }\n",
       "\n",
       "    .dataframe thead th {\n",
       "        text-align: right;\n",
       "    }\n",
       "</style>\n",
       "<table border=\"1\" class=\"dataframe\">\n",
       "  <thead>\n",
       "    <tr style=\"text-align: right;\">\n",
       "      <th></th>\n",
       "      <th>geo_level_1_id</th>\n",
       "      <th>geo_level_2_id</th>\n",
       "      <th>geo_level_3_id</th>\n",
       "      <th>count_floors_pre_eq</th>\n",
       "      <th>age</th>\n",
       "      <th>area_percentage</th>\n",
       "      <th>height_percentage</th>\n",
       "      <th>has_superstructure_adobe_mud</th>\n",
       "      <th>has_superstructure_mud_mortar_stone</th>\n",
       "      <th>has_superstructure_stone_flag</th>\n",
       "      <th>...</th>\n",
       "      <th>plan_configuration_m</th>\n",
       "      <th>plan_configuration_n</th>\n",
       "      <th>plan_configuration_o</th>\n",
       "      <th>plan_configuration_q</th>\n",
       "      <th>plan_configuration_s</th>\n",
       "      <th>plan_configuration_u</th>\n",
       "      <th>legal_ownership_status_a</th>\n",
       "      <th>legal_ownership_status_r</th>\n",
       "      <th>legal_ownership_status_v</th>\n",
       "      <th>legal_ownership_status_w</th>\n",
       "    </tr>\n",
       "  </thead>\n",
       "  <tbody>\n",
       "    <tr>\n",
       "      <th>113907</th>\n",
       "      <td>-1.230001</td>\n",
       "      <td>1.527720</td>\n",
       "      <td>0.809074</td>\n",
       "      <td>-0.182217</td>\n",
       "      <td>-0.158322</td>\n",
       "      <td>-0.925025</td>\n",
       "      <td>0.285748</td>\n",
       "      <td>-0.312311</td>\n",
       "      <td>0.559615</td>\n",
       "      <td>-0.186833</td>\n",
       "      <td>...</td>\n",
       "      <td>-0.014529</td>\n",
       "      <td>-0.009795</td>\n",
       "      <td>-0.02629</td>\n",
       "      <td>-0.152461</td>\n",
       "      <td>-0.031905</td>\n",
       "      <td>-0.118353</td>\n",
       "      <td>-0.141493</td>\n",
       "      <td>-0.075317</td>\n",
       "      <td>0.192693</td>\n",
       "      <td>-0.103176</td>\n",
       "    </tr>\n",
       "    <tr>\n",
       "      <th>178415</th>\n",
       "      <td>1.630743</td>\n",
       "      <td>-1.269752</td>\n",
       "      <td>-0.517039</td>\n",
       "      <td>2.561887</td>\n",
       "      <td>0.197110</td>\n",
       "      <td>1.158580</td>\n",
       "      <td>1.834783</td>\n",
       "      <td>-0.312311</td>\n",
       "      <td>-1.786942</td>\n",
       "      <td>-0.186833</td>\n",
       "      <td>...</td>\n",
       "      <td>-0.014529</td>\n",
       "      <td>-0.009795</td>\n",
       "      <td>-0.02629</td>\n",
       "      <td>-0.152461</td>\n",
       "      <td>-0.031905</td>\n",
       "      <td>-0.118353</td>\n",
       "      <td>-0.141493</td>\n",
       "      <td>-0.075317</td>\n",
       "      <td>0.192693</td>\n",
       "      <td>-0.103176</td>\n",
       "    </tr>\n",
       "    <tr>\n",
       "      <th>110012</th>\n",
       "      <td>-0.110580</td>\n",
       "      <td>-0.439973</td>\n",
       "      <td>0.355634</td>\n",
       "      <td>-0.182217</td>\n",
       "      <td>-0.371582</td>\n",
       "      <td>-0.230490</td>\n",
       "      <td>-0.230597</td>\n",
       "      <td>-0.312311</td>\n",
       "      <td>0.559615</td>\n",
       "      <td>-0.186833</td>\n",
       "      <td>...</td>\n",
       "      <td>-0.014529</td>\n",
       "      <td>-0.009795</td>\n",
       "      <td>-0.02629</td>\n",
       "      <td>-0.152461</td>\n",
       "      <td>-0.031905</td>\n",
       "      <td>-0.118353</td>\n",
       "      <td>-0.141493</td>\n",
       "      <td>-0.075317</td>\n",
       "      <td>0.192693</td>\n",
       "      <td>-0.103176</td>\n",
       "    </tr>\n",
       "    <tr>\n",
       "      <th>28244</th>\n",
       "      <td>-0.483720</td>\n",
       "      <td>-0.891256</td>\n",
       "      <td>-1.631620</td>\n",
       "      <td>-0.182217</td>\n",
       "      <td>-0.016150</td>\n",
       "      <td>-0.925025</td>\n",
       "      <td>-0.230597</td>\n",
       "      <td>-0.312311</td>\n",
       "      <td>0.559615</td>\n",
       "      <td>-0.186833</td>\n",
       "      <td>...</td>\n",
       "      <td>-0.014529</td>\n",
       "      <td>-0.009795</td>\n",
       "      <td>-0.02629</td>\n",
       "      <td>-0.152461</td>\n",
       "      <td>-0.031905</td>\n",
       "      <td>-0.118353</td>\n",
       "      <td>-0.141493</td>\n",
       "      <td>-0.075317</td>\n",
       "      <td>0.192693</td>\n",
       "      <td>-0.103176</td>\n",
       "    </tr>\n",
       "    <tr>\n",
       "      <th>22923</th>\n",
       "      <td>-0.483720</td>\n",
       "      <td>-0.697156</td>\n",
       "      <td>0.981474</td>\n",
       "      <td>-0.182217</td>\n",
       "      <td>0.481455</td>\n",
       "      <td>-1.156537</td>\n",
       "      <td>-0.230597</td>\n",
       "      <td>-0.312311</td>\n",
       "      <td>0.559615</td>\n",
       "      <td>-0.186833</td>\n",
       "      <td>...</td>\n",
       "      <td>-0.014529</td>\n",
       "      <td>-0.009795</td>\n",
       "      <td>-0.02629</td>\n",
       "      <td>-0.152461</td>\n",
       "      <td>-0.031905</td>\n",
       "      <td>-0.118353</td>\n",
       "      <td>-0.141493</td>\n",
       "      <td>-0.075317</td>\n",
       "      <td>0.192693</td>\n",
       "      <td>-0.103176</td>\n",
       "    </tr>\n",
       "    <tr>\n",
       "      <th>...</th>\n",
       "      <td>...</td>\n",
       "      <td>...</td>\n",
       "      <td>...</td>\n",
       "      <td>...</td>\n",
       "      <td>...</td>\n",
       "      <td>...</td>\n",
       "      <td>...</td>\n",
       "      <td>...</td>\n",
       "      <td>...</td>\n",
       "      <td>...</td>\n",
       "      <td>...</td>\n",
       "      <td>...</td>\n",
       "      <td>...</td>\n",
       "      <td>...</td>\n",
       "      <td>...</td>\n",
       "      <td>...</td>\n",
       "      <td>...</td>\n",
       "      <td>...</td>\n",
       "      <td>...</td>\n",
       "      <td>...</td>\n",
       "      <td>...</td>\n",
       "    </tr>\n",
       "    <tr>\n",
       "      <th>161537</th>\n",
       "      <td>0.386941</td>\n",
       "      <td>-0.973749</td>\n",
       "      <td>0.705907</td>\n",
       "      <td>1.189835</td>\n",
       "      <td>-0.158322</td>\n",
       "      <td>0.001022</td>\n",
       "      <td>1.318438</td>\n",
       "      <td>-0.312311</td>\n",
       "      <td>0.559615</td>\n",
       "      <td>-0.186833</td>\n",
       "      <td>...</td>\n",
       "      <td>-0.014529</td>\n",
       "      <td>-0.009795</td>\n",
       "      <td>-0.02629</td>\n",
       "      <td>-0.152461</td>\n",
       "      <td>-0.031905</td>\n",
       "      <td>-0.118353</td>\n",
       "      <td>-0.141493</td>\n",
       "      <td>-0.075317</td>\n",
       "      <td>0.192693</td>\n",
       "      <td>-0.103176</td>\n",
       "    </tr>\n",
       "    <tr>\n",
       "      <th>237331</th>\n",
       "      <td>-0.608100</td>\n",
       "      <td>-0.629221</td>\n",
       "      <td>0.245079</td>\n",
       "      <td>-1.554270</td>\n",
       "      <td>-0.300495</td>\n",
       "      <td>1.621604</td>\n",
       "      <td>-0.746943</td>\n",
       "      <td>-0.312311</td>\n",
       "      <td>-1.786942</td>\n",
       "      <td>-0.186833</td>\n",
       "      <td>...</td>\n",
       "      <td>-0.014529</td>\n",
       "      <td>-0.009795</td>\n",
       "      <td>-0.02629</td>\n",
       "      <td>-0.152461</td>\n",
       "      <td>-0.031905</td>\n",
       "      <td>-0.118353</td>\n",
       "      <td>-0.141493</td>\n",
       "      <td>-0.075317</td>\n",
       "      <td>0.192693</td>\n",
       "      <td>-0.103176</td>\n",
       "    </tr>\n",
       "    <tr>\n",
       "      <th>226045</th>\n",
       "      <td>0.262561</td>\n",
       "      <td>-1.616707</td>\n",
       "      <td>-0.094522</td>\n",
       "      <td>-0.182217</td>\n",
       "      <td>0.481455</td>\n",
       "      <td>1.853115</td>\n",
       "      <td>-0.230597</td>\n",
       "      <td>-0.312311</td>\n",
       "      <td>0.559615</td>\n",
       "      <td>-0.186833</td>\n",
       "      <td>...</td>\n",
       "      <td>-0.014529</td>\n",
       "      <td>-0.009795</td>\n",
       "      <td>-0.02629</td>\n",
       "      <td>-0.152461</td>\n",
       "      <td>-0.031905</td>\n",
       "      <td>8.449277</td>\n",
       "      <td>-0.141493</td>\n",
       "      <td>-0.075317</td>\n",
       "      <td>0.192693</td>\n",
       "      <td>-0.103176</td>\n",
       "    </tr>\n",
       "    <tr>\n",
       "      <th>66724</th>\n",
       "      <td>1.506362</td>\n",
       "      <td>1.238996</td>\n",
       "      <td>1.131982</td>\n",
       "      <td>-0.182217</td>\n",
       "      <td>-0.229409</td>\n",
       "      <td>-0.230490</td>\n",
       "      <td>0.802093</td>\n",
       "      <td>3.201933</td>\n",
       "      <td>0.559615</td>\n",
       "      <td>-0.186833</td>\n",
       "      <td>...</td>\n",
       "      <td>-0.014529</td>\n",
       "      <td>-0.009795</td>\n",
       "      <td>-0.02629</td>\n",
       "      <td>-0.152461</td>\n",
       "      <td>-0.031905</td>\n",
       "      <td>-0.118353</td>\n",
       "      <td>-0.141493</td>\n",
       "      <td>-0.075317</td>\n",
       "      <td>0.192693</td>\n",
       "      <td>-0.103176</td>\n",
       "    </tr>\n",
       "    <tr>\n",
       "      <th>102419</th>\n",
       "      <td>-0.732481</td>\n",
       "      <td>-0.355054</td>\n",
       "      <td>-1.568133</td>\n",
       "      <td>1.189835</td>\n",
       "      <td>0.197110</td>\n",
       "      <td>-0.230490</td>\n",
       "      <td>1.318438</td>\n",
       "      <td>-0.312311</td>\n",
       "      <td>0.559615</td>\n",
       "      <td>-0.186833</td>\n",
       "      <td>...</td>\n",
       "      <td>-0.014529</td>\n",
       "      <td>-0.009795</td>\n",
       "      <td>-0.02629</td>\n",
       "      <td>6.559048</td>\n",
       "      <td>-0.031905</td>\n",
       "      <td>-0.118353</td>\n",
       "      <td>-0.141493</td>\n",
       "      <td>-0.075317</td>\n",
       "      <td>0.192693</td>\n",
       "      <td>-0.103176</td>\n",
       "    </tr>\n",
       "  </tbody>\n",
       "</table>\n",
       "<p>52121 rows × 68 columns</p>\n",
       "</div>"
      ],
      "text/plain": [
       "        geo_level_1_id  geo_level_2_id  geo_level_3_id  count_floors_pre_eq  \\\n",
       "113907       -1.230001        1.527720        0.809074            -0.182217   \n",
       "178415        1.630743       -1.269752       -0.517039             2.561887   \n",
       "110012       -0.110580       -0.439973        0.355634            -0.182217   \n",
       "28244        -0.483720       -0.891256       -1.631620            -0.182217   \n",
       "22923        -0.483720       -0.697156        0.981474            -0.182217   \n",
       "...                ...             ...             ...                  ...   \n",
       "161537        0.386941       -0.973749        0.705907             1.189835   \n",
       "237331       -0.608100       -0.629221        0.245079            -1.554270   \n",
       "226045        0.262561       -1.616707       -0.094522            -0.182217   \n",
       "66724         1.506362        1.238996        1.131982            -0.182217   \n",
       "102419       -0.732481       -0.355054       -1.568133             1.189835   \n",
       "\n",
       "             age  area_percentage  height_percentage  \\\n",
       "113907 -0.158322        -0.925025           0.285748   \n",
       "178415  0.197110         1.158580           1.834783   \n",
       "110012 -0.371582        -0.230490          -0.230597   \n",
       "28244  -0.016150        -0.925025          -0.230597   \n",
       "22923   0.481455        -1.156537          -0.230597   \n",
       "...          ...              ...                ...   \n",
       "161537 -0.158322         0.001022           1.318438   \n",
       "237331 -0.300495         1.621604          -0.746943   \n",
       "226045  0.481455         1.853115          -0.230597   \n",
       "66724  -0.229409        -0.230490           0.802093   \n",
       "102419  0.197110        -0.230490           1.318438   \n",
       "\n",
       "        has_superstructure_adobe_mud  has_superstructure_mud_mortar_stone  \\\n",
       "113907                     -0.312311                             0.559615   \n",
       "178415                     -0.312311                            -1.786942   \n",
       "110012                     -0.312311                             0.559615   \n",
       "28244                      -0.312311                             0.559615   \n",
       "22923                      -0.312311                             0.559615   \n",
       "...                              ...                                  ...   \n",
       "161537                     -0.312311                             0.559615   \n",
       "237331                     -0.312311                            -1.786942   \n",
       "226045                     -0.312311                             0.559615   \n",
       "66724                       3.201933                             0.559615   \n",
       "102419                     -0.312311                             0.559615   \n",
       "\n",
       "        has_superstructure_stone_flag  ...  plan_configuration_m  \\\n",
       "113907                      -0.186833  ...             -0.014529   \n",
       "178415                      -0.186833  ...             -0.014529   \n",
       "110012                      -0.186833  ...             -0.014529   \n",
       "28244                       -0.186833  ...             -0.014529   \n",
       "22923                       -0.186833  ...             -0.014529   \n",
       "...                               ...  ...                   ...   \n",
       "161537                      -0.186833  ...             -0.014529   \n",
       "237331                      -0.186833  ...             -0.014529   \n",
       "226045                      -0.186833  ...             -0.014529   \n",
       "66724                       -0.186833  ...             -0.014529   \n",
       "102419                      -0.186833  ...             -0.014529   \n",
       "\n",
       "        plan_configuration_n  plan_configuration_o  plan_configuration_q  \\\n",
       "113907             -0.009795              -0.02629             -0.152461   \n",
       "178415             -0.009795              -0.02629             -0.152461   \n",
       "110012             -0.009795              -0.02629             -0.152461   \n",
       "28244              -0.009795              -0.02629             -0.152461   \n",
       "22923              -0.009795              -0.02629             -0.152461   \n",
       "...                      ...                   ...                   ...   \n",
       "161537             -0.009795              -0.02629             -0.152461   \n",
       "237331             -0.009795              -0.02629             -0.152461   \n",
       "226045             -0.009795              -0.02629             -0.152461   \n",
       "66724              -0.009795              -0.02629             -0.152461   \n",
       "102419             -0.009795              -0.02629              6.559048   \n",
       "\n",
       "        plan_configuration_s  plan_configuration_u  legal_ownership_status_a  \\\n",
       "113907             -0.031905             -0.118353                 -0.141493   \n",
       "178415             -0.031905             -0.118353                 -0.141493   \n",
       "110012             -0.031905             -0.118353                 -0.141493   \n",
       "28244              -0.031905             -0.118353                 -0.141493   \n",
       "22923              -0.031905             -0.118353                 -0.141493   \n",
       "...                      ...                   ...                       ...   \n",
       "161537             -0.031905             -0.118353                 -0.141493   \n",
       "237331             -0.031905             -0.118353                 -0.141493   \n",
       "226045             -0.031905              8.449277                 -0.141493   \n",
       "66724              -0.031905             -0.118353                 -0.141493   \n",
       "102419             -0.031905             -0.118353                 -0.141493   \n",
       "\n",
       "        legal_ownership_status_r  legal_ownership_status_v  \\\n",
       "113907                 -0.075317                  0.192693   \n",
       "178415                 -0.075317                  0.192693   \n",
       "110012                 -0.075317                  0.192693   \n",
       "28244                  -0.075317                  0.192693   \n",
       "22923                  -0.075317                  0.192693   \n",
       "...                          ...                       ...   \n",
       "161537                 -0.075317                  0.192693   \n",
       "237331                 -0.075317                  0.192693   \n",
       "226045                 -0.075317                  0.192693   \n",
       "66724                  -0.075317                  0.192693   \n",
       "102419                 -0.075317                  0.192693   \n",
       "\n",
       "        legal_ownership_status_w  \n",
       "113907                 -0.103176  \n",
       "178415                 -0.103176  \n",
       "110012                 -0.103176  \n",
       "28244                  -0.103176  \n",
       "22923                  -0.103176  \n",
       "...                          ...  \n",
       "161537                 -0.103176  \n",
       "237331                 -0.103176  \n",
       "226045                 -0.103176  \n",
       "66724                  -0.103176  \n",
       "102419                 -0.103176  \n",
       "\n",
       "[52121 rows x 68 columns]"
      ]
     },
     "metadata": {},
     "output_type": "display_data"
    }
   ],
   "source": [
    "from sklearn.preprocessing import scale\n",
    "\n",
    "# Create a new copy of the data\n",
    "X_train_scaled = train_X[np.isfinite(train_X)]\n",
    "X_test_scaled = test_X[np.isfinite(test_X)]\n",
    "\n",
    "# Go through all columns and scale the values in each\n",
    "for column in X_train_scaled.columns:\n",
    "    column_data = scale(X_train_scaled[column].dropna())\n",
    "    X_train_scaled[column] = column_data\n",
    "    \n",
    "for column in X_test_scaled.columns:\n",
    "    column_data = scale(X_test_scaled[column].dropna())\n",
    "    X_test_scaled[column] = column_data\n",
    "    \n",
    "display (X_test_scaled)"
   ]
  },
  {
   "cell_type": "code",
   "execution_count": 84,
   "metadata": {},
   "outputs": [
    {
     "name": "stdout",
     "output_type": "stream",
     "text": [
      "[2 2 2 ... 2 2 2]\n",
      "The standard accuracy score is:  0.7069319468160626\n",
      "The recall score is:  0.7069319468160626\n",
      "The matthew's correlation coefficient is:  0.45210871593853247\n"
     ]
    },
    {
     "data": {
      "image/png": "[encoded data removed]",
      "text/plain": [
       "<Figure size 720x504 with 2 Axes>"
      ]
     },
     "metadata": {},
     "output_type": "display_data"
    }
   ],
   "source": [
    "clf = RandomForestClassifier(n_jobs=4, \n",
    "                             random_state=0,\n",
    "                             criterion=\"gini\",\n",
    "                             n_estimators=50,\n",
    "                             verbose=False)\n",
    "\n",
    "clf.fit(X_train_scaled, train_Y.values)\n",
    "preds = clf.predict(X_test_scaled)\n",
    "print(preds)\n",
    "\n",
    "print(\"The standard accuracy score is: \", accuracy_score(test_Y.values, preds))\n",
    "print(\"The recall score is: \", sklearn.metrics.recall_score(test_Y.values, preds, average='micro'))\n",
    "print(\"The matthew's correlation coefficient is: \", sklearn.metrics.matthews_corrcoef(test_Y.values, preds))\n",
    "\n",
    "cm = pd.crosstab(test_Y.values, preds, rownames=['Actual'], colnames=['Predicted'])\n",
    "\n",
    "#heat map for confusion matrix\n",
    "fig, ax = plt.subplots(figsize=(10,7))\n",
    "sb.heatmap(cm, annot=True, fmt='d')\n",
    "plt.show()"
   ]
  },
  {
   "cell_type": "markdown",
   "metadata": {},
   "source": [
    "Accuracy does not improve with Data Scaling\n",
    "- Mostly likely due to the fact that tree based models (like Random Forest) are not distance-based models and can handle varying ranges of features. Hence, Scaling is not required while modelling trees."
   ]
  },
  {
   "cell_type": "markdown",
   "metadata": {},
   "source": [
    "5. Variable Transformation\n",
    "\n",
    "We will also use Principal Component Analysis (PCA) here as it helps to speed up machine learning algorithms"
   ]
  },
  {
   "cell_type": "code",
   "execution_count": 85,
   "metadata": {
    "scrolled": true
   },
   "outputs": [
    {
     "name": "stdout",
     "output_type": "stream",
     "text": [
      "Explained variation per principal component: [0.98691745 0.01266508]\n"
     ]
    }
   ],
   "source": [
    "from sklearn.decomposition import PCA\n",
    "pca_2D = PCA(n_components=2)\n",
    "pca_output_2D = pca_2D.fit_transform(train_X.values)\n",
    "print('Explained variation per principal component: {}'.format(pca_2D.explained_variance_ratio_))"
   ]
  },
  {
   "cell_type": "code",
   "execution_count": 86,
   "metadata": {
    "scrolled": false
   },
   "outputs": [
    {
     "data": {
      "text/html": [
       "<div>\n",
       "<style scoped>\n",
       "    .dataframe tbody tr th:only-of-type {\n",
       "        vertical-align: middle;\n",
       "    }\n",
       "\n",
       "    .dataframe tbody tr th {\n",
       "        vertical-align: top;\n",
       "    }\n",
       "\n",
       "    .dataframe thead th {\n",
       "        text-align: right;\n",
       "    }\n",
       "</style>\n",
       "<table border=\"1\" class=\"dataframe\">\n",
       "  <thead>\n",
       "    <tr style=\"text-align: right;\">\n",
       "      <th></th>\n",
       "      <th>x</th>\n",
       "      <th>y</th>\n",
       "    </tr>\n",
       "  </thead>\n",
       "  <tbody>\n",
       "    <tr>\n",
       "      <th>0</th>\n",
       "      <td>-4397.707171</td>\n",
       "      <td>183.607514</td>\n",
       "    </tr>\n",
       "    <tr>\n",
       "      <th>1</th>\n",
       "      <td>555.150596</td>\n",
       "      <td>-544.344707</td>\n",
       "    </tr>\n",
       "    <tr>\n",
       "      <th>2</th>\n",
       "      <td>719.249173</td>\n",
       "      <td>-51.438642</td>\n",
       "    </tr>\n",
       "    <tr>\n",
       "      <th>3</th>\n",
       "      <td>1250.337695</td>\n",
       "      <td>406.483877</td>\n",
       "    </tr>\n",
       "    <tr>\n",
       "      <th>4</th>\n",
       "      <td>3239.204926</td>\n",
       "      <td>-278.932746</td>\n",
       "    </tr>\n",
       "  </tbody>\n",
       "</table>\n",
       "</div>"
      ],
      "text/plain": [
       "             x           y\n",
       "0 -4397.707171  183.607514\n",
       "1   555.150596 -544.344707\n",
       "2   719.249173  -51.438642\n",
       "3  1250.337695  406.483877\n",
       "4  3239.204926 -278.932746"
      ]
     },
     "execution_count": 86,
     "metadata": {},
     "output_type": "execute_result"
    }
   ],
   "source": [
    "pca_output_2D=pd.DataFrame(pca_output_2D)\n",
    "pca_output_2D.columns=['x','y']\n",
    "pca_output_2D.head()"
   ]
  },
  {
   "cell_type": "markdown",
   "metadata": {},
   "source": [
    "After repeated trial and error, we have performed variable transformation on the following features which has improved the model accuracy."
   ]
  },
  {
   "cell_type": "code",
   "execution_count": 87,
   "metadata": {},
   "outputs": [
    {
     "data": {
      "text/html": [
       "<div>\n",
       "<style scoped>\n",
       "    .dataframe tbody tr th:only-of-type {\n",
       "        vertical-align: middle;\n",
       "    }\n",
       "\n",
       "    .dataframe tbody tr th {\n",
       "        vertical-align: top;\n",
       "    }\n",
       "\n",
       "    .dataframe thead th {\n",
       "        text-align: right;\n",
       "    }\n",
       "</style>\n",
       "<table border=\"1\" class=\"dataframe\">\n",
       "  <thead>\n",
       "    <tr style=\"text-align: right;\">\n",
       "      <th></th>\n",
       "      <th>geo_level_1_id</th>\n",
       "      <th>geo_level_2_id</th>\n",
       "      <th>geo_level_3_id</th>\n",
       "      <th>count_floors_pre_eq</th>\n",
       "      <th>age</th>\n",
       "      <th>area_percentage</th>\n",
       "      <th>height_percentage</th>\n",
       "      <th>has_superstructure_adobe_mud</th>\n",
       "      <th>has_superstructure_mud_mortar_stone</th>\n",
       "      <th>has_superstructure_stone_flag</th>\n",
       "      <th>...</th>\n",
       "      <th>plan_configuration_m</th>\n",
       "      <th>plan_configuration_n</th>\n",
       "      <th>plan_configuration_o</th>\n",
       "      <th>plan_configuration_q</th>\n",
       "      <th>plan_configuration_s</th>\n",
       "      <th>plan_configuration_u</th>\n",
       "      <th>legal_ownership_status_a</th>\n",
       "      <th>legal_ownership_status_r</th>\n",
       "      <th>legal_ownership_status_v</th>\n",
       "      <th>legal_ownership_status_w</th>\n",
       "    </tr>\n",
       "  </thead>\n",
       "  <tbody>\n",
       "    <tr>\n",
       "      <th>242365</th>\n",
       "      <td>11</td>\n",
       "      <td>6.783325</td>\n",
       "      <td>7.528332</td>\n",
       "      <td>3</td>\n",
       "      <td>30</td>\n",
       "      <td>10</td>\n",
       "      <td>9</td>\n",
       "      <td>0</td>\n",
       "      <td>0</td>\n",
       "      <td>0</td>\n",
       "      <td>...</td>\n",
       "      <td>0</td>\n",
       "      <td>0</td>\n",
       "      <td>0</td>\n",
       "      <td>0</td>\n",
       "      <td>0</td>\n",
       "      <td>0</td>\n",
       "      <td>0</td>\n",
       "      <td>0</td>\n",
       "      <td>1</td>\n",
       "      <td>0</td>\n",
       "    </tr>\n",
       "    <tr>\n",
       "      <th>117852</th>\n",
       "      <td>17</td>\n",
       "      <td>5.049856</td>\n",
       "      <td>8.826588</td>\n",
       "      <td>2</td>\n",
       "      <td>35</td>\n",
       "      <td>4</td>\n",
       "      <td>5</td>\n",
       "      <td>0</td>\n",
       "      <td>1</td>\n",
       "      <td>0</td>\n",
       "      <td>...</td>\n",
       "      <td>0</td>\n",
       "      <td>0</td>\n",
       "      <td>0</td>\n",
       "      <td>0</td>\n",
       "      <td>0</td>\n",
       "      <td>0</td>\n",
       "      <td>0</td>\n",
       "      <td>0</td>\n",
       "      <td>1</td>\n",
       "      <td>0</td>\n",
       "    </tr>\n",
       "    <tr>\n",
       "      <th>126550</th>\n",
       "      <td>22</td>\n",
       "      <td>6.475433</td>\n",
       "      <td>8.850374</td>\n",
       "      <td>2</td>\n",
       "      <td>15</td>\n",
       "      <td>9</td>\n",
       "      <td>5</td>\n",
       "      <td>0</td>\n",
       "      <td>1</td>\n",
       "      <td>0</td>\n",
       "      <td>...</td>\n",
       "      <td>0</td>\n",
       "      <td>0</td>\n",
       "      <td>0</td>\n",
       "      <td>0</td>\n",
       "      <td>0</td>\n",
       "      <td>0</td>\n",
       "      <td>0</td>\n",
       "      <td>0</td>\n",
       "      <td>1</td>\n",
       "      <td>0</td>\n",
       "    </tr>\n",
       "    <tr>\n",
       "      <th>153268</th>\n",
       "      <td>12</td>\n",
       "      <td>7.009409</td>\n",
       "      <td>8.923724</td>\n",
       "      <td>2</td>\n",
       "      <td>20</td>\n",
       "      <td>4</td>\n",
       "      <td>5</td>\n",
       "      <td>0</td>\n",
       "      <td>1</td>\n",
       "      <td>0</td>\n",
       "      <td>...</td>\n",
       "      <td>0</td>\n",
       "      <td>0</td>\n",
       "      <td>0</td>\n",
       "      <td>0</td>\n",
       "      <td>0</td>\n",
       "      <td>0</td>\n",
       "      <td>0</td>\n",
       "      <td>0</td>\n",
       "      <td>1</td>\n",
       "      <td>0</td>\n",
       "    </tr>\n",
       "    <tr>\n",
       "      <th>191346</th>\n",
       "      <td>27</td>\n",
       "      <td>6.045005</td>\n",
       "      <td>9.158731</td>\n",
       "      <td>2</td>\n",
       "      <td>15</td>\n",
       "      <td>7</td>\n",
       "      <td>6</td>\n",
       "      <td>1</td>\n",
       "      <td>0</td>\n",
       "      <td>0</td>\n",
       "      <td>...</td>\n",
       "      <td>0</td>\n",
       "      <td>0</td>\n",
       "      <td>0</td>\n",
       "      <td>0</td>\n",
       "      <td>0</td>\n",
       "      <td>0</td>\n",
       "      <td>0</td>\n",
       "      <td>0</td>\n",
       "      <td>1</td>\n",
       "      <td>0</td>\n",
       "    </tr>\n",
       "    <tr>\n",
       "      <th>...</th>\n",
       "      <td>...</td>\n",
       "      <td>...</td>\n",
       "      <td>...</td>\n",
       "      <td>...</td>\n",
       "      <td>...</td>\n",
       "      <td>...</td>\n",
       "      <td>...</td>\n",
       "      <td>...</td>\n",
       "      <td>...</td>\n",
       "      <td>...</td>\n",
       "      <td>...</td>\n",
       "      <td>...</td>\n",
       "      <td>...</td>\n",
       "      <td>...</td>\n",
       "      <td>...</td>\n",
       "      <td>...</td>\n",
       "      <td>...</td>\n",
       "      <td>...</td>\n",
       "      <td>...</td>\n",
       "      <td>...</td>\n",
       "      <td>...</td>\n",
       "    </tr>\n",
       "    <tr>\n",
       "      <th>121532</th>\n",
       "      <td>6</td>\n",
       "      <td>7.133296</td>\n",
       "      <td>2.995732</td>\n",
       "      <td>4</td>\n",
       "      <td>70</td>\n",
       "      <td>4</td>\n",
       "      <td>8</td>\n",
       "      <td>0</td>\n",
       "      <td>0</td>\n",
       "      <td>0</td>\n",
       "      <td>...</td>\n",
       "      <td>0</td>\n",
       "      <td>0</td>\n",
       "      <td>0</td>\n",
       "      <td>0</td>\n",
       "      <td>0</td>\n",
       "      <td>0</td>\n",
       "      <td>0</td>\n",
       "      <td>0</td>\n",
       "      <td>1</td>\n",
       "      <td>0</td>\n",
       "    </tr>\n",
       "    <tr>\n",
       "      <th>243289</th>\n",
       "      <td>16</td>\n",
       "      <td>5.863631</td>\n",
       "      <td>7.997663</td>\n",
       "      <td>2</td>\n",
       "      <td>20</td>\n",
       "      <td>9</td>\n",
       "      <td>6</td>\n",
       "      <td>0</td>\n",
       "      <td>1</td>\n",
       "      <td>0</td>\n",
       "      <td>...</td>\n",
       "      <td>0</td>\n",
       "      <td>0</td>\n",
       "      <td>0</td>\n",
       "      <td>0</td>\n",
       "      <td>0</td>\n",
       "      <td>0</td>\n",
       "      <td>0</td>\n",
       "      <td>0</td>\n",
       "      <td>1</td>\n",
       "      <td>0</td>\n",
       "    </tr>\n",
       "    <tr>\n",
       "      <th>222425</th>\n",
       "      <td>7</td>\n",
       "      <td>6.614726</td>\n",
       "      <td>8.519391</td>\n",
       "      <td>2</td>\n",
       "      <td>15</td>\n",
       "      <td>15</td>\n",
       "      <td>6</td>\n",
       "      <td>0</td>\n",
       "      <td>1</td>\n",
       "      <td>0</td>\n",
       "      <td>...</td>\n",
       "      <td>0</td>\n",
       "      <td>0</td>\n",
       "      <td>0</td>\n",
       "      <td>0</td>\n",
       "      <td>0</td>\n",
       "      <td>0</td>\n",
       "      <td>0</td>\n",
       "      <td>0</td>\n",
       "      <td>1</td>\n",
       "      <td>0</td>\n",
       "    </tr>\n",
       "    <tr>\n",
       "      <th>62782</th>\n",
       "      <td>1</td>\n",
       "      <td>7.165493</td>\n",
       "      <td>6.758095</td>\n",
       "      <td>2</td>\n",
       "      <td>10</td>\n",
       "      <td>15</td>\n",
       "      <td>5</td>\n",
       "      <td>0</td>\n",
       "      <td>1</td>\n",
       "      <td>0</td>\n",
       "      <td>...</td>\n",
       "      <td>0</td>\n",
       "      <td>0</td>\n",
       "      <td>0</td>\n",
       "      <td>0</td>\n",
       "      <td>0</td>\n",
       "      <td>0</td>\n",
       "      <td>0</td>\n",
       "      <td>0</td>\n",
       "      <td>1</td>\n",
       "      <td>0</td>\n",
       "    </tr>\n",
       "    <tr>\n",
       "      <th>222761</th>\n",
       "      <td>13</td>\n",
       "      <td>6.987490</td>\n",
       "      <td>8.646290</td>\n",
       "      <td>2</td>\n",
       "      <td>25</td>\n",
       "      <td>8</td>\n",
       "      <td>4</td>\n",
       "      <td>0</td>\n",
       "      <td>1</td>\n",
       "      <td>0</td>\n",
       "      <td>...</td>\n",
       "      <td>0</td>\n",
       "      <td>0</td>\n",
       "      <td>0</td>\n",
       "      <td>0</td>\n",
       "      <td>0</td>\n",
       "      <td>0</td>\n",
       "      <td>0</td>\n",
       "      <td>0</td>\n",
       "      <td>1</td>\n",
       "      <td>0</td>\n",
       "    </tr>\n",
       "  </tbody>\n",
       "</table>\n",
       "<p>208480 rows × 68 columns</p>\n",
       "</div>"
      ],
      "text/plain": [
       "        geo_level_1_id  geo_level_2_id  geo_level_3_id  count_floors_pre_eq  \\\n",
       "242365              11        6.783325        7.528332                    3   \n",
       "117852              17        5.049856        8.826588                    2   \n",
       "126550              22        6.475433        8.850374                    2   \n",
       "153268              12        7.009409        8.923724                    2   \n",
       "191346              27        6.045005        9.158731                    2   \n",
       "...                ...             ...             ...                  ...   \n",
       "121532               6        7.133296        2.995732                    4   \n",
       "243289              16        5.863631        7.997663                    2   \n",
       "222425               7        6.614726        8.519391                    2   \n",
       "62782                1        7.165493        6.758095                    2   \n",
       "222761              13        6.987490        8.646290                    2   \n",
       "\n",
       "        age  area_percentage  height_percentage  has_superstructure_adobe_mud  \\\n",
       "242365   30               10                  9                             0   \n",
       "117852   35                4                  5                             0   \n",
       "126550   15                9                  5                             0   \n",
       "153268   20                4                  5                             0   \n",
       "191346   15                7                  6                             1   \n",
       "...     ...              ...                ...                           ...   \n",
       "121532   70                4                  8                             0   \n",
       "243289   20                9                  6                             0   \n",
       "222425   15               15                  6                             0   \n",
       "62782    10               15                  5                             0   \n",
       "222761   25                8                  4                             0   \n",
       "\n",
       "        has_superstructure_mud_mortar_stone  has_superstructure_stone_flag  \\\n",
       "242365                                    0                              0   \n",
       "117852                                    1                              0   \n",
       "126550                                    1                              0   \n",
       "153268                                    1                              0   \n",
       "191346                                    0                              0   \n",
       "...                                     ...                            ...   \n",
       "121532                                    0                              0   \n",
       "243289                                    1                              0   \n",
       "222425                                    1                              0   \n",
       "62782                                     1                              0   \n",
       "222761                                    1                              0   \n",
       "\n",
       "        ...  plan_configuration_m  plan_configuration_n  plan_configuration_o  \\\n",
       "242365  ...                     0                     0                     0   \n",
       "117852  ...                     0                     0                     0   \n",
       "126550  ...                     0                     0                     0   \n",
       "153268  ...                     0                     0                     0   \n",
       "191346  ...                     0                     0                     0   \n",
       "...     ...                   ...                   ...                   ...   \n",
       "121532  ...                     0                     0                     0   \n",
       "243289  ...                     0                     0                     0   \n",
       "222425  ...                     0                     0                     0   \n",
       "62782   ...                     0                     0                     0   \n",
       "222761  ...                     0                     0                     0   \n",
       "\n",
       "        plan_configuration_q  plan_configuration_s  plan_configuration_u  \\\n",
       "242365                     0                     0                     0   \n",
       "117852                     0                     0                     0   \n",
       "126550                     0                     0                     0   \n",
       "153268                     0                     0                     0   \n",
       "191346                     0                     0                     0   \n",
       "...                      ...                   ...                   ...   \n",
       "121532                     0                     0                     0   \n",
       "243289                     0                     0                     0   \n",
       "222425                     0                     0                     0   \n",
       "62782                      0                     0                     0   \n",
       "222761                     0                     0                     0   \n",
       "\n",
       "        legal_ownership_status_a  legal_ownership_status_r  \\\n",
       "242365                         0                         0   \n",
       "117852                         0                         0   \n",
       "126550                         0                         0   \n",
       "153268                         0                         0   \n",
       "191346                         0                         0   \n",
       "...                          ...                       ...   \n",
       "121532                         0                         0   \n",
       "243289                         0                         0   \n",
       "222425                         0                         0   \n",
       "62782                          0                         0   \n",
       "222761                         0                         0   \n",
       "\n",
       "        legal_ownership_status_v  legal_ownership_status_w  \n",
       "242365                         1                         0  \n",
       "117852                         1                         0  \n",
       "126550                         1                         0  \n",
       "153268                         1                         0  \n",
       "191346                         1                         0  \n",
       "...                          ...                       ...  \n",
       "121532                         1                         0  \n",
       "243289                         1                         0  \n",
       "222425                         1                         0  \n",
       "62782                          1                         0  \n",
       "222761                         1                         0  \n",
       "\n",
       "[208480 rows x 68 columns]"
      ]
     },
     "metadata": {},
     "output_type": "display_data"
    }
   ],
   "source": [
    "#Log geo_level_2/3 \n",
    "train_X['geo_level_3_id'] = np.log(train_X['geo_level_3_id'].replace(0, 1))\n",
    "test_X['geo_level_3_id'] = np.log(test_X['geo_level_3_id'].replace(0, 1))\n",
    "train_X['geo_level_2_id'] = np.log(train_X['geo_level_2_id'].replace(0, 1))\n",
    "test_X['geo_level_2_id'] = np.log(test_X['geo_level_2_id'].replace(0, 1))\n",
    "display (train_X)"
   ]
  },
  {
   "cell_type": "code",
   "execution_count": 114,
   "metadata": {},
   "outputs": [],
   "source": [
    "# Age 995 (Binary)\n",
    "train_X.loc[train_X.age == 995, 'Age 995'] = '1' \n",
    "train_X.loc[train_X.age != 995, 'Age 995'] = '0' \n",
    "train_X['Age 995'] = train_X[['Age 995']].apply(pd.to_numeric)\n",
    "test_X.loc[test_X.age == 995, 'Age 995'] = '1' \n",
    "test_X.loc[test_X.age != 995, 'Age 995'] = '0' \n",
    "test_X['Age 995'] = test_X[['Age 995']].apply(pd.to_numeric)"
   ]
  },
  {
   "cell_type": "code",
   "execution_count": 115,
   "metadata": {},
   "outputs": [
    {
     "name": "stdout",
     "output_type": "stream",
     "text": [
      "[2 2 2 ... 2 2 2]\n",
      "The standard accuracy score is:  0.7092342817674258\n",
      "The recall score is:  0.7092342817674258\n",
      "The matthew's correlation coefficient is:  0.4568501883760231\n"
     ]
    },
    {
     "data": {
      "image/png": "[encoded data removed]",
      "text/plain": [
       "<Figure size 720x504 with 2 Axes>"
      ]
     },
     "metadata": {},
     "output_type": "display_data"
    }
   ],
   "source": [
    "clf = RandomForestClassifier(n_jobs=4, \n",
    "                             random_state=0,\n",
    "                             criterion=\"gini\",\n",
    "                             n_estimators=50,\n",
    "                             verbose=False)\n",
    "\n",
    "clf.fit(train_X, train_Y.values)\n",
    "preds = clf.predict(test_X)\n",
    "print(preds)\n",
    "\n",
    "print(\"The standard accuracy score is: \", accuracy_score(test_Y.values, preds))\n",
    "print(\"The recall score is: \", sklearn.metrics.recall_score(test_Y.values, preds, average='micro'))\n",
    "print(\"The matthew's correlation coefficient is: \", sklearn.metrics.matthews_corrcoef(test_Y.values, preds))\n",
    "\n",
    "cm = pd.crosstab(test_Y.values, preds, rownames=['Actual'], colnames=['Predicted'])\n",
    "\n",
    "#heat map for confusion matrix\n",
    "fig, ax = plt.subplots(figsize=(10,7))\n",
    "sb.heatmap(cm, annot=True, fmt='d')\n",
    "plt.show()"
   ]
  },
  {
   "cell_type": "markdown",
   "metadata": {},
   "source": [
    "## <a id='section7'> Method 4: Adaptive Boost </a>\n",
    "AdaBoost, short for “Adaptive Boosting”, focuses on classification problems and aims to convert a set of weak classifiers into a strong one. \n",
    "Here we propose a combination of the Random Forest Classifier and Adaboost to generate a stronger model."
   ]
  },
  {
   "cell_type": "code",
   "execution_count": 117,
   "metadata": {},
   "outputs": [],
   "source": [
    "from sklearn.ensemble import AdaBoostClassifier, GradientBoostingClassifier\n",
    "from sklearn import metrics"
   ]
  },
  {
   "cell_type": "code",
   "execution_count": 118,
   "metadata": {},
   "outputs": [],
   "source": [
    "AdaBoost = AdaBoostClassifier(base_estimator = clf, learning_rate=1)\n",
    "boostmodel = AdaBoost.fit(train_X, train_Y)"
   ]
  },
  {
   "cell_type": "code",
   "execution_count": 119,
   "metadata": {},
   "outputs": [
    {
     "name": "stdout",
     "output_type": "stream",
     "text": [
      "Accuracy of model = 0.7054162429730819\n",
      "The standard accuracy score is:  0.7054162429730819\n",
      "The recall score is:  0.7054162429730819\n",
      "The matthew's correlation coefficient is:  0.4460597334896936\n"
     ]
    }
   ],
   "source": [
    "preds = boostmodel.predict(test_X)\n",
    "predictions = accuracy_score(test_Y,preds)\n",
    "\n",
    "print(\"Accuracy of model =\", predictions)\n",
    "print(\"The standard accuracy score is: \", accuracy_score(test_Y.values, preds))\n",
    "print(\"The recall score is: \", sklearn.metrics.recall_score(test_Y.values, preds, average='micro'))\n",
    "print(\"The matthew's correlation coefficient is: \", sklearn.metrics.matthews_corrcoef(test_Y.values, preds))"
   ]
  },
  {
   "cell_type": "markdown",
   "metadata": {},
   "source": [
    "The model accuracy has not improved with the use of Adaboost and this is likely due to several factor such as: \n",
    "1. The hyperparamters in Adaboost itself are not optimized \n",
    "2. Data imbalance leads to a decrease in classification accuracy\n",
    "\n",
    "However, we have decided to not go deeper into it as the optimization of hyperparameters in Adaboost and implementation of the model itself may be too time-consuming for our problem statement."
   ]
  },
  {
   "cell_type": "markdown",
   "metadata": {},
   "source": [
    "## <a id='section8'> Method 5: SMOTE </a>\n",
    "Synthetic Minority Oversampling Technique (SMOTE) is a data augmentation method for the minority class in imbalanced data sheets."
   ]
  },
  {
   "cell_type": "code",
   "execution_count": 120,
   "metadata": {},
   "outputs": [
    {
     "name": "stderr",
     "output_type": "stream",
     "text": [
      "Using TensorFlow backend.\n"
     ]
    },
    {
     "name": "stdout",
     "output_type": "stream",
     "text": [
      "(208480, 69) (208480,)\n",
      "(306988, 69) (306988,)\n"
     ]
    }
   ],
   "source": [
    "from imblearn.over_sampling import SMOTE\n",
    "smote = SMOTE ('minority')\n",
    "smoted_X, smoted_Y = smote.fit_sample(train_X, train_Y)\n",
    "print (train_X.shape, train_Y.shape)\n",
    "print (smoted_X.shape, smoted_Y.shape)"
   ]
  },
  {
   "cell_type": "code",
   "execution_count": 121,
   "metadata": {},
   "outputs": [
    {
     "name": "stdout",
     "output_type": "stream",
     "text": [
      "[2 2 2 ... 3 2 2]\n",
      "The standard accuracy score is:  0.6990080773584544\n",
      "The recall score is:  0.6990080773584544\n",
      "The matthew's correlation coefficient is:  0.44948840727855766\n"
     ]
    },
    {
     "data": {
      "image/png": "[encoded data removed]",
      "text/plain": [
       "<Figure size 720x504 with 2 Axes>"
      ]
     },
     "metadata": {},
     "output_type": "display_data"
    }
   ],
   "source": [
    "clf = RandomForestClassifier(n_jobs=4, \n",
    "                             random_state=0,\n",
    "                             criterion=\"gini\",\n",
    "                             n_estimators=50,\n",
    "                             verbose=False)\n",
    "\n",
    "clf.fit(smoted_X, smoted_Y)\n",
    "preds = clf.predict(test_X)\n",
    "print(preds)\n",
    "\n",
    "print(\"The standard accuracy score is: \", accuracy_score(test_Y.values, preds))\n",
    "print(\"The recall score is: \", sklearn.metrics.recall_score(test_Y.values, preds, average='micro'))\n",
    "print(\"The matthew's correlation coefficient is: \", sklearn.metrics.matthews_corrcoef(test_Y.values, preds))\n",
    "\n",
    "cm = pd.crosstab(test_Y.values, preds, rownames=['Actual'], colnames=['Predicted'])\n",
    "\n",
    "#heat map for confusion matrix\n",
    "fig, ax = plt.subplots(figsize=(10,7))\n",
    "sb.heatmap(cm, annot=True, fmt='d')\n",
    "plt.show()"
   ]
  },
  {
   "cell_type": "markdown",
   "metadata": {},
   "source": [
    "However, the accuracy of the model did not improve with SMOTE which was probably due to the fact that there are only a few variables which are highly skewed. These variables only occupy a small percentage of the entire dataset and as such, the dataset is not heavily imbalanced for SMOTE to improve the model accuracy significantly."
   ]
  },
  {
   "cell_type": "markdown",
   "metadata": {},
   "source": [
    "## <a id='section9'>Results</a>"
   ]
  },
  {
   "cell_type": "markdown",
   "metadata": {},
   "source": [
    "Overall Result"
   ]
  },
  {
   "cell_type": "code",
   "execution_count": 123,
   "metadata": {},
   "outputs": [
    {
     "name": "stdout",
     "output_type": "stream",
     "text": [
      "Method                 Optimization Result\n",
      "---------------------  ---------------------\n",
      "Feature Importance     Success\n",
      "Adaptive Boost         Failure\n",
      "SMOTE                  Failure\n",
      "Hyperparameter Tuning  Success\n",
      "Feature Engineering    Varying Success\n"
     ]
    }
   ],
   "source": [
    "from tabulate import tabulate\n",
    "print(tabulate([['Feature Importance', \"Success\"], ['Adaptive Boost', \"Failure\"], ['SMOTE', \"Failure\"], ['Hyperparameter Tuning', 'Success'],['Feature Engineering', 'Varying Success']], headers=['Method', 'Optimization Result']))"
   ]
  },
  {
   "cell_type": "markdown",
   "metadata": {},
   "source": [
    "Results under Feature Engineering"
   ]
  },
  {
   "cell_type": "code",
   "execution_count": 125,
   "metadata": {
    "scrolled": true
   },
   "outputs": [
    {
     "name": "stdout",
     "output_type": "stream",
     "text": [
      "Feature Engineering Method    Optimization Result\n",
      "----------------------------  ---------------------\n",
      "Outlier Capping               Success\n",
      "One-Hot Encoding              Success\n",
      "Variable Transformation       Success\n",
      "Variable Discretisation       Success\n",
      "Data Scaling                  Failure\n"
     ]
    }
   ],
   "source": [
    "print(tabulate([['Outlier Capping', \"Success\"], ['One-Hot Encoding', \"Success\"],['Variable Transformation', 'Success'],['Variable Discretisation', 'Success'],['Data Scaling', 'Failure']], headers=['Feature Engineering Method', 'Optimization Result']))"
   ]
  }
 ],
 "metadata": {
  "kernelspec": {
   "display_name": "Python 3",
   "language": "python",
   "name": "python3"
  },
  "language_info": {
   "codemirror_mode": {
    "name": "ipython",
    "version": 3
   },
   "file_extension": ".py",
   "mimetype": "text/x-python",
   "name": "python",
   "nbconvert_exporter": "python",
   "pygments_lexer": "ipython3",
   "version": "3.8.3"
  }
 },
 "nbformat": 4,
 "nbformat_minor": 4
}
