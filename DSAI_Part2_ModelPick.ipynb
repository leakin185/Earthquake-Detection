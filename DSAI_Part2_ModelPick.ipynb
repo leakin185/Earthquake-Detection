{
 "cells": [
  {
   "cell_type": "markdown",
   "metadata": {},
   "source": [
    "# Data Science and Artificial Intelligence Mini Project\n",
    "## Part 2: Model Selection\n",
    "### Team members: Jamie Sze, Tan Jie Hui, Wang Yi\n",
    "\n",
    "In this section, we aim to evaluate different popular machine learning models and their accuracy in this particular use case of classifying earthquake damage. To do so, we will explore the use of 5 popular machine learning models, tune their hyperparameters to best fit our use case of multi-class classification and identify which model has the best accuracy"
   ]
  },
  {
   "cell_type": "markdown",
   "metadata": {},
   "source": [
    "## Contents <a class=\"anchor\" id=\"top\"></a>\n",
    "\n",
    "#### [Import Libraries and Datasets](#import)\n",
    "\n",
    "#### [Data Preparation](#dataprep)\n",
    "- [One Hot Encoding](#ohe)\n",
    "- [Features and Labels](#features)\n",
    "- [Splitting Dataset Into Train and Test](#split)\n",
    "\n",
    "#### [Modelling and Classification](#model)\n",
    "- [Model 1: Artificial Neural Network](#model1)\n",
    "- [Model 2: Logistics Regression Classifier](#model2)\n",
    "- [Model 3: K Nearest Neighbours](#model3)\n",
    "- [Model 4: Decision Tree](#model4)\n",
    "- [Model 5: Random Forest Classifier](#model5)\n",
    "\n",
    "#### [Model Selection](#select)\n",
    "\n",
    "#### [Appendix](#appendix)"
   ]
  },
  {
   "cell_type": "markdown",
   "metadata": {},
   "source": [
    "## Import Libraries <a class=\"anchor\" id=\"import\"></a>"
   ]
  },
  {
   "cell_type": "code",
   "execution_count": 2,
   "metadata": {},
   "outputs": [
    {
     "name": "stderr",
     "output_type": "stream",
     "text": [
      "Using TensorFlow backend.\n"
     ]
    }
   ],
   "source": [
    "# Basic Libraries\n",
    "import numpy as np\n",
    "import pandas as pd\n",
    "import seaborn as sb\n",
    "import matplotlib.pyplot as plt # we only need pyplot\n",
    "sb.set() # set the default Seaborn style for graphics\n",
    "from scipy import stats\n",
    "import sklearn.metrics\n",
    "from sklearn import preprocessing\n",
    "from sklearn.preprocessing import OneHotEncoder\n",
    "from sklearn.model_selection import train_test_split\n",
    "from sklearn.metrics import roc_auc_score\n",
    "from sklearn.ensemble import RandomForestClassifier\n",
    "from sklearn.metrics import fbeta_score\n",
    "from sklearn.metrics import classification_report,accuracy_score\n",
    "\n",
    "# Importing the Keras libraries and packages\n",
    "import keras\n",
    "from keras.models import Sequential\n",
    "from keras.layers import Dense\n",
    "import seaborn as sn\n",
    "import tensorflow as tf\n",
    "from keras.utils import np_utils\n",
    "\n",
    "from sklearn.tree import DecisionTreeClassifier\n",
    "from sklearn.model_selection import train_test_split\n",
    "from sklearn.metrics import confusion_matrix\n",
    "from sklearn.tree import export_graphviz\n",
    "from sklearn.metrics import f1_score"
   ]
  },
  {
   "cell_type": "markdown",
   "metadata": {},
   "source": [
    "## Import Dataset"
   ]
  },
  {
   "cell_type": "markdown",
   "metadata": {},
   "source": [
    "### Features of Buildings"
   ]
  },
  {
   "cell_type": "code",
   "execution_count": 3,
   "metadata": {},
   "outputs": [
    {
     "data": {
      "text/html": [
       "<div>\n",
       "<style scoped>\n",
       "    .dataframe tbody tr th:only-of-type {\n",
       "        vertical-align: middle;\n",
       "    }\n",
       "\n",
       "    .dataframe tbody tr th {\n",
       "        vertical-align: top;\n",
       "    }\n",
       "\n",
       "    .dataframe thead th {\n",
       "        text-align: right;\n",
       "    }\n",
       "</style>\n",
       "<table border=\"1\" class=\"dataframe\">\n",
       "  <thead>\n",
       "    <tr style=\"text-align: right;\">\n",
       "      <th></th>\n",
       "      <th>building_id</th>\n",
       "      <th>geo_level_1_id</th>\n",
       "      <th>geo_level_2_id</th>\n",
       "      <th>geo_level_3_id</th>\n",
       "      <th>count_floors_pre_eq</th>\n",
       "      <th>age</th>\n",
       "      <th>area_percentage</th>\n",
       "      <th>height_percentage</th>\n",
       "      <th>land_surface_condition</th>\n",
       "      <th>foundation_type</th>\n",
       "      <th>...</th>\n",
       "      <th>has_secondary_use_agriculture</th>\n",
       "      <th>has_secondary_use_hotel</th>\n",
       "      <th>has_secondary_use_rental</th>\n",
       "      <th>has_secondary_use_institution</th>\n",
       "      <th>has_secondary_use_school</th>\n",
       "      <th>has_secondary_use_industry</th>\n",
       "      <th>has_secondary_use_health_post</th>\n",
       "      <th>has_secondary_use_gov_office</th>\n",
       "      <th>has_secondary_use_use_police</th>\n",
       "      <th>has_secondary_use_other</th>\n",
       "    </tr>\n",
       "  </thead>\n",
       "  <tbody>\n",
       "    <tr>\n",
       "      <td>0</td>\n",
       "      <td>802906</td>\n",
       "      <td>6</td>\n",
       "      <td>487</td>\n",
       "      <td>12198</td>\n",
       "      <td>2</td>\n",
       "      <td>30</td>\n",
       "      <td>6</td>\n",
       "      <td>5</td>\n",
       "      <td>t</td>\n",
       "      <td>r</td>\n",
       "      <td>...</td>\n",
       "      <td>0</td>\n",
       "      <td>0</td>\n",
       "      <td>0</td>\n",
       "      <td>0</td>\n",
       "      <td>0</td>\n",
       "      <td>0</td>\n",
       "      <td>0</td>\n",
       "      <td>0</td>\n",
       "      <td>0</td>\n",
       "      <td>0</td>\n",
       "    </tr>\n",
       "    <tr>\n",
       "      <td>1</td>\n",
       "      <td>28830</td>\n",
       "      <td>8</td>\n",
       "      <td>900</td>\n",
       "      <td>2812</td>\n",
       "      <td>2</td>\n",
       "      <td>10</td>\n",
       "      <td>8</td>\n",
       "      <td>7</td>\n",
       "      <td>o</td>\n",
       "      <td>r</td>\n",
       "      <td>...</td>\n",
       "      <td>0</td>\n",
       "      <td>0</td>\n",
       "      <td>0</td>\n",
       "      <td>0</td>\n",
       "      <td>0</td>\n",
       "      <td>0</td>\n",
       "      <td>0</td>\n",
       "      <td>0</td>\n",
       "      <td>0</td>\n",
       "      <td>0</td>\n",
       "    </tr>\n",
       "    <tr>\n",
       "      <td>2</td>\n",
       "      <td>94947</td>\n",
       "      <td>21</td>\n",
       "      <td>363</td>\n",
       "      <td>8973</td>\n",
       "      <td>2</td>\n",
       "      <td>10</td>\n",
       "      <td>5</td>\n",
       "      <td>5</td>\n",
       "      <td>t</td>\n",
       "      <td>r</td>\n",
       "      <td>...</td>\n",
       "      <td>0</td>\n",
       "      <td>0</td>\n",
       "      <td>0</td>\n",
       "      <td>0</td>\n",
       "      <td>0</td>\n",
       "      <td>0</td>\n",
       "      <td>0</td>\n",
       "      <td>0</td>\n",
       "      <td>0</td>\n",
       "      <td>0</td>\n",
       "    </tr>\n",
       "    <tr>\n",
       "      <td>3</td>\n",
       "      <td>590882</td>\n",
       "      <td>22</td>\n",
       "      <td>418</td>\n",
       "      <td>10694</td>\n",
       "      <td>2</td>\n",
       "      <td>10</td>\n",
       "      <td>6</td>\n",
       "      <td>5</td>\n",
       "      <td>t</td>\n",
       "      <td>r</td>\n",
       "      <td>...</td>\n",
       "      <td>0</td>\n",
       "      <td>0</td>\n",
       "      <td>0</td>\n",
       "      <td>0</td>\n",
       "      <td>0</td>\n",
       "      <td>0</td>\n",
       "      <td>0</td>\n",
       "      <td>0</td>\n",
       "      <td>0</td>\n",
       "      <td>0</td>\n",
       "    </tr>\n",
       "    <tr>\n",
       "      <td>4</td>\n",
       "      <td>201944</td>\n",
       "      <td>11</td>\n",
       "      <td>131</td>\n",
       "      <td>1488</td>\n",
       "      <td>3</td>\n",
       "      <td>30</td>\n",
       "      <td>8</td>\n",
       "      <td>9</td>\n",
       "      <td>t</td>\n",
       "      <td>r</td>\n",
       "      <td>...</td>\n",
       "      <td>0</td>\n",
       "      <td>0</td>\n",
       "      <td>0</td>\n",
       "      <td>0</td>\n",
       "      <td>0</td>\n",
       "      <td>0</td>\n",
       "      <td>0</td>\n",
       "      <td>0</td>\n",
       "      <td>0</td>\n",
       "      <td>0</td>\n",
       "    </tr>\n",
       "  </tbody>\n",
       "</table>\n",
       "<p>5 rows × 39 columns</p>\n",
       "</div>"
      ],
      "text/plain": [
       "   building_id  geo_level_1_id  geo_level_2_id  geo_level_3_id  \\\n",
       "0       802906               6             487           12198   \n",
       "1        28830               8             900            2812   \n",
       "2        94947              21             363            8973   \n",
       "3       590882              22             418           10694   \n",
       "4       201944              11             131            1488   \n",
       "\n",
       "   count_floors_pre_eq  age  area_percentage  height_percentage  \\\n",
       "0                    2   30                6                  5   \n",
       "1                    2   10                8                  7   \n",
       "2                    2   10                5                  5   \n",
       "3                    2   10                6                  5   \n",
       "4                    3   30                8                  9   \n",
       "\n",
       "  land_surface_condition foundation_type  ... has_secondary_use_agriculture  \\\n",
       "0                      t               r  ...                             0   \n",
       "1                      o               r  ...                             0   \n",
       "2                      t               r  ...                             0   \n",
       "3                      t               r  ...                             0   \n",
       "4                      t               r  ...                             0   \n",
       "\n",
       "  has_secondary_use_hotel has_secondary_use_rental  \\\n",
       "0                       0                        0   \n",
       "1                       0                        0   \n",
       "2                       0                        0   \n",
       "3                       0                        0   \n",
       "4                       0                        0   \n",
       "\n",
       "  has_secondary_use_institution has_secondary_use_school  \\\n",
       "0                             0                        0   \n",
       "1                             0                        0   \n",
       "2                             0                        0   \n",
       "3                             0                        0   \n",
       "4                             0                        0   \n",
       "\n",
       "   has_secondary_use_industry  has_secondary_use_health_post  \\\n",
       "0                           0                              0   \n",
       "1                           0                              0   \n",
       "2                           0                              0   \n",
       "3                           0                              0   \n",
       "4                           0                              0   \n",
       "\n",
       "   has_secondary_use_gov_office  has_secondary_use_use_police  \\\n",
       "0                             0                             0   \n",
       "1                             0                             0   \n",
       "2                             0                             0   \n",
       "3                             0                             0   \n",
       "4                             0                             0   \n",
       "\n",
       "   has_secondary_use_other  \n",
       "0                        0  \n",
       "1                        0  \n",
       "2                        0  \n",
       "3                        0  \n",
       "4                        0  \n",
       "\n",
       "[5 rows x 39 columns]"
      ]
     },
     "execution_count": 3,
     "metadata": {},
     "output_type": "execute_result"
    }
   ],
   "source": [
    "eqData_train = pd.read_csv('train_values.csv')\n",
    "eqData_train.head()"
   ]
  },
  {
   "cell_type": "markdown",
   "metadata": {},
   "source": [
    "### Labels of Buildings (Damage-Grade)"
   ]
  },
  {
   "cell_type": "code",
   "execution_count": 4,
   "metadata": {},
   "outputs": [
    {
     "data": {
      "text/plain": [
       "(260601, 2)"
      ]
     },
     "execution_count": 4,
     "metadata": {},
     "output_type": "execute_result"
    }
   ],
   "source": [
    "labels = pd.read_csv('train_labels.csv')\n",
    "labels.head()\n",
    "labels.shape"
   ]
  },
  {
   "cell_type": "markdown",
   "metadata": {},
   "source": [
    "### Combining the datasets"
   ]
  },
  {
   "cell_type": "code",
   "execution_count": 5,
   "metadata": {},
   "outputs": [
    {
     "data": {
      "text/html": [
       "<div>\n",
       "<style scoped>\n",
       "    .dataframe tbody tr th:only-of-type {\n",
       "        vertical-align: middle;\n",
       "    }\n",
       "\n",
       "    .dataframe tbody tr th {\n",
       "        vertical-align: top;\n",
       "    }\n",
       "\n",
       "    .dataframe thead th {\n",
       "        text-align: right;\n",
       "    }\n",
       "</style>\n",
       "<table border=\"1\" class=\"dataframe\">\n",
       "  <thead>\n",
       "    <tr style=\"text-align: right;\">\n",
       "      <th></th>\n",
       "      <th>building_id</th>\n",
       "      <th>damage_grade</th>\n",
       "      <th>geo_level_1_id</th>\n",
       "      <th>geo_level_2_id</th>\n",
       "      <th>geo_level_3_id</th>\n",
       "      <th>count_floors_pre_eq</th>\n",
       "      <th>age</th>\n",
       "      <th>area_percentage</th>\n",
       "      <th>height_percentage</th>\n",
       "      <th>land_surface_condition</th>\n",
       "      <th>...</th>\n",
       "      <th>has_secondary_use_agriculture</th>\n",
       "      <th>has_secondary_use_hotel</th>\n",
       "      <th>has_secondary_use_rental</th>\n",
       "      <th>has_secondary_use_institution</th>\n",
       "      <th>has_secondary_use_school</th>\n",
       "      <th>has_secondary_use_industry</th>\n",
       "      <th>has_secondary_use_health_post</th>\n",
       "      <th>has_secondary_use_gov_office</th>\n",
       "      <th>has_secondary_use_use_police</th>\n",
       "      <th>has_secondary_use_other</th>\n",
       "    </tr>\n",
       "  </thead>\n",
       "  <tbody>\n",
       "    <tr>\n",
       "      <td>0</td>\n",
       "      <td>802906</td>\n",
       "      <td>3</td>\n",
       "      <td>6</td>\n",
       "      <td>487</td>\n",
       "      <td>12198</td>\n",
       "      <td>2</td>\n",
       "      <td>30</td>\n",
       "      <td>6</td>\n",
       "      <td>5</td>\n",
       "      <td>t</td>\n",
       "      <td>...</td>\n",
       "      <td>0</td>\n",
       "      <td>0</td>\n",
       "      <td>0</td>\n",
       "      <td>0</td>\n",
       "      <td>0</td>\n",
       "      <td>0</td>\n",
       "      <td>0</td>\n",
       "      <td>0</td>\n",
       "      <td>0</td>\n",
       "      <td>0</td>\n",
       "    </tr>\n",
       "    <tr>\n",
       "      <td>1</td>\n",
       "      <td>28830</td>\n",
       "      <td>2</td>\n",
       "      <td>8</td>\n",
       "      <td>900</td>\n",
       "      <td>2812</td>\n",
       "      <td>2</td>\n",
       "      <td>10</td>\n",
       "      <td>8</td>\n",
       "      <td>7</td>\n",
       "      <td>o</td>\n",
       "      <td>...</td>\n",
       "      <td>0</td>\n",
       "      <td>0</td>\n",
       "      <td>0</td>\n",
       "      <td>0</td>\n",
       "      <td>0</td>\n",
       "      <td>0</td>\n",
       "      <td>0</td>\n",
       "      <td>0</td>\n",
       "      <td>0</td>\n",
       "      <td>0</td>\n",
       "    </tr>\n",
       "    <tr>\n",
       "      <td>2</td>\n",
       "      <td>94947</td>\n",
       "      <td>3</td>\n",
       "      <td>21</td>\n",
       "      <td>363</td>\n",
       "      <td>8973</td>\n",
       "      <td>2</td>\n",
       "      <td>10</td>\n",
       "      <td>5</td>\n",
       "      <td>5</td>\n",
       "      <td>t</td>\n",
       "      <td>...</td>\n",
       "      <td>0</td>\n",
       "      <td>0</td>\n",
       "      <td>0</td>\n",
       "      <td>0</td>\n",
       "      <td>0</td>\n",
       "      <td>0</td>\n",
       "      <td>0</td>\n",
       "      <td>0</td>\n",
       "      <td>0</td>\n",
       "      <td>0</td>\n",
       "    </tr>\n",
       "    <tr>\n",
       "      <td>3</td>\n",
       "      <td>590882</td>\n",
       "      <td>2</td>\n",
       "      <td>22</td>\n",
       "      <td>418</td>\n",
       "      <td>10694</td>\n",
       "      <td>2</td>\n",
       "      <td>10</td>\n",
       "      <td>6</td>\n",
       "      <td>5</td>\n",
       "      <td>t</td>\n",
       "      <td>...</td>\n",
       "      <td>0</td>\n",
       "      <td>0</td>\n",
       "      <td>0</td>\n",
       "      <td>0</td>\n",
       "      <td>0</td>\n",
       "      <td>0</td>\n",
       "      <td>0</td>\n",
       "      <td>0</td>\n",
       "      <td>0</td>\n",
       "      <td>0</td>\n",
       "    </tr>\n",
       "    <tr>\n",
       "      <td>4</td>\n",
       "      <td>201944</td>\n",
       "      <td>3</td>\n",
       "      <td>11</td>\n",
       "      <td>131</td>\n",
       "      <td>1488</td>\n",
       "      <td>3</td>\n",
       "      <td>30</td>\n",
       "      <td>8</td>\n",
       "      <td>9</td>\n",
       "      <td>t</td>\n",
       "      <td>...</td>\n",
       "      <td>0</td>\n",
       "      <td>0</td>\n",
       "      <td>0</td>\n",
       "      <td>0</td>\n",
       "      <td>0</td>\n",
       "      <td>0</td>\n",
       "      <td>0</td>\n",
       "      <td>0</td>\n",
       "      <td>0</td>\n",
       "      <td>0</td>\n",
       "    </tr>\n",
       "  </tbody>\n",
       "</table>\n",
       "<p>5 rows × 40 columns</p>\n",
       "</div>"
      ],
      "text/plain": [
       "   building_id  damage_grade  geo_level_1_id  geo_level_2_id  geo_level_3_id  \\\n",
       "0       802906             3               6             487           12198   \n",
       "1        28830             2               8             900            2812   \n",
       "2        94947             3              21             363            8973   \n",
       "3       590882             2              22             418           10694   \n",
       "4       201944             3              11             131            1488   \n",
       "\n",
       "   count_floors_pre_eq  age  area_percentage  height_percentage  \\\n",
       "0                    2   30                6                  5   \n",
       "1                    2   10                8                  7   \n",
       "2                    2   10                5                  5   \n",
       "3                    2   10                6                  5   \n",
       "4                    3   30                8                  9   \n",
       "\n",
       "  land_surface_condition  ... has_secondary_use_agriculture  \\\n",
       "0                      t  ...                             0   \n",
       "1                      o  ...                             0   \n",
       "2                      t  ...                             0   \n",
       "3                      t  ...                             0   \n",
       "4                      t  ...                             0   \n",
       "\n",
       "  has_secondary_use_hotel has_secondary_use_rental  \\\n",
       "0                       0                        0   \n",
       "1                       0                        0   \n",
       "2                       0                        0   \n",
       "3                       0                        0   \n",
       "4                       0                        0   \n",
       "\n",
       "  has_secondary_use_institution has_secondary_use_school  \\\n",
       "0                             0                        0   \n",
       "1                             0                        0   \n",
       "2                             0                        0   \n",
       "3                             0                        0   \n",
       "4                             0                        0   \n",
       "\n",
       "  has_secondary_use_industry  has_secondary_use_health_post  \\\n",
       "0                          0                              0   \n",
       "1                          0                              0   \n",
       "2                          0                              0   \n",
       "3                          0                              0   \n",
       "4                          0                              0   \n",
       "\n",
       "   has_secondary_use_gov_office  has_secondary_use_use_police  \\\n",
       "0                             0                             0   \n",
       "1                             0                             0   \n",
       "2                             0                             0   \n",
       "3                             0                             0   \n",
       "4                             0                             0   \n",
       "\n",
       "   has_secondary_use_other  \n",
       "0                        0  \n",
       "1                        0  \n",
       "2                        0  \n",
       "3                        0  \n",
       "4                        0  \n",
       "\n",
       "[5 rows x 40 columns]"
      ]
     },
     "execution_count": 5,
     "metadata": {},
     "output_type": "execute_result"
    }
   ],
   "source": [
    "cols = list(pd.read_csv(\"train_values.csv\", nrows =1))\n",
    "temp = pd.read_csv('train_values.csv',usecols =[i for i in cols if i != 'building_id'])\n",
    "\n",
    "eqData_train = pd.concat([labels, temp], axis = 1)\n",
    "eqData_train.head()"
   ]
  },
  {
   "cell_type": "markdown",
   "metadata": {},
   "source": [
    "## Data Preparation <a class=\"anchor\" id=\"dataprep\"></a>"
   ]
  },
  {
   "cell_type": "markdown",
   "metadata": {},
   "source": [
    "### One-Hot-Encoding <a class=\"anchor\" id=\"ohe\"></a>"
   ]
  },
  {
   "cell_type": "markdown",
   "metadata": {},
   "source": [
    "From the features observed above, we have to extract those categorical features and encode them using a one-hot-encoded process. One hot encoding is a process by which categorical variables are converted into a form that could be provided to ML algorithms to do a better job in prediction."
   ]
  },
  {
   "cell_type": "code",
   "execution_count": 6,
   "metadata": {},
   "outputs": [
    {
     "name": "stdout",
     "output_type": "stream",
     "text": [
      "        building_id  damage_grade  geo_level_1_id  geo_level_2_id  \\\n",
      "0            802906             3               6             487   \n",
      "1             28830             2               8             900   \n",
      "2             94947             3              21             363   \n",
      "3            590882             2              22             418   \n",
      "4            201944             3              11             131   \n",
      "...             ...           ...             ...             ...   \n",
      "260596       688636             2              25            1335   \n",
      "260597       669485             3              17             715   \n",
      "260598       602512             3              17              51   \n",
      "260599       151409             2              26              39   \n",
      "260600       747594             3              21               9   \n",
      "\n",
      "        geo_level_3_id  count_floors_pre_eq  age  area_percentage  \\\n",
      "0                12198                    2   30                6   \n",
      "1                 2812                    2   10                8   \n",
      "2                 8973                    2   10                5   \n",
      "3                10694                    2   10                6   \n",
      "4                 1488                    3   30                8   \n",
      "...                ...                  ...  ...              ...   \n",
      "260596            1621                    1   55                6   \n",
      "260597            2060                    2    0                6   \n",
      "260598            8163                    3   55                6   \n",
      "260599            1851                    2   10               14   \n",
      "260600            9101                    3   10                7   \n",
      "\n",
      "        height_percentage  has_superstructure_adobe_mud  ...  \\\n",
      "0                       5                             1  ...   \n",
      "1                       7                             0  ...   \n",
      "2                       5                             0  ...   \n",
      "3                       5                             0  ...   \n",
      "4                       9                             1  ...   \n",
      "...                   ...                           ...  ...   \n",
      "260596                  3                             0  ...   \n",
      "260597                  5                             0  ...   \n",
      "260598                  7                             0  ...   \n",
      "260599                  6                             0  ...   \n",
      "260600                  6                             0  ...   \n",
      "\n",
      "        plan_configuration_m  plan_configuration_n  plan_configuration_o  \\\n",
      "0                          0                     0                     0   \n",
      "1                          0                     0                     0   \n",
      "2                          0                     0                     0   \n",
      "3                          0                     0                     0   \n",
      "4                          0                     0                     0   \n",
      "...                      ...                   ...                   ...   \n",
      "260596                     0                     0                     0   \n",
      "260597                     0                     0                     0   \n",
      "260598                     0                     0                     0   \n",
      "260599                     0                     0                     0   \n",
      "260600                     0                     0                     0   \n",
      "\n",
      "        plan_configuration_q  plan_configuration_s  plan_configuration_u  \\\n",
      "0                          0                     0                     0   \n",
      "1                          0                     0                     0   \n",
      "2                          0                     0                     0   \n",
      "3                          0                     0                     0   \n",
      "4                          0                     0                     0   \n",
      "...                      ...                   ...                   ...   \n",
      "260596                     1                     0                     0   \n",
      "260597                     0                     0                     0   \n",
      "260598                     0                     0                     0   \n",
      "260599                     0                     0                     0   \n",
      "260600                     0                     0                     0   \n",
      "\n",
      "        legal_ownership_status_a  legal_ownership_status_r  \\\n",
      "0                              0                         0   \n",
      "1                              0                         0   \n",
      "2                              0                         0   \n",
      "3                              0                         0   \n",
      "4                              0                         0   \n",
      "...                          ...                       ...   \n",
      "260596                         0                         0   \n",
      "260597                         0                         0   \n",
      "260598                         0                         0   \n",
      "260599                         0                         0   \n",
      "260600                         0                         0   \n",
      "\n",
      "        legal_ownership_status_v  legal_ownership_status_w  \n",
      "0                              1                         0  \n",
      "1                              1                         0  \n",
      "2                              1                         0  \n",
      "3                              1                         0  \n",
      "4                              1                         0  \n",
      "...                          ...                       ...  \n",
      "260596                         1                         0  \n",
      "260597                         1                         0  \n",
      "260598                         1                         0  \n",
      "260599                         1                         0  \n",
      "260600                         1                         0  \n",
      "\n",
      "[260601 rows x 70 columns]\n"
     ]
    }
   ],
   "source": [
    "categoricalcolumns = [\"land_surface_condition\", \"foundation_type\",\"roof_type\",\"ground_floor_type\",\"other_floor_type\",\"position\",\"plan_configuration\", \"legal_ownership_status\"]\n",
    "eqData_train = pd.get_dummies(eqData_train, columns= categoricalcolumns, prefix= categoricalcolumns)\n",
    "print(eqData_train)"
   ]
  },
  {
   "cell_type": "code",
   "execution_count": 7,
   "metadata": {},
   "outputs": [
    {
     "data": {
      "text/plain": [
       "(260601, 70)"
      ]
     },
     "execution_count": 7,
     "metadata": {},
     "output_type": "execute_result"
    }
   ],
   "source": [
    "eqData_train.shape"
   ]
  },
  {
   "cell_type": "code",
   "execution_count": 8,
   "metadata": {},
   "outputs": [
    {
     "data": {
      "text/plain": [
       "building_id                 int64\n",
       "damage_grade                int64\n",
       "geo_level_1_id              int64\n",
       "geo_level_2_id              int64\n",
       "geo_level_3_id              int64\n",
       "                            ...  \n",
       "plan_configuration_u        uint8\n",
       "legal_ownership_status_a    uint8\n",
       "legal_ownership_status_r    uint8\n",
       "legal_ownership_status_v    uint8\n",
       "legal_ownership_status_w    uint8\n",
       "Length: 70, dtype: object"
      ]
     },
     "execution_count": 8,
     "metadata": {},
     "output_type": "execute_result"
    }
   ],
   "source": [
    "eqData_train.dtypes"
   ]
  },
  {
   "cell_type": "markdown",
   "metadata": {},
   "source": [
    "#### Final Dataset for Analysis"
   ]
  },
  {
   "cell_type": "code",
   "execution_count": 9,
   "metadata": {},
   "outputs": [
    {
     "data": {
      "text/html": [
       "<div>\n",
       "<style scoped>\n",
       "    .dataframe tbody tr th:only-of-type {\n",
       "        vertical-align: middle;\n",
       "    }\n",
       "\n",
       "    .dataframe tbody tr th {\n",
       "        vertical-align: top;\n",
       "    }\n",
       "\n",
       "    .dataframe thead th {\n",
       "        text-align: right;\n",
       "    }\n",
       "</style>\n",
       "<table border=\"1\" class=\"dataframe\">\n",
       "  <thead>\n",
       "    <tr style=\"text-align: right;\">\n",
       "      <th></th>\n",
       "      <th>building_id</th>\n",
       "      <th>damage_grade</th>\n",
       "      <th>geo_level_1_id</th>\n",
       "      <th>geo_level_2_id</th>\n",
       "      <th>geo_level_3_id</th>\n",
       "      <th>count_floors_pre_eq</th>\n",
       "      <th>age</th>\n",
       "      <th>area_percentage</th>\n",
       "      <th>height_percentage</th>\n",
       "      <th>has_superstructure_adobe_mud</th>\n",
       "      <th>...</th>\n",
       "      <th>plan_configuration_m</th>\n",
       "      <th>plan_configuration_n</th>\n",
       "      <th>plan_configuration_o</th>\n",
       "      <th>plan_configuration_q</th>\n",
       "      <th>plan_configuration_s</th>\n",
       "      <th>plan_configuration_u</th>\n",
       "      <th>legal_ownership_status_a</th>\n",
       "      <th>legal_ownership_status_r</th>\n",
       "      <th>legal_ownership_status_v</th>\n",
       "      <th>legal_ownership_status_w</th>\n",
       "    </tr>\n",
       "  </thead>\n",
       "  <tbody>\n",
       "    <tr>\n",
       "      <td>0</td>\n",
       "      <td>802906</td>\n",
       "      <td>3</td>\n",
       "      <td>6</td>\n",
       "      <td>487</td>\n",
       "      <td>12198</td>\n",
       "      <td>2</td>\n",
       "      <td>30</td>\n",
       "      <td>6</td>\n",
       "      <td>5</td>\n",
       "      <td>1</td>\n",
       "      <td>...</td>\n",
       "      <td>0</td>\n",
       "      <td>0</td>\n",
       "      <td>0</td>\n",
       "      <td>0</td>\n",
       "      <td>0</td>\n",
       "      <td>0</td>\n",
       "      <td>0</td>\n",
       "      <td>0</td>\n",
       "      <td>1</td>\n",
       "      <td>0</td>\n",
       "    </tr>\n",
       "    <tr>\n",
       "      <td>1</td>\n",
       "      <td>28830</td>\n",
       "      <td>2</td>\n",
       "      <td>8</td>\n",
       "      <td>900</td>\n",
       "      <td>2812</td>\n",
       "      <td>2</td>\n",
       "      <td>10</td>\n",
       "      <td>8</td>\n",
       "      <td>7</td>\n",
       "      <td>0</td>\n",
       "      <td>...</td>\n",
       "      <td>0</td>\n",
       "      <td>0</td>\n",
       "      <td>0</td>\n",
       "      <td>0</td>\n",
       "      <td>0</td>\n",
       "      <td>0</td>\n",
       "      <td>0</td>\n",
       "      <td>0</td>\n",
       "      <td>1</td>\n",
       "      <td>0</td>\n",
       "    </tr>\n",
       "    <tr>\n",
       "      <td>2</td>\n",
       "      <td>94947</td>\n",
       "      <td>3</td>\n",
       "      <td>21</td>\n",
       "      <td>363</td>\n",
       "      <td>8973</td>\n",
       "      <td>2</td>\n",
       "      <td>10</td>\n",
       "      <td>5</td>\n",
       "      <td>5</td>\n",
       "      <td>0</td>\n",
       "      <td>...</td>\n",
       "      <td>0</td>\n",
       "      <td>0</td>\n",
       "      <td>0</td>\n",
       "      <td>0</td>\n",
       "      <td>0</td>\n",
       "      <td>0</td>\n",
       "      <td>0</td>\n",
       "      <td>0</td>\n",
       "      <td>1</td>\n",
       "      <td>0</td>\n",
       "    </tr>\n",
       "    <tr>\n",
       "      <td>3</td>\n",
       "      <td>590882</td>\n",
       "      <td>2</td>\n",
       "      <td>22</td>\n",
       "      <td>418</td>\n",
       "      <td>10694</td>\n",
       "      <td>2</td>\n",
       "      <td>10</td>\n",
       "      <td>6</td>\n",
       "      <td>5</td>\n",
       "      <td>0</td>\n",
       "      <td>...</td>\n",
       "      <td>0</td>\n",
       "      <td>0</td>\n",
       "      <td>0</td>\n",
       "      <td>0</td>\n",
       "      <td>0</td>\n",
       "      <td>0</td>\n",
       "      <td>0</td>\n",
       "      <td>0</td>\n",
       "      <td>1</td>\n",
       "      <td>0</td>\n",
       "    </tr>\n",
       "    <tr>\n",
       "      <td>4</td>\n",
       "      <td>201944</td>\n",
       "      <td>3</td>\n",
       "      <td>11</td>\n",
       "      <td>131</td>\n",
       "      <td>1488</td>\n",
       "      <td>3</td>\n",
       "      <td>30</td>\n",
       "      <td>8</td>\n",
       "      <td>9</td>\n",
       "      <td>1</td>\n",
       "      <td>...</td>\n",
       "      <td>0</td>\n",
       "      <td>0</td>\n",
       "      <td>0</td>\n",
       "      <td>0</td>\n",
       "      <td>0</td>\n",
       "      <td>0</td>\n",
       "      <td>0</td>\n",
       "      <td>0</td>\n",
       "      <td>1</td>\n",
       "      <td>0</td>\n",
       "    </tr>\n",
       "  </tbody>\n",
       "</table>\n",
       "<p>5 rows × 70 columns</p>\n",
       "</div>"
      ],
      "text/plain": [
       "   building_id  damage_grade  geo_level_1_id  geo_level_2_id  geo_level_3_id  \\\n",
       "0       802906             3               6             487           12198   \n",
       "1        28830             2               8             900            2812   \n",
       "2        94947             3              21             363            8973   \n",
       "3       590882             2              22             418           10694   \n",
       "4       201944             3              11             131            1488   \n",
       "\n",
       "   count_floors_pre_eq  age  area_percentage  height_percentage  \\\n",
       "0                    2   30                6                  5   \n",
       "1                    2   10                8                  7   \n",
       "2                    2   10                5                  5   \n",
       "3                    2   10                6                  5   \n",
       "4                    3   30                8                  9   \n",
       "\n",
       "   has_superstructure_adobe_mud  ...  plan_configuration_m  \\\n",
       "0                             1  ...                     0   \n",
       "1                             0  ...                     0   \n",
       "2                             0  ...                     0   \n",
       "3                             0  ...                     0   \n",
       "4                             1  ...                     0   \n",
       "\n",
       "   plan_configuration_n  plan_configuration_o  plan_configuration_q  \\\n",
       "0                     0                     0                     0   \n",
       "1                     0                     0                     0   \n",
       "2                     0                     0                     0   \n",
       "3                     0                     0                     0   \n",
       "4                     0                     0                     0   \n",
       "\n",
       "   plan_configuration_s  plan_configuration_u  legal_ownership_status_a  \\\n",
       "0                     0                     0                         0   \n",
       "1                     0                     0                         0   \n",
       "2                     0                     0                         0   \n",
       "3                     0                     0                         0   \n",
       "4                     0                     0                         0   \n",
       "\n",
       "   legal_ownership_status_r  legal_ownership_status_v  \\\n",
       "0                         0                         1   \n",
       "1                         0                         1   \n",
       "2                         0                         1   \n",
       "3                         0                         1   \n",
       "4                         0                         1   \n",
       "\n",
       "   legal_ownership_status_w  \n",
       "0                         0  \n",
       "1                         0  \n",
       "2                         0  \n",
       "3                         0  \n",
       "4                         0  \n",
       "\n",
       "[5 rows x 70 columns]"
      ]
     },
     "execution_count": 9,
     "metadata": {},
     "output_type": "execute_result"
    }
   ],
   "source": [
    "eqData_train.head()"
   ]
  },
  {
   "cell_type": "markdown",
   "metadata": {},
   "source": [
    "### Features <a class=\"anchor\" id=\"features\"></a>"
   ]
  },
  {
   "cell_type": "code",
   "execution_count": 10,
   "metadata": {},
   "outputs": [],
   "source": [
    "###Removing labels from feature dataset \n",
    "features = eqData_train\n",
    "\n",
    "###Removing unneccessary data from feature dataset \n",
    "features = features.drop(['building_id'],axis=1)\n",
    "features = features.drop(['damage_grade'],axis=1)"
   ]
  },
  {
   "cell_type": "markdown",
   "metadata": {},
   "source": [
    "### Labels"
   ]
  },
  {
   "cell_type": "code",
   "execution_count": 11,
   "metadata": {},
   "outputs": [],
   "source": [
    "labels = eqData_train['damage_grade']"
   ]
  },
  {
   "cell_type": "markdown",
   "metadata": {},
   "source": [
    "### Splitting the data into train and test containers <a class=\"anchor\" id=\"split\"></a>"
   ]
  },
  {
   "cell_type": "code",
   "execution_count": 12,
   "metadata": {},
   "outputs": [],
   "source": [
    "train_X, test_X, train_Y, test_Y = train_test_split(features,labels,test_size=0.2, random_state=0)"
   ]
  },
  {
   "cell_type": "markdown",
   "metadata": {},
   "source": [
    "[back to top](#top)"
   ]
  },
  {
   "cell_type": "markdown",
   "metadata": {},
   "source": [
    "# Modelling and Classification <a class=\"anchor\" id=\"model\"></a>"
   ]
  },
  {
   "cell_type": "markdown",
   "metadata": {},
   "source": [
    "We will be testing out a 5 machine learning models on the train dataset and checking the accuracy of each model.\n",
    "1. Artificial Neural Network\n",
    "2. Logistics Regression Classifier\n",
    "3. K Nearest Neighbours\n",
    "4. Decision Tree\n",
    "5. Random Forest Classifier"
   ]
  },
  {
   "cell_type": "markdown",
   "metadata": {},
   "source": [
    "## Model 1: Artificial Neural Network <a class=\"anchor\" id=\"model1\"></a>"
   ]
  },
  {
   "cell_type": "markdown",
   "metadata": {},
   "source": [
    "Artificial Neural Network is a model that is inspired by the brain and tries to replicate the way that humans learn. It consists of one input layer, a few hidden layers, and one output layer, with each hidden layer analysing different features of the dataset. During the training stage, the algorithm will learn to detect features that are relevant to predicting the output (ie damage_grade). It can also make use of backpropagation to correct mistakes during the training process, thus improving the model.\n",
    "\n",
    "We will first employ the default ANN model. Later on, we will tune its activation function and loss function to improve accuracy."
   ]
  },
  {
   "cell_type": "code",
   "execution_count": 14,
   "metadata": {},
   "outputs": [],
   "source": [
    "from keras import backend as K\n",
    "\n",
    "def auc_roc(y_true, y_pred):\n",
    "    # any tensorflow metric\n",
    "    value, update_op = tf.contrib.metrics.streaming_auc(y_pred, y_true)\n",
    "\n",
    "    # find all variables created for this metric\n",
    "    metric_vars = [i for i in tf.local_variables() if 'auc_roc' in i.name.split('/')[1]]\n",
    "\n",
    "    # Add metric variables to GLOBAL_VARIABLES collection.\n",
    "    # They will be initialized for new session.\n",
    "    for v in metric_vars:\n",
    "        tf.add_to_collection(tf.GraphKeys.GLOBAL_VARIABLES, v)\n",
    "\n",
    "    # force to update metric values\n",
    "    with tf.control_dependencies([update_op]):\n",
    "        value = tf.identity(value)\n",
    "        return value\n",
    "\n",
    "    \n",
    "def f1(y_true, y_pred):\n",
    "    y_pred = K.round(y_pred)\n",
    "#     y_pred = K.round(y_pred > 0.5)\n",
    "    tp = K.sum(K.cast(y_true*y_pred, 'float'), axis=0)\n",
    "    tn = K.sum(K.cast((1-y_true)*(1-y_pred), 'float'), axis=0)\n",
    "    fp = K.sum(K.cast((1-y_true)*y_pred, 'float'), axis=0)\n",
    "    fn = K.sum(K.cast(y_true*(1-y_pred), 'float'), axis=0)\n",
    "\n",
    "    p = tp / (tp + fp + K.epsilon())\n",
    "    r = tp / (tp + fn + K.epsilon())\n",
    "\n",
    "    f1 = 2*p*r / (p+r+K.epsilon())\n",
    "    f1 = tf.where(tf.math.is_nan(f1), tf.zeros_like(f1), f1)\n",
    "    return K.mean(f1)\n",
    "\n",
    "\n",
    "def matthewCoefficient(y_true, y_pred):\n",
    "    y_pred = K.round(y_pred)\n",
    "#     y_pred = K.round(y_pred > 0.5)\n",
    "    tp = K.sum(K.cast(y_true*y_pred, 'float'), axis=0)\n",
    "    tn = K.sum(K.cast((1-y_true)*(1-y_pred), 'float'), axis=0)\n",
    "    fp = K.sum(K.cast((1-y_true)*y_pred, 'float'), axis=0)\n",
    "    fn = K.sum(K.cast(y_true*(1-y_pred), 'float'), axis=0)\n",
    "    matthewcoef = ((tp*tn) - (fp*fn))/ ((tp+fp)*(tp+fn)*(tn+fp)*(tn+fn))**0.5\n",
    "\n",
    "#     p = tp / (tp + fp + K.epsilon())\n",
    "#     r = tp / (tp + fn + K.epsilon())\n",
    "\n",
    "#     f1 = 2*p*r / (p+r+K.epsilon())\n",
    "    matthewcoef = tf.where(tf.math.is_nan(matthewcoef), tf.zeros_like(matthewcoef), matthewcoef)\n",
    "    return K.mean(matthewcoef)\n",
    "\n",
    "\n",
    "def one_hot_encode_object_array(arr):\n",
    "    '''One hot encode a numpy array of objects (e.g. strings)'''\n",
    "    uniques, ids = np.unique(arr, return_inverse=True)\n",
    "    return np_utils.to_categorical(ids, len(uniques))\n",
    "    "
   ]
  },
  {
   "cell_type": "code",
   "execution_count": 15,
   "metadata": {
    "scrolled": true
   },
   "outputs": [
    {
     "name": "stdout",
     "output_type": "stream",
     "text": [
      "Epoch 1/30\n",
      "208480/208480 [==============================] - 10s 46us/step - loss: 0.8871 - accuracy: 0.3347\n",
      "Epoch 2/30\n",
      "208480/208480 [==============================] - 10s 47us/step - loss: 0.8871 - accuracy: 0.3347\n",
      "Epoch 3/30\n",
      "208480/208480 [==============================] - 9s 41us/step - loss: 0.8190 - accuracy: 0.2601\n",
      "Epoch 4/30\n",
      "208480/208480 [==============================] - 9s 44us/step - loss: 0.6667 - accuracy: 0.0966\n",
      "Epoch 5/30\n",
      "208480/208480 [==============================] - 11s 51us/step - loss: 0.6667 - accuracy: 0.0966\n",
      "Epoch 6/30\n",
      "208480/208480 [==============================] - 10s 49us/step - loss: 0.6667 - accuracy: 0.09660s - loss: 0.6667 - \n",
      "Epoch 7/30\n",
      "208480/208480 [==============================] - 15s 70us/step - loss: 0.6667 - accuracy: 0.0966\n",
      "Epoch 8/30\n",
      "208480/208480 [==============================] - 12s 56us/step - loss: 0.6667 - accuracy: 0.0966\n",
      "Epoch 9/30\n",
      "208480/208480 [==============================] - 8s 41us/step - loss: 0.6667 - accuracy: 0.0966\n",
      "Epoch 10/30\n",
      "208480/208480 [==============================] - 9s 43us/step - loss: 0.6667 - accuracy: 0.0966\n",
      "Epoch 11/30\n",
      "208480/208480 [==============================] - 9s 41us/step - loss: 0.6667 - accuracy: 0.0966 0s - los\n",
      "Epoch 12/30\n",
      "208480/208480 [==============================] - 8s 41us/step - loss: 0.6667 - accuracy: 0.0966\n",
      "Epoch 13/30\n",
      "208480/208480 [==============================] - 8s 36us/step - loss: 0.6667 - accuracy: 0.0966\n",
      "Epoch 14/30\n",
      "208480/208480 [==============================] - 9s 42us/step - loss: 0.6667 - accuracy: 0.0966\n",
      "Epoch 15/30\n",
      "208480/208480 [==============================] - 8s 37us/step - loss: 0.6667 - accuracy: 0.0966\n",
      "Epoch 16/30\n",
      "208480/208480 [==============================] - 11s 50us/step - loss: 0.6667 - accuracy: 0.0966\n",
      "Epoch 17/30\n",
      "208480/208480 [==============================] - 8s 40us/step - loss: 0.6667 - accuracy: 0.0966\n",
      "Epoch 18/30\n",
      "208480/208480 [==============================] - 7s 35us/step - loss: 0.6666 - accuracy: 0.0966\n",
      "Epoch 19/30\n",
      "208480/208480 [==============================] - 8s 36us/step - loss: 0.6667 - accuracy: 0.0966\n",
      "Epoch 20/30\n",
      "208480/208480 [==============================] - 8s 38us/step - loss: 0.6666 - accuracy: 0.0966\n",
      "Epoch 21/30\n",
      "208480/208480 [==============================] - 8s 37us/step - loss: 0.6666 - accuracy: 0.0966\n",
      "Epoch 22/30\n",
      "208480/208480 [==============================] - 9s 42us/step - loss: 0.6667 - accuracy: 0.0966\n",
      "Epoch 23/30\n",
      "208480/208480 [==============================] - 7s 36us/step - loss: 0.6666 - accuracy: 0.0966\n",
      "Epoch 24/30\n",
      "208480/208480 [==============================] - 7s 34us/step - loss: 0.6666 - accuracy: 0.0966\n",
      "Epoch 25/30\n",
      "208480/208480 [==============================] - 7s 32us/step - loss: 0.6666 - accuracy: 0.0966\n",
      "Epoch 26/30\n",
      "208480/208480 [==============================] - 7s 33us/step - loss: 0.6666 - accuracy: 0.0966\n",
      "Epoch 27/30\n",
      "208480/208480 [==============================] - 7s 32us/step - loss: 0.6666 - accuracy: 0.0967\n",
      "Epoch 28/30\n",
      "208480/208480 [==============================] - 7s 33us/step - loss: 0.6272 - accuracy: 0.3011\n",
      "Epoch 29/30\n",
      "208480/208480 [==============================] - 7s 32us/step - loss: 0.5751 - accuracy: 0.5687\n",
      "Epoch 30/30\n",
      "208480/208480 [==============================] - 7s 32us/step - loss: 0.5751 - accuracy: 0.5687\n",
      "Test fraction correct (NN-Score) = 0.57\n",
      "Test fraction correct (NN-Accuracy) = 0.57\n"
     ]
    }
   ],
   "source": [
    "X_train = train_X\n",
    "y_train = train_Y.values\n",
    "X_test = test_X\n",
    "y_test = test_Y.values\n",
    "\n",
    "\n",
    "y_train = one_hot_encode_object_array(y_train)\n",
    "y_test = one_hot_encode_object_array(y_test)\n",
    "\n",
    "# Initialising the ANN\n",
    "classifier = Sequential()\n",
    "\n",
    "# Adding the input layer and the first hidden layer\n",
    "classifier.add(Dense(units =3*8 , activation = 'relu', input_dim = 68))\n",
    "\n",
    "# Adding the second hidden layer\n",
    "classifier.add(Dense(units = 3*4, activation = 'relu'))\n",
    "\n",
    "# Adding the second hidden layer\n",
    "classifier.add(Dense(units = 3*2, activation = 'relu'))\n",
    "\n",
    "# Adding the output layer\n",
    "classifier.add(Dense(units = 3, activation = 'tanh'))\n",
    "\n",
    "# Compiling the ANN\n",
    "classifier.compile(optimizer = 'adam', loss = 'hinge', metrics=['accuracy'])\n",
    "\n",
    "# Fitting the ANN to the Training set\n",
    "classifier.fit(X_train, y_train, batch_size = 32, epochs = 30)\n",
    "\n",
    "score, accuracy = classifier.evaluate(X_test, y_test, batch_size=16, verbose=0)\n",
    "print(\"Test fraction correct (NN-Score) = {:.2f}\".format(score))\n",
    "print(\"Test fraction correct (NN-Accuracy) = {:.2f}\".format(accuracy))"
   ]
  },
  {
   "cell_type": "markdown",
   "metadata": {},
   "source": [
    "### Optimizing ANN Parameters: Activation for Output Layer & Loss Function <a class=\"anchor\" id=\"op1\"></a>"
   ]
  },
  {
   "cell_type": "markdown",
   "metadata": {},
   "source": [
    "The activation function for the output layer was initially tanh. However, tanh is more appropriate for binary classification instead of multi-class classification. As such, we changed the activation for output layer from tanh to softmax. Softmax outputs produce a vector that is non-negative and sums to 1. It is useful for mutually exclusive categories, making it highly ideal for our use case.\n",
    "\n",
    "The loss function was initially hinge. However, hinge is a loss function used for binary classification. Once again, we tuned the parameter to be most ideal for multi-class classification. As such, we used categorical_crossentropy, a loss function used for multi-class classification. Categorical crossentropy will compare the distribution of the predictions (the activations in the output layer, one for each class) with the true distribution, where the probability of the true class is set to 1 and 0 for the other classes. "
   ]
  },
  {
   "cell_type": "code",
   "execution_count": 84,
   "metadata": {},
   "outputs": [
    {
     "name": "stdout",
     "output_type": "stream",
     "text": [
      "Epoch 1/30\n",
      "208480/208480 [==============================] - 8s 39us/step - loss: 2.6630 - accuracy: 0.5066\n",
      "Epoch 2/30\n",
      "208480/208480 [==============================] - 8s 36us/step - loss: 0.9879 - accuracy: 0.5382\n",
      "Epoch 3/30\n",
      "208480/208480 [==============================] - 9s 41us/step - loss: 0.8573 - accuracy: 0.5713\n",
      "Epoch 4/30\n",
      "208480/208480 [==============================] - 9s 44us/step - loss: 0.8350 - accuracy: 0.5725\n",
      "Epoch 5/30\n",
      "208480/208480 [==============================] - 8s 38us/step - loss: 0.8230 - accuracy: 0.5742\n",
      "Epoch 6/30\n",
      "208480/208480 [==============================] - 7s 35us/step - loss: 0.8197 - accuracy: 0.5743\n",
      "Epoch 7/30\n",
      "208480/208480 [==============================] - 7s 34us/step - loss: 0.8188 - accuracy: 0.5741\n",
      "Epoch 8/30\n",
      "208480/208480 [==============================] - 7s 34us/step - loss: 0.8167 - accuracy: 0.5746\n",
      "Epoch 9/30\n",
      "208480/208480 [==============================] - 7s 33us/step - loss: 0.8156 - accuracy: 0.5751\n",
      "Epoch 10/30\n",
      "208480/208480 [==============================] - 7s 33us/step - loss: 0.8146 - accuracy: 0.5748 0s - loss: 0.8146 - \n",
      "Epoch 11/30\n",
      "208480/208480 [==============================] - 7s 33us/step - loss: 0.8136 - accuracy: 0.5754\n",
      "Epoch 12/30\n",
      "208480/208480 [==============================] - 7s 33us/step - loss: 0.8132 - accuracy: 0.5752\n",
      "Epoch 13/30\n",
      "208480/208480 [==============================] - 7s 33us/step - loss: 0.8124 - accuracy: 0.5756\n",
      "Epoch 14/30\n",
      "208480/208480 [==============================] - 7s 33us/step - loss: 0.8109 - accuracy: 0.5758\n",
      "Epoch 15/30\n",
      "208480/208480 [==============================] - 7s 33us/step - loss: 0.8106 - accuracy: 0.5763\n",
      "Epoch 16/30\n",
      "208480/208480 [==============================] - 7s 33us/step - loss: 0.8084 - accuracy: 0.5769\n",
      "Epoch 17/30\n",
      "208480/208480 [==============================] - 7s 33us/step - loss: 0.8045 - accuracy: 0.5784\n",
      "Epoch 18/30\n",
      "208480/208480 [==============================] - 7s 33us/step - loss: 0.7959 - accuracy: 0.5903\n",
      "Epoch 19/30\n",
      "208480/208480 [==============================] - 7s 33us/step - loss: 0.7941 - accuracy: 0.5929\n",
      "Epoch 20/30\n",
      "208480/208480 [==============================] - 7s 33us/step - loss: 0.7922 - accuracy: 0.5957\n",
      "Epoch 21/30\n",
      "208480/208480 [==============================] - 7s 33us/step - loss: 0.7917 - accuracy: 0.5970\n",
      "Epoch 22/30\n",
      "208480/208480 [==============================] - 7s 33us/step - loss: 0.7900 - accuracy: 0.5980\n",
      "Epoch 23/30\n",
      "208480/208480 [==============================] - 7s 33us/step - loss: 0.7897 - accuracy: 0.6004\n",
      "Epoch 24/30\n",
      "208480/208480 [==============================] - 7s 33us/step - loss: 0.7882 - accuracy: 0.6013\n",
      "Epoch 25/30\n",
      "208480/208480 [==============================] - 7s 33us/step - loss: 0.7871 - accuracy: 0.6018 1s - loss: 0 - ETA: 0s - loss: 0.7\n",
      "Epoch 26/30\n",
      "208480/208480 [==============================] - 7s 33us/step - loss: 0.7868 - accuracy: 0.6020\n",
      "Epoch 27/30\n",
      "208480/208480 [==============================] - 7s 33us/step - loss: 0.7854 - accuracy: 0.6032 \n",
      "Epoch 28/30\n",
      "208480/208480 [==============================] - 7s 33us/step - loss: 0.7850 - accuracy: 0.6037\n",
      "Epoch 29/30\n",
      "208480/208480 [==============================] - 7s 33us/step - loss: 0.7850 - accuracy: 0.6026\n",
      "Epoch 30/30\n",
      "208480/208480 [==============================] - 7s 36us/step - loss: 0.7847 - accuracy: 0.6038\n",
      "Test fraction correct (NN-Score) = 0.78\n",
      "Test fraction correct (NN-Accuracy) = 0.60\n"
     ]
    }
   ],
   "source": [
    "X_train = train_X\n",
    "y_train = train_Y.values\n",
    "X_test = test_X\n",
    "y_test = test_Y.values\n",
    "\n",
    "\n",
    "y_train = one_hot_encode_object_array(y_train)\n",
    "y_test = one_hot_encode_object_array(y_test)\n",
    "\n",
    "# Initialising the ANN\n",
    "classifier = Sequential()\n",
    "\n",
    "# Adding the input layer and the first hidden layer\n",
    "classifier.add(Dense(units =3*8 , activation = 'relu', input_dim = 68))\n",
    "\n",
    "# Adding the second hidden layer\n",
    "classifier.add(Dense(units = 3*4, activation = 'relu'))\n",
    "\n",
    "# Adding the second hidden layer\n",
    "classifier.add(Dense(units = 3*2, activation = 'relu'))\n",
    "\n",
    "# Adding the output layer\n",
    "classifier.add(Dense(units = 3, activation = 'softmax'))\n",
    "\n",
    "# Compiling the ANN\n",
    "classifier.compile(optimizer = 'adam', loss = 'categorical_crossentropy', metrics=['accuracy'])\n",
    "\n",
    "# Fitting the ANN to the Training set\n",
    "classifier.fit(X_train, y_train, batch_size = 32, epochs = 30)\n",
    "\n",
    "score, accuracy = classifier.evaluate(X_test, y_test, batch_size=16, verbose=0)\n",
    "print(\"Test fraction correct (NN-Score) = {:.2f}\".format(score))\n",
    "print(\"Test fraction correct (NN-Accuracy) = {:.2f}\".format(accuracy))\n",
    "\n",
    "ann_acc = accuracy*100"
   ]
  },
  {
   "cell_type": "markdown",
   "metadata": {},
   "source": [
    "The tuned ANN model returns a higher accuracy of 0.6, as compared to untuned accuracy at 0.57. "
   ]
  },
  {
   "cell_type": "markdown",
   "metadata": {},
   "source": [
    "[back to top](#top)"
   ]
  },
  {
   "cell_type": "markdown",
   "metadata": {},
   "source": [
    "## Model 2: Logistics Regression classifier <a class=\"anchor\" id=\"model2\"></a>"
   ]
  },
  {
   "cell_type": "markdown",
   "metadata": {},
   "source": [
    "The logistic function, which this model is based on, is an S-shaped curve that takes any real number as input and outputs y, where 0<y<1. This algorithm models the the probablity of either one of the outcomes (ie damage_grade), and works by estimating Beta values from training data such that the error in probabilities predicted is minimised. Although it is mostly used for binary classification, it can be modified to be used for more than 2 outcomes.\n",
    "\n",
    "We will first employ the default logistics regression classifier. We first set the class_weight to balanced, to give more weight to minority classes. Later on, we will tune the solvers to optimize model accuracy."
   ]
  },
  {
   "cell_type": "code",
   "execution_count": 85,
   "metadata": {},
   "outputs": [
    {
     "data": {
      "image/png": "[encoded data removed]",
      "text/plain": [
       "<Figure size 720x504 with 2 Axes>"
      ]
     },
     "metadata": {
      "needs_background": "light"
     },
     "output_type": "display_data"
    },
    {
     "name": "stdout",
     "output_type": "stream",
     "text": [
      "The standard accuracy score is:  0.4345849081943938\n",
      "The recall score is:  0.4345849081943938\n",
      "The matthew's correlation coefficient is:  0.13683648271691962\n"
     ]
    }
   ],
   "source": [
    "#import libraries\n",
    "import warnings\n",
    "warnings.filterwarnings(\"ignore\")\n",
    "import pandas as pd\n",
    "import matplotlib.pyplot as plt\n",
    "import seaborn as sns\n",
    "from sklearn.model_selection import train_test_split\n",
    "from sklearn.linear_model import LogisticRegression\n",
    "from sklearn import metrics\n",
    "from sklearn.metrics import classification_report\n",
    "\n",
    "\n",
    "\n",
    "#Build the model\n",
    "clf = LogisticRegression(class_weight='balanced') # We set classweight=balanced to give more weight to minority class\n",
    "\n",
    "# Train the classifier\n",
    "clf.fit(train_X, train_Y)\n",
    "\n",
    "#test the model\n",
    "preds = clf.predict(test_X)\n",
    "\n",
    "#heat map for confusion matrix\n",
    "fig, ax = plt.subplots(figsize=(10,7))\n",
    "sb.heatmap(confusion_matrix(test_Y, preds), annot=True, fmt='d')\n",
    "plt.show()\n",
    "\n",
    "\n",
    "\n",
    "print(\"The standard accuracy score is: \", accuracy_score(test_Y.values, preds))\n",
    "print(\"The recall score is: \", sklearn.metrics.recall_score(test_Y.values, preds, average='micro'))\n",
    "print(\"The matthew's correlation coefficient is: \", sklearn.metrics.matthews_corrcoef(test_Y.values, preds))\n",
    "\n",
    "log_reg_acc = round( accuracy_score(test_Y.values, preds) * 100, 2)"
   ]
  },
  {
   "cell_type": "markdown",
   "metadata": {},
   "source": [
    "### Optimzing Logistic Regression Parameters: Solvers <a class=\"anchor\" id=\"op2\"></a>\n",
    "\n",
    "For logistic regression, there is no single criticial hyperparameter to tune. However, tuning solvers can sometimes give better performance. From the scikit documentation (https://scikit-learn.org/stable/modules/linear_model.html#logistic-regression) , the 5 solvers are: “liblinear”, “newton-cg”, “lbfgs”, “sag” and “saga”. \n",
    "\n",
    "The “lbfgs” solver is used by default for its robustness. The “lbfgs” solver is recommended for use for small data-sets but for larger datasets its performance suffers. Each solver has its merits and demerits which are listed on the scikit documentation, and we tested all 5 solvers.\n",
    "\n",
    "Based on our trial and erorr, we found the liblinear solver returns highest accuracy. This is likely because logistic regression model using this solver behave as multiclass classifiers, which is appropriate for our use case.  "
   ]
  },
  {
   "cell_type": "code",
   "execution_count": 86,
   "metadata": {},
   "outputs": [
    {
     "data": {
      "image/png": "[encoded data removed]",
      "text/plain": [
       "<Figure size 720x504 with 2 Axes>"
      ]
     },
     "metadata": {
      "needs_background": "light"
     },
     "output_type": "display_data"
    },
    {
     "name": "stdout",
     "output_type": "stream",
     "text": [
      "The standard accuracy score is:  0.5621150783753189\n",
      "The recall score is:  0.5621150783753189\n",
      "The matthew's correlation coefficient is:  0.2216200301771318\n"
     ]
    }
   ],
   "source": [
    "#import libraries\n",
    "import warnings\n",
    "warnings.filterwarnings(\"ignore\")\n",
    "import pandas as pd\n",
    "import matplotlib.pyplot as plt\n",
    "import seaborn as sns\n",
    "from sklearn.model_selection import train_test_split\n",
    "from sklearn.linear_model import LogisticRegression\n",
    "from sklearn import metrics\n",
    "from sklearn.metrics import classification_report\n",
    "\n",
    "\n",
    "\n",
    "#Build the model\n",
    "clf = LogisticRegression(class_weight='balanced', solver = 'liblinear') # We set classweight=balanced to give more weight to minority class\n",
    "\n",
    "# Train the classifier\n",
    "clf.fit(train_X, train_Y)\n",
    "\n",
    "#test the model\n",
    "preds = clf.predict(test_X)\n",
    "\n",
    "#heat map for confusion matrix\n",
    "fig, ax = plt.subplots(figsize=(10,7))\n",
    "sb.heatmap(confusion_matrix(test_Y, preds), annot=True, fmt='d')\n",
    "plt.show()\n",
    "\n",
    "\n",
    "print(\"The standard accuracy score is: \", accuracy_score(test_Y.values, preds))\n",
    "print(\"The recall score is: \", sklearn.metrics.recall_score(test_Y.values, preds, average='micro'))\n",
    "print(\"The matthew's correlation coefficient is: \", sklearn.metrics.matthews_corrcoef(test_Y.values, preds))\n",
    "\n",
    "log_reg_acc = round( accuracy_score(test_Y.values, preds) * 100, 2)"
   ]
  },
  {
   "cell_type": "markdown",
   "metadata": {},
   "source": [
    "With the optimal solver, the accuracy for logistic regression significantly improved from 0.43 to 0.56."
   ]
  },
  {
   "cell_type": "markdown",
   "metadata": {},
   "source": [
    "[back to top](#top)"
   ]
  },
  {
   "cell_type": "markdown",
   "metadata": {},
   "source": [
    "## Model 3: K Nearest Neighbours <a class=\"anchor\" id=\"model3\"></a>"
   ]
  },
  {
   "cell_type": "markdown",
   "metadata": {},
   "source": [
    "K Nearest Neighbours is based on the idea of proximity, that is, data points with similar features are more likely to have the same output (ie damage_grade). It works by computing the distance between data points and creating clusters that minimises distance between them, iterating a few times to achieve the best results. We will need to test a few values of K to find the K that produces the best predictions.\n",
    "\n",
    "For KNN model, the most critical hyperparameter is number of neighbours, n_neighbors. n_neighbors have test value between 1 and 21. We tested out the accuracy of KNN model with n_neighbors of different values and found that n_neighbours = 10 gives highest accuracy. You may refer to appendix for KNN models with other n_neighbour values we attempted. "
   ]
  },
  {
   "cell_type": "code",
   "execution_count": 87,
   "metadata": {},
   "outputs": [
    {
     "name": "stdout",
     "output_type": "stream",
     "text": [
      "The standard accuracy score is:  0.7101360296233764\n"
     ]
    }
   ],
   "source": [
    "from sklearn.neighbors import KNeighborsClassifier\n",
    "\n",
    "knn = KNeighborsClassifier(n_neighbors = 10)\n",
    "knn.fit(train_X, train_Y)\n",
    "Y_pred = knn.predict(test_X)\n",
    "\n",
    "print(\"The standard accuracy score is: \", knn.score(test_X, test_Y))\n",
    "\n",
    "knn_acc = round(knn.score(test_X, test_Y) * 100, 2)"
   ]
  },
  {
   "cell_type": "markdown",
   "metadata": {},
   "source": [
    "[back to top](#top)"
   ]
  },
  {
   "cell_type": "markdown",
   "metadata": {},
   "source": [
    "## Model 4: Decision Tree <a class=\"anchor\" id=\"model4\"></a>"
   ]
  },
  {
   "cell_type": "markdown",
   "metadata": {},
   "source": [
    "This method teaches the model to make decisions based on the given data, by learning which features are more important in making the decision. It can be used for both regression and classification, but for this purpose, we will be using it to do classification. At each node of the tree, the model will make binary splits in such a way that minimises the cost function (such as Gini, for classification), making it a greedy algorithm.\n",
    "\n",
    "We test out a default decision tree model."
   ]
  },
  {
   "cell_type": "code",
   "execution_count": 88,
   "metadata": {},
   "outputs": [
    {
     "name": "stdout",
     "output_type": "stream",
     "text": [
      "Goodness of Fit of Model for Test Dataset\n",
      "Classification Accuracy: 0.6599834999328485\n",
      "Recall score:  0.6599834999328485\n",
      "Matthew's correlation coefficient:  0.388353774211266\n"
     ]
    }
   ],
   "source": [
    "# decision tree with train data\n",
    "dectree = DecisionTreeClassifier () # create the decision tree object\n",
    "dectree.fit(train_X, train_Y.values)      # train the decision tree model\n",
    "\n",
    "# predict responses\n",
    "y_train_pred = dectree.predict(train_X)\n",
    "y_test_pred = dectree.predict(test_X)\n",
    "\n",
    "\n",
    "# check goodness of model with test data\n",
    "print(\"Goodness of Fit of Model for Test Dataset\")\n",
    "print(\"Classification Accuracy:\", dectree.score(test_X, test_Y.values))\n",
    "print(\"Recall score: \", sklearn.metrics.recall_score(test_Y.values, y_test_pred, average='micro'))\n",
    "print(\"Matthew's correlation coefficient: \", sklearn.metrics.matthews_corrcoef(test_Y.values, y_test_pred))\n",
    "\n",
    "decision_tree_acc = round(dectree.score(test_X, test_Y.values) * 100, 2)"
   ]
  },
  {
   "cell_type": "markdown",
   "metadata": {},
   "source": [
    "### Optimizing Decision Tree: Max_depth <a class=\"anchor\" id=\"op4\"></a>\n",
    "\n",
    "The first parameter to tune is max_depth, which implies how deep the tree can be. The larger the max_depth value, the deeper the tree, the more splits it has. That means it is able to capture more information about our data set. \n",
    "\n",
    "Based on our trial and error, we found that max_depth = 20 gave highest accuracy. At larger max_depth values, our model likely overfits - where it  predicts all of the train data but does not generalize the findings for new data. At smaller max_depth values, our model does not predict the train data as accurately. The optimal max_depth value of 20 allows the model to predict the train data and generalize the findings for new data reasonably well."
   ]
  },
  {
   "cell_type": "code",
   "execution_count": 89,
   "metadata": {},
   "outputs": [
    {
     "name": "stdout",
     "output_type": "stream",
     "text": [
      "Goodness of Fit of Model for Test Dataset\n",
      "Classification Accuracy: 0.6966673701579018\n",
      "Recall score:  0.6966673701579018\n",
      "Matthew's correlation coefficient:  0.44222634287193313\n"
     ]
    }
   ],
   "source": [
    "# decision tree with train data\n",
    "dectree = DecisionTreeClassifier(max_depth = 20)  # create the decision tree object\n",
    "dectree.fit(train_X, train_Y.values)      # train the decision tree model\n",
    "\n",
    "# predict responses\n",
    "y_train_pred = dectree.predict(train_X)\n",
    "y_test_pred = dectree.predict(test_X)\n",
    "\n",
    "\n",
    "# check goodness of model with test data\n",
    "print(\"Goodness of Fit of Model for Test Dataset\")\n",
    "print(\"Classification Accuracy:\", dectree.score(test_X, test_Y.values))\n",
    "print(\"Recall score: \", sklearn.metrics.recall_score(test_Y.values, y_test_pred, average='micro'))\n",
    "print(\"Matthew's correlation coefficient: \", sklearn.metrics.matthews_corrcoef(test_Y.values, y_test_pred))\n",
    "\n",
    "decision_tree_acc = round(dectree.score(test_X, test_Y.values) * 100, 2)"
   ]
  },
  {
   "cell_type": "markdown",
   "metadata": {},
   "source": [
    "[back to top](#top)"
   ]
  },
  {
   "cell_type": "markdown",
   "metadata": {},
   "source": [
    "## Model 5: Random Forest Classifier <a class=\"anchor\" id=\"model5\"></a>"
   ]
  },
  {
   "cell_type": "markdown",
   "metadata": {},
   "source": [
    "This model can be used for both classification and regression, and is built on top of the Decision Tree method (Method 4). It workd by randomly selects data subsets, creates decision trees on each subset, and then vote for the best solution. The more trees there are in the forest, the more robust the model. While Random Forest can eliminate the problem of overfitting that a normal Decision Tree might experience, it is slower and might be difficult to interpret.\n",
    "\n",
    "We first employ a random forest classifier with default parameters."
   ]
  },
  {
   "cell_type": "code",
   "execution_count": 90,
   "metadata": {
    "scrolled": false
   },
   "outputs": [
    {
     "name": "stdout",
     "output_type": "stream",
     "text": [
      "[2 3 2 ... 2 2 2]\n",
      "The standard accuracy score is:  0.7114023138466261\n",
      "The recall score is:  0.7114023138466261\n",
      "The matthew's correlation coefficient is:  0.4595153215600796\n"
     ]
    },
    {
     "data": {
      "image/png": "[encoded data removed]",
      "text/plain": [
       "<Figure size 720x504 with 2 Axes>"
      ]
     },
     "metadata": {
      "needs_background": "light"
     },
     "output_type": "display_data"
    }
   ],
   "source": [
    "clf = RandomForestClassifier(n_jobs=4, \n",
    "                             random_state=0,\n",
    "                             criterion=\"gini\",\n",
    "                             n_estimators=100,\n",
    "                             verbose=False)\n",
    "\n",
    "clf.fit(train_X, train_Y.values)\n",
    "preds = clf.predict(test_X)\n",
    "print(preds)\n",
    "\n",
    "print(\"The standard accuracy score is: \", accuracy_score(test_Y.values, preds))\n",
    "print(\"The recall score is: \", sklearn.metrics.recall_score(test_Y.values, preds, average='micro'))\n",
    "print(\"The matthew's correlation coefficient is: \", sklearn.metrics.matthews_corrcoef(test_Y.values, preds))\n",
    "\n",
    "cm = pd.crosstab(test_Y.values, preds, rownames=['Actual'], colnames=['Predicted'])\n",
    "\n",
    "#heat map for confusion matrix\n",
    "fig, ax = plt.subplots(figsize=(10,7))\n",
    "sb.heatmap(cm, annot=True, fmt='d')\n",
    "plt.show()\n",
    "\n",
    "random_forest_acc = round( accuracy_score(test_Y.values, preds) * 100, 2)"
   ]
  },
  {
   "cell_type": "markdown",
   "metadata": {},
   "source": [
    "Interestingly, without hyperparameter tuning for Random Forest, this model already yields highest accuracy among all 5 models. In section 3, we will deep dive into hyperparameter tuning to further improve the Random Forest model."
   ]
  },
  {
   "cell_type": "markdown",
   "metadata": {},
   "source": [
    "[back to top](#top)"
   ]
  },
  {
   "cell_type": "markdown",
   "metadata": {},
   "source": [
    "# Model Selection <a class=\"anchor\" id=\"select\"></a>"
   ]
  },
  {
   "cell_type": "code",
   "execution_count": 91,
   "metadata": {},
   "outputs": [
    {
     "data": {
      "text/html": [
       "<div>\n",
       "<style scoped>\n",
       "    .dataframe tbody tr th:only-of-type {\n",
       "        vertical-align: middle;\n",
       "    }\n",
       "\n",
       "    .dataframe tbody tr th {\n",
       "        vertical-align: top;\n",
       "    }\n",
       "\n",
       "    .dataframe thead th {\n",
       "        text-align: right;\n",
       "    }\n",
       "</style>\n",
       "<table border=\"1\" class=\"dataframe\">\n",
       "  <thead>\n",
       "    <tr style=\"text-align: right;\">\n",
       "      <th></th>\n",
       "      <th>Model</th>\n",
       "      <th>Score</th>\n",
       "    </tr>\n",
       "  </thead>\n",
       "  <tbody>\n",
       "    <tr>\n",
       "      <td>2</td>\n",
       "      <td>Random Forest</td>\n",
       "      <td>71.140000</td>\n",
       "    </tr>\n",
       "    <tr>\n",
       "      <td>3</td>\n",
       "      <td>KNN</td>\n",
       "      <td>71.010000</td>\n",
       "    </tr>\n",
       "    <tr>\n",
       "      <td>0</td>\n",
       "      <td>Decision Tree</td>\n",
       "      <td>69.670000</td>\n",
       "    </tr>\n",
       "    <tr>\n",
       "      <td>4</td>\n",
       "      <td>ANN</td>\n",
       "      <td>59.954721</td>\n",
       "    </tr>\n",
       "    <tr>\n",
       "      <td>1</td>\n",
       "      <td>Logistic Regression</td>\n",
       "      <td>56.210000</td>\n",
       "    </tr>\n",
       "  </tbody>\n",
       "</table>\n",
       "</div>"
      ],
      "text/plain": [
       "                 Model      Score\n",
       "2        Random Forest  71.140000\n",
       "3                  KNN  71.010000\n",
       "0        Decision Tree  69.670000\n",
       "4                  ANN  59.954721\n",
       "1  Logistic Regression  56.210000"
      ]
     },
     "execution_count": 91,
     "metadata": {},
     "output_type": "execute_result"
    }
   ],
   "source": [
    "models = pd.DataFrame({\n",
    "    'Model': [ 'Decision Tree', 'Logistic Regression', 'Random Forest','KNN','ANN'],\n",
    "    'Score': [ decision_tree_acc,log_reg_acc, random_forest_acc, knn_acc, ann_acc]})\n",
    "\n",
    "models.sort_values(by='Score', ascending=False)"
   ]
  },
  {
   "cell_type": "markdown",
   "metadata": {},
   "source": [
    "The model with the highest accuracy is Random Forest. Random Forest is a classifcation model that comprises of many decision trees, and likely works well in this use case where the data set has many variables. \n",
    "\n",
    "Even though Random Forest and KNN have very similar accuracy scores, we must note that Random Forest has more hyperparameters we have yet to tune, unlike KNN which main hyperparameter to tune is number of neighbours. This means that Random Forest has even more potential for further tuning to improve its accuracy.\n",
    "\n",
    "Random Forest also has a short run time, especially compared to ANN model. \n",
    "\n",
    "With its high accuracy and short run time compared to the other models, we will select Random Forest as our model of choice. In the next part, we will employ various techniques to improve the accuracy of the Random Forest model. "
   ]
  },
  {
   "cell_type": "markdown",
   "metadata": {},
   "source": [
    "[back to top](#top)"
   ]
  },
  {
   "cell_type": "markdown",
   "metadata": {},
   "source": [
    "# Appendix <a class=\"anchor\" id=\"appendix\"></a>"
   ]
  },
  {
   "cell_type": "markdown",
   "metadata": {},
   "source": [
    "### KNN Model with n_neighbours varied"
   ]
  },
  {
   "cell_type": "markdown",
   "metadata": {},
   "source": [
    "KNN Model at lower bound value of n_neighbours"
   ]
  },
  {
   "cell_type": "code",
   "execution_count": 69,
   "metadata": {},
   "outputs": [
    {
     "name": "stdout",
     "output_type": "stream",
     "text": [
      "The standard accuracy score is:  0.6916214193894975\n"
     ]
    }
   ],
   "source": [
    "from sklearn.neighbors import KNeighborsClassifier\n",
    "\n",
    "knn = KNeighborsClassifier(n_neighbors = 3)\n",
    "knn.fit(train_X, train_Y)\n",
    "Y_pred = knn.predict(test_X)\n",
    "\n",
    "print(\"The standard accuracy score is: \", knn.score(test_X, test_Y))\n",
    "\n",
    "knn_acc = round(knn.score(test_X, test_Y) * 100, 2)"
   ]
  },
  {
   "cell_type": "markdown",
   "metadata": {},
   "source": [
    "KNN Model at n_neighbours =11, where optimal n_neighbours = 10"
   ]
  },
  {
   "cell_type": "code",
   "execution_count": 82,
   "metadata": {},
   "outputs": [
    {
     "name": "stdout",
     "output_type": "stream",
     "text": [
      "The standard accuracy score is:  0.7098482377544559\n"
     ]
    }
   ],
   "source": [
    "from sklearn.neighbors import KNeighborsClassifier\n",
    "\n",
    "knn = KNeighborsClassifier(n_neighbors = 11)\n",
    "knn.fit(train_X, train_Y)\n",
    "Y_pred = knn.predict(test_X)\n",
    "\n",
    "print(\"The standard accuracy score is: \", knn.score(test_X, test_Y))\n",
    "\n",
    "knn_acc = round(knn.score(test_X, test_Y) * 100, 2)"
   ]
  },
  {
   "cell_type": "markdown",
   "metadata": {},
   "source": [
    "[back to top](#top)"
   ]
  }
 ],
 "metadata": {
  "kernelspec": {
   "display_name": "Python 3",
   "language": "python",
   "name": "python3"
  },
  "language_info": {
   "codemirror_mode": {
    "name": "ipython",
    "version": 3
   },
   "file_extension": ".py",
   "mimetype": "text/x-python",
   "name": "python",
   "nbconvert_exporter": "python",
   "pygments_lexer": "ipython3",
   "version": "3.8.3"
  }
 },
 "nbformat": 4,
 "nbformat_minor": 2
}
